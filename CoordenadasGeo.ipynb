{
  "nbformat": 4,
  "nbformat_minor": 0,
  "metadata": {
    "colab": {
      "name": "CoordenadasGeo.ipynb",
      "provenance": [],
      "collapsed_sections": [],
      "authorship_tag": "ABX9TyOiA96E5HHbyRUHxB1inkhw",
      "include_colab_link": true
    },
    "kernelspec": {
      "name": "python3",
      "display_name": "Python 3"
    }
  },
  "cells": [
    {
      "cell_type": "markdown",
      "metadata": {
        "id": "view-in-github",
        "colab_type": "text"
      },
      "source": [
        "<a href=\"https://colab.research.google.com/github/piocode0110/WebScraping/blob/main/CoordenadasGeo.ipynb\" target=\"_parent\"><img src=\"https://colab.research.google.com/assets/colab-badge.svg\" alt=\"Open In Colab\"/></a>"
      ]
    },
    {
      "cell_type": "markdown",
      "metadata": {
        "id": "dpy6Ci0L_cQl"
      },
      "source": [
        "<h1><center>Caso de Estudio:</center></h1>\n",
        "\n",
        "Este ejercicio fue realizado por **[Piocode0110](https://www.linkedin.com/in/jamavapiocu/)** con fines exclusivemente academicos y no comerciales, cualquier uso ilegal estara fuera de mis intensiones.\n",
        "\n",
        "\n",
        "\n",
        "<img src=\"https://upload.wikimedia.org/wikipedia/commons/thumb/5/58/Latitud_y_Longitud_en_la_Tierra.svg/1280px-Latitud_y_Longitud_en_la_Tierra.svg.png\">"
      ]
    },
    {
      "cell_type": "code",
      "metadata": {
        "id": "KsIpLIWBSOUv"
      },
      "source": [
        "import pandas as pd\n",
        "import requests\n",
        "import random\n",
        "from bs4 import BeautifulSoup\n",
        "from tqdm import tqdm"
      ],
      "execution_count": 1,
      "outputs": []
    },
    {
      "cell_type": "code",
      "metadata": {
        "id": "lVBCkEiJSoTS"
      },
      "source": [
        "df=pd.read_html('https://www.antipodas.net/coordenadaspais/')"
      ],
      "execution_count": 2,
      "outputs": []
    },
    {
      "cell_type": "code",
      "metadata": {
        "colab": {
          "base_uri": "https://localhost:8080/"
        },
        "id": "ZQf-eOVT8VPq",
        "outputId": "83a86b44-c50d-4c8e-e8bd-cbb1e1ba3fc3"
      },
      "source": [
        "type(df)"
      ],
      "execution_count": 3,
      "outputs": [
        {
          "output_type": "execute_result",
          "data": {
            "text/plain": [
              "list"
            ]
          },
          "metadata": {
            "tags": []
          },
          "execution_count": 3
        }
      ]
    },
    {
      "cell_type": "code",
      "metadata": {
        "colab": {
          "base_uri": "https://localhost:8080/"
        },
        "id": "VPHcT5MNCBhW",
        "outputId": "971838fe-7f38-42ed-9f2d-1f583b76e3b1"
      },
      "source": [
        "df[0].columns"
      ],
      "execution_count": 4,
      "outputs": [
        {
          "output_type": "execute_result",
          "data": {
            "text/plain": [
              "Int64Index([0, 1, 2], dtype='int64')"
            ]
          },
          "metadata": {
            "tags": []
          },
          "execution_count": 4
        }
      ]
    },
    {
      "cell_type": "code",
      "metadata": {
        "colab": {
          "base_uri": "https://localhost:8080/"
        },
        "id": "6yuQRrCLGpyF",
        "outputId": "cd0c3133-bfbf-49c4-c7c1-092dceb560ec"
      },
      "source": [
        "df"
      ],
      "execution_count": 5,
      "outputs": [
        {
          "output_type": "execute_result",
          "data": {
            "text/plain": [
              "[                   0                        1                 2\n",
              " 0               País  Coordenadas Geográficas  Nº de Habitantes\n",
              " 1         Afganistán        N33°0'0\" E65°0'0\"        29.121.286\n",
              " 2            Albania     N41°19'60\" E19°49'0\"         2.986.952\n",
              " 3           Alemania         N51°0'0\" E9°0'0\"        81.802.257\n",
              " 4            Andorra       N42°30'0\" E1°36'0\"            84.000\n",
              " ..               ...                      ...               ...\n",
              " 237  Wallis y Futuna     S13°18'0\" O176°12'0\"               N/S\n",
              " 238            Yemen        N15°0'0\" E48°0'0\"        23.495.361\n",
              " 239           Yibuti       N11°30'0\" E43°0'0\"           740.528\n",
              " 240           Zambia        S15°0'0\" E30°0'0\"        13.460.305\n",
              " 241         Zimbabue        S20°0'0\" E30°0'0\"        11.651.858\n",
              " \n",
              " [242 rows x 3 columns]]"
            ]
          },
          "metadata": {
            "tags": []
          },
          "execution_count": 5
        }
      ]
    },
    {
      "cell_type": "code",
      "metadata": {
        "colab": {
          "base_uri": "https://localhost:8080/",
          "height": 422
        },
        "id": "SKKh3KE3Gp1i",
        "outputId": "66c13241-0875-4b1a-f542-e0f551dfdf95"
      },
      "source": [
        "df[0]"
      ],
      "execution_count": 6,
      "outputs": [
        {
          "output_type": "execute_result",
          "data": {
            "text/html": [
              "<div>\n",
              "<style scoped>\n",
              "    .dataframe tbody tr th:only-of-type {\n",
              "        vertical-align: middle;\n",
              "    }\n",
              "\n",
              "    .dataframe tbody tr th {\n",
              "        vertical-align: top;\n",
              "    }\n",
              "\n",
              "    .dataframe thead th {\n",
              "        text-align: right;\n",
              "    }\n",
              "</style>\n",
              "<table border=\"1\" class=\"dataframe\">\n",
              "  <thead>\n",
              "    <tr style=\"text-align: right;\">\n",
              "      <th></th>\n",
              "      <th>0</th>\n",
              "      <th>1</th>\n",
              "      <th>2</th>\n",
              "    </tr>\n",
              "  </thead>\n",
              "  <tbody>\n",
              "    <tr>\n",
              "      <th>0</th>\n",
              "      <td>País</td>\n",
              "      <td>Coordenadas Geográficas</td>\n",
              "      <td>Nº de Habitantes</td>\n",
              "    </tr>\n",
              "    <tr>\n",
              "      <th>1</th>\n",
              "      <td>Afganistán</td>\n",
              "      <td>N33°0'0\" E65°0'0\"</td>\n",
              "      <td>29.121.286</td>\n",
              "    </tr>\n",
              "    <tr>\n",
              "      <th>2</th>\n",
              "      <td>Albania</td>\n",
              "      <td>N41°19'60\" E19°49'0\"</td>\n",
              "      <td>2.986.952</td>\n",
              "    </tr>\n",
              "    <tr>\n",
              "      <th>3</th>\n",
              "      <td>Alemania</td>\n",
              "      <td>N51°0'0\" E9°0'0\"</td>\n",
              "      <td>81.802.257</td>\n",
              "    </tr>\n",
              "    <tr>\n",
              "      <th>4</th>\n",
              "      <td>Andorra</td>\n",
              "      <td>N42°30'0\" E1°36'0\"</td>\n",
              "      <td>84.000</td>\n",
              "    </tr>\n",
              "    <tr>\n",
              "      <th>...</th>\n",
              "      <td>...</td>\n",
              "      <td>...</td>\n",
              "      <td>...</td>\n",
              "    </tr>\n",
              "    <tr>\n",
              "      <th>237</th>\n",
              "      <td>Wallis y Futuna</td>\n",
              "      <td>S13°18'0\" O176°12'0\"</td>\n",
              "      <td>N/S</td>\n",
              "    </tr>\n",
              "    <tr>\n",
              "      <th>238</th>\n",
              "      <td>Yemen</td>\n",
              "      <td>N15°0'0\" E48°0'0\"</td>\n",
              "      <td>23.495.361</td>\n",
              "    </tr>\n",
              "    <tr>\n",
              "      <th>239</th>\n",
              "      <td>Yibuti</td>\n",
              "      <td>N11°30'0\" E43°0'0\"</td>\n",
              "      <td>740.528</td>\n",
              "    </tr>\n",
              "    <tr>\n",
              "      <th>240</th>\n",
              "      <td>Zambia</td>\n",
              "      <td>S15°0'0\" E30°0'0\"</td>\n",
              "      <td>13.460.305</td>\n",
              "    </tr>\n",
              "    <tr>\n",
              "      <th>241</th>\n",
              "      <td>Zimbabue</td>\n",
              "      <td>S20°0'0\" E30°0'0\"</td>\n",
              "      <td>11.651.858</td>\n",
              "    </tr>\n",
              "  </tbody>\n",
              "</table>\n",
              "<p>242 rows × 3 columns</p>\n",
              "</div>"
            ],
            "text/plain": [
              "                   0                        1                 2\n",
              "0               País  Coordenadas Geográficas  Nº de Habitantes\n",
              "1         Afganistán        N33°0'0\" E65°0'0\"        29.121.286\n",
              "2            Albania     N41°19'60\" E19°49'0\"         2.986.952\n",
              "3           Alemania         N51°0'0\" E9°0'0\"        81.802.257\n",
              "4            Andorra       N42°30'0\" E1°36'0\"            84.000\n",
              "..               ...                      ...               ...\n",
              "237  Wallis y Futuna     S13°18'0\" O176°12'0\"               N/S\n",
              "238            Yemen        N15°0'0\" E48°0'0\"        23.495.361\n",
              "239           Yibuti       N11°30'0\" E43°0'0\"           740.528\n",
              "240           Zambia        S15°0'0\" E30°0'0\"        13.460.305\n",
              "241         Zimbabue        S20°0'0\" E30°0'0\"        11.651.858\n",
              "\n",
              "[242 rows x 3 columns]"
            ]
          },
          "metadata": {
            "tags": []
          },
          "execution_count": 6
        }
      ]
    },
    {
      "cell_type": "code",
      "metadata": {
        "id": "ohQYlxQVGp6k"
      },
      "source": [
        "df=df[0].rename(columns={0:'Pais',1:'Latitud y Longitud',2:'Personas'})"
      ],
      "execution_count": 7,
      "outputs": []
    },
    {
      "cell_type": "code",
      "metadata": {
        "colab": {
          "base_uri": "https://localhost:8080/",
          "height": 422
        },
        "id": "fHWs7m1qGp-H",
        "outputId": "11b24074-3e82-4e0b-a6e9-88f02f224f23"
      },
      "source": [
        "df"
      ],
      "execution_count": 8,
      "outputs": [
        {
          "output_type": "execute_result",
          "data": {
            "text/html": [
              "<div>\n",
              "<style scoped>\n",
              "    .dataframe tbody tr th:only-of-type {\n",
              "        vertical-align: middle;\n",
              "    }\n",
              "\n",
              "    .dataframe tbody tr th {\n",
              "        vertical-align: top;\n",
              "    }\n",
              "\n",
              "    .dataframe thead th {\n",
              "        text-align: right;\n",
              "    }\n",
              "</style>\n",
              "<table border=\"1\" class=\"dataframe\">\n",
              "  <thead>\n",
              "    <tr style=\"text-align: right;\">\n",
              "      <th></th>\n",
              "      <th>Pais</th>\n",
              "      <th>Latitud y Longitud</th>\n",
              "      <th>Personas</th>\n",
              "    </tr>\n",
              "  </thead>\n",
              "  <tbody>\n",
              "    <tr>\n",
              "      <th>0</th>\n",
              "      <td>País</td>\n",
              "      <td>Coordenadas Geográficas</td>\n",
              "      <td>Nº de Habitantes</td>\n",
              "    </tr>\n",
              "    <tr>\n",
              "      <th>1</th>\n",
              "      <td>Afganistán</td>\n",
              "      <td>N33°0'0\" E65°0'0\"</td>\n",
              "      <td>29.121.286</td>\n",
              "    </tr>\n",
              "    <tr>\n",
              "      <th>2</th>\n",
              "      <td>Albania</td>\n",
              "      <td>N41°19'60\" E19°49'0\"</td>\n",
              "      <td>2.986.952</td>\n",
              "    </tr>\n",
              "    <tr>\n",
              "      <th>3</th>\n",
              "      <td>Alemania</td>\n",
              "      <td>N51°0'0\" E9°0'0\"</td>\n",
              "      <td>81.802.257</td>\n",
              "    </tr>\n",
              "    <tr>\n",
              "      <th>4</th>\n",
              "      <td>Andorra</td>\n",
              "      <td>N42°30'0\" E1°36'0\"</td>\n",
              "      <td>84.000</td>\n",
              "    </tr>\n",
              "    <tr>\n",
              "      <th>...</th>\n",
              "      <td>...</td>\n",
              "      <td>...</td>\n",
              "      <td>...</td>\n",
              "    </tr>\n",
              "    <tr>\n",
              "      <th>237</th>\n",
              "      <td>Wallis y Futuna</td>\n",
              "      <td>S13°18'0\" O176°12'0\"</td>\n",
              "      <td>N/S</td>\n",
              "    </tr>\n",
              "    <tr>\n",
              "      <th>238</th>\n",
              "      <td>Yemen</td>\n",
              "      <td>N15°0'0\" E48°0'0\"</td>\n",
              "      <td>23.495.361</td>\n",
              "    </tr>\n",
              "    <tr>\n",
              "      <th>239</th>\n",
              "      <td>Yibuti</td>\n",
              "      <td>N11°30'0\" E43°0'0\"</td>\n",
              "      <td>740.528</td>\n",
              "    </tr>\n",
              "    <tr>\n",
              "      <th>240</th>\n",
              "      <td>Zambia</td>\n",
              "      <td>S15°0'0\" E30°0'0\"</td>\n",
              "      <td>13.460.305</td>\n",
              "    </tr>\n",
              "    <tr>\n",
              "      <th>241</th>\n",
              "      <td>Zimbabue</td>\n",
              "      <td>S20°0'0\" E30°0'0\"</td>\n",
              "      <td>11.651.858</td>\n",
              "    </tr>\n",
              "  </tbody>\n",
              "</table>\n",
              "<p>242 rows × 3 columns</p>\n",
              "</div>"
            ],
            "text/plain": [
              "                Pais       Latitud y Longitud          Personas\n",
              "0               País  Coordenadas Geográficas  Nº de Habitantes\n",
              "1         Afganistán        N33°0'0\" E65°0'0\"        29.121.286\n",
              "2            Albania     N41°19'60\" E19°49'0\"         2.986.952\n",
              "3           Alemania         N51°0'0\" E9°0'0\"        81.802.257\n",
              "4            Andorra       N42°30'0\" E1°36'0\"            84.000\n",
              "..               ...                      ...               ...\n",
              "237  Wallis y Futuna     S13°18'0\" O176°12'0\"               N/S\n",
              "238            Yemen        N15°0'0\" E48°0'0\"        23.495.361\n",
              "239           Yibuti       N11°30'0\" E43°0'0\"           740.528\n",
              "240           Zambia        S15°0'0\" E30°0'0\"        13.460.305\n",
              "241         Zimbabue        S20°0'0\" E30°0'0\"        11.651.858\n",
              "\n",
              "[242 rows x 3 columns]"
            ]
          },
          "metadata": {
            "tags": []
          },
          "execution_count": 8
        }
      ]
    },
    {
      "cell_type": "code",
      "metadata": {
        "id": "lIAka8ruGqCc"
      },
      "source": [
        "df=df.drop([0],axis=0)\n",
        "df=df.drop(columns='Personas')"
      ],
      "execution_count": 9,
      "outputs": []
    },
    {
      "cell_type": "code",
      "metadata": {
        "colab": {
          "base_uri": "https://localhost:8080/",
          "height": 422
        },
        "id": "ohEyDkWDGqHk",
        "outputId": "df7aad37-86fd-4035-d2f5-2037417b0a47"
      },
      "source": [
        "df"
      ],
      "execution_count": 10,
      "outputs": [
        {
          "output_type": "execute_result",
          "data": {
            "text/html": [
              "<div>\n",
              "<style scoped>\n",
              "    .dataframe tbody tr th:only-of-type {\n",
              "        vertical-align: middle;\n",
              "    }\n",
              "\n",
              "    .dataframe tbody tr th {\n",
              "        vertical-align: top;\n",
              "    }\n",
              "\n",
              "    .dataframe thead th {\n",
              "        text-align: right;\n",
              "    }\n",
              "</style>\n",
              "<table border=\"1\" class=\"dataframe\">\n",
              "  <thead>\n",
              "    <tr style=\"text-align: right;\">\n",
              "      <th></th>\n",
              "      <th>Pais</th>\n",
              "      <th>Latitud y Longitud</th>\n",
              "    </tr>\n",
              "  </thead>\n",
              "  <tbody>\n",
              "    <tr>\n",
              "      <th>1</th>\n",
              "      <td>Afganistán</td>\n",
              "      <td>N33°0'0\" E65°0'0\"</td>\n",
              "    </tr>\n",
              "    <tr>\n",
              "      <th>2</th>\n",
              "      <td>Albania</td>\n",
              "      <td>N41°19'60\" E19°49'0\"</td>\n",
              "    </tr>\n",
              "    <tr>\n",
              "      <th>3</th>\n",
              "      <td>Alemania</td>\n",
              "      <td>N51°0'0\" E9°0'0\"</td>\n",
              "    </tr>\n",
              "    <tr>\n",
              "      <th>4</th>\n",
              "      <td>Andorra</td>\n",
              "      <td>N42°30'0\" E1°36'0\"</td>\n",
              "    </tr>\n",
              "    <tr>\n",
              "      <th>5</th>\n",
              "      <td>Angola</td>\n",
              "      <td>S12°30'0\" E18°30'0\"</td>\n",
              "    </tr>\n",
              "    <tr>\n",
              "      <th>...</th>\n",
              "      <td>...</td>\n",
              "      <td>...</td>\n",
              "    </tr>\n",
              "    <tr>\n",
              "      <th>237</th>\n",
              "      <td>Wallis y Futuna</td>\n",
              "      <td>S13°18'0\" O176°12'0\"</td>\n",
              "    </tr>\n",
              "    <tr>\n",
              "      <th>238</th>\n",
              "      <td>Yemen</td>\n",
              "      <td>N15°0'0\" E48°0'0\"</td>\n",
              "    </tr>\n",
              "    <tr>\n",
              "      <th>239</th>\n",
              "      <td>Yibuti</td>\n",
              "      <td>N11°30'0\" E43°0'0\"</td>\n",
              "    </tr>\n",
              "    <tr>\n",
              "      <th>240</th>\n",
              "      <td>Zambia</td>\n",
              "      <td>S15°0'0\" E30°0'0\"</td>\n",
              "    </tr>\n",
              "    <tr>\n",
              "      <th>241</th>\n",
              "      <td>Zimbabue</td>\n",
              "      <td>S20°0'0\" E30°0'0\"</td>\n",
              "    </tr>\n",
              "  </tbody>\n",
              "</table>\n",
              "<p>241 rows × 2 columns</p>\n",
              "</div>"
            ],
            "text/plain": [
              "                Pais    Latitud y Longitud\n",
              "1         Afganistán     N33°0'0\" E65°0'0\"\n",
              "2            Albania  N41°19'60\" E19°49'0\"\n",
              "3           Alemania      N51°0'0\" E9°0'0\"\n",
              "4            Andorra    N42°30'0\" E1°36'0\"\n",
              "5             Angola   S12°30'0\" E18°30'0\"\n",
              "..               ...                   ...\n",
              "237  Wallis y Futuna  S13°18'0\" O176°12'0\"\n",
              "238            Yemen     N15°0'0\" E48°0'0\"\n",
              "239           Yibuti    N11°30'0\" E43°0'0\"\n",
              "240           Zambia     S15°0'0\" E30°0'0\"\n",
              "241         Zimbabue     S20°0'0\" E30°0'0\"\n",
              "\n",
              "[241 rows x 2 columns]"
            ]
          },
          "metadata": {
            "tags": []
          },
          "execution_count": 10
        }
      ]
    },
    {
      "cell_type": "markdown",
      "metadata": {
        "id": "g8FKAESo7Tpa"
      },
      "source": [
        "##con este reset_index, por ser ya un dataframe se elimina el primer registro que esta en Cero. Para comenzar en la posicion 1"
      ]
    },
    {
      "cell_type": "code",
      "metadata": {
        "id": "CXSnSe7U2JJp"
      },
      "source": [
        "df=df.reset_index()\n",
        "df=df.drop(columns='index')"
      ],
      "execution_count": 11,
      "outputs": []
    },
    {
      "cell_type": "code",
      "metadata": {
        "colab": {
          "base_uri": "https://localhost:8080/",
          "height": 422
        },
        "id": "-4zWyLhxRA3r",
        "outputId": "cb31bf7c-6b60-486b-a059-cbf795496bc1"
      },
      "source": [
        "df"
      ],
      "execution_count": 12,
      "outputs": [
        {
          "output_type": "execute_result",
          "data": {
            "text/html": [
              "<div>\n",
              "<style scoped>\n",
              "    .dataframe tbody tr th:only-of-type {\n",
              "        vertical-align: middle;\n",
              "    }\n",
              "\n",
              "    .dataframe tbody tr th {\n",
              "        vertical-align: top;\n",
              "    }\n",
              "\n",
              "    .dataframe thead th {\n",
              "        text-align: right;\n",
              "    }\n",
              "</style>\n",
              "<table border=\"1\" class=\"dataframe\">\n",
              "  <thead>\n",
              "    <tr style=\"text-align: right;\">\n",
              "      <th></th>\n",
              "      <th>Pais</th>\n",
              "      <th>Latitud y Longitud</th>\n",
              "    </tr>\n",
              "  </thead>\n",
              "  <tbody>\n",
              "    <tr>\n",
              "      <th>0</th>\n",
              "      <td>Afganistán</td>\n",
              "      <td>N33°0'0\" E65°0'0\"</td>\n",
              "    </tr>\n",
              "    <tr>\n",
              "      <th>1</th>\n",
              "      <td>Albania</td>\n",
              "      <td>N41°19'60\" E19°49'0\"</td>\n",
              "    </tr>\n",
              "    <tr>\n",
              "      <th>2</th>\n",
              "      <td>Alemania</td>\n",
              "      <td>N51°0'0\" E9°0'0\"</td>\n",
              "    </tr>\n",
              "    <tr>\n",
              "      <th>3</th>\n",
              "      <td>Andorra</td>\n",
              "      <td>N42°30'0\" E1°36'0\"</td>\n",
              "    </tr>\n",
              "    <tr>\n",
              "      <th>4</th>\n",
              "      <td>Angola</td>\n",
              "      <td>S12°30'0\" E18°30'0\"</td>\n",
              "    </tr>\n",
              "    <tr>\n",
              "      <th>...</th>\n",
              "      <td>...</td>\n",
              "      <td>...</td>\n",
              "    </tr>\n",
              "    <tr>\n",
              "      <th>236</th>\n",
              "      <td>Wallis y Futuna</td>\n",
              "      <td>S13°18'0\" O176°12'0\"</td>\n",
              "    </tr>\n",
              "    <tr>\n",
              "      <th>237</th>\n",
              "      <td>Yemen</td>\n",
              "      <td>N15°0'0\" E48°0'0\"</td>\n",
              "    </tr>\n",
              "    <tr>\n",
              "      <th>238</th>\n",
              "      <td>Yibuti</td>\n",
              "      <td>N11°30'0\" E43°0'0\"</td>\n",
              "    </tr>\n",
              "    <tr>\n",
              "      <th>239</th>\n",
              "      <td>Zambia</td>\n",
              "      <td>S15°0'0\" E30°0'0\"</td>\n",
              "    </tr>\n",
              "    <tr>\n",
              "      <th>240</th>\n",
              "      <td>Zimbabue</td>\n",
              "      <td>S20°0'0\" E30°0'0\"</td>\n",
              "    </tr>\n",
              "  </tbody>\n",
              "</table>\n",
              "<p>241 rows × 2 columns</p>\n",
              "</div>"
            ],
            "text/plain": [
              "                Pais    Latitud y Longitud\n",
              "0         Afganistán     N33°0'0\" E65°0'0\"\n",
              "1            Albania  N41°19'60\" E19°49'0\"\n",
              "2           Alemania      N51°0'0\" E9°0'0\"\n",
              "3            Andorra    N42°30'0\" E1°36'0\"\n",
              "4             Angola   S12°30'0\" E18°30'0\"\n",
              "..               ...                   ...\n",
              "236  Wallis y Futuna  S13°18'0\" O176°12'0\"\n",
              "237            Yemen     N15°0'0\" E48°0'0\"\n",
              "238           Yibuti    N11°30'0\" E43°0'0\"\n",
              "239           Zambia     S15°0'0\" E30°0'0\"\n",
              "240         Zimbabue     S20°0'0\" E30°0'0\"\n",
              "\n",
              "[241 rows x 2 columns]"
            ]
          },
          "metadata": {
            "tags": []
          },
          "execution_count": 12
        }
      ]
    },
    {
      "cell_type": "code",
      "metadata": {
        "colab": {
          "base_uri": "https://localhost:8080/",
          "height": 35
        },
        "id": "lXqPlNKeTmAT",
        "outputId": "52f7f6c3-1197-4cb9-919c-57c42aad1e79"
      },
      "source": [
        "df['Latitud y Longitud'][1].split()[0]#latitud\n",
        "#df['Latitud y Longitud'][1][0:8] #latitud otra forma"
      ],
      "execution_count": 13,
      "outputs": [
        {
          "output_type": "execute_result",
          "data": {
            "application/vnd.google.colaboratory.intrinsic+json": {
              "type": "string"
            },
            "text/plain": [
              "'N41°19\\'60\"'"
            ]
          },
          "metadata": {
            "tags": []
          },
          "execution_count": 13
        }
      ]
    },
    {
      "cell_type": "code",
      "metadata": {
        "colab": {
          "base_uri": "https://localhost:8080/",
          "height": 35
        },
        "id": "pKSmtSsq8d6S",
        "outputId": "909bf592-b06c-442e-ed15-7b007f092835"
      },
      "source": [
        "df['Latitud y Longitud'][0].split()[1]#longitud\n",
        "#df['Latitud y Longitud'][1][8:17] otra forma de hacer longitud"
      ],
      "execution_count": 14,
      "outputs": [
        {
          "output_type": "execute_result",
          "data": {
            "application/vnd.google.colaboratory.intrinsic+json": {
              "type": "string"
            },
            "text/plain": [
              "'E65°0\\'0\"'"
            ]
          },
          "metadata": {
            "tags": []
          },
          "execution_count": 14
        }
      ]
    },
    {
      "cell_type": "markdown",
      "metadata": {
        "id": "eBkFfPft7jZJ"
      },
      "source": [
        "##se crea las dos columnas Latitud y Longitud. y asi colocar los datos separados"
      ]
    },
    {
      "cell_type": "code",
      "metadata": {
        "id": "IP_GC94n1hBk"
      },
      "source": [
        "df['Latitud']= df['Latitud y Longitud'].apply(lambda x: x.split()[0])\n",
        "df['Longitud']= df['Latitud y Longitud'].apply(lambda x: x.split()[1])"
      ],
      "execution_count": 15,
      "outputs": []
    },
    {
      "cell_type": "code",
      "metadata": {
        "colab": {
          "base_uri": "https://localhost:8080/",
          "height": 422
        },
        "id": "UpGP-TbO1hSb",
        "outputId": "3f4e64b5-91c2-4c6f-be8e-cfef24c01d6c"
      },
      "source": [
        "df"
      ],
      "execution_count": 16,
      "outputs": [
        {
          "output_type": "execute_result",
          "data": {
            "text/html": [
              "<div>\n",
              "<style scoped>\n",
              "    .dataframe tbody tr th:only-of-type {\n",
              "        vertical-align: middle;\n",
              "    }\n",
              "\n",
              "    .dataframe tbody tr th {\n",
              "        vertical-align: top;\n",
              "    }\n",
              "\n",
              "    .dataframe thead th {\n",
              "        text-align: right;\n",
              "    }\n",
              "</style>\n",
              "<table border=\"1\" class=\"dataframe\">\n",
              "  <thead>\n",
              "    <tr style=\"text-align: right;\">\n",
              "      <th></th>\n",
              "      <th>Pais</th>\n",
              "      <th>Latitud y Longitud</th>\n",
              "      <th>Latitud</th>\n",
              "      <th>Longitud</th>\n",
              "    </tr>\n",
              "  </thead>\n",
              "  <tbody>\n",
              "    <tr>\n",
              "      <th>0</th>\n",
              "      <td>Afganistán</td>\n",
              "      <td>N33°0'0\" E65°0'0\"</td>\n",
              "      <td>N33°0'0\"</td>\n",
              "      <td>E65°0'0\"</td>\n",
              "    </tr>\n",
              "    <tr>\n",
              "      <th>1</th>\n",
              "      <td>Albania</td>\n",
              "      <td>N41°19'60\" E19°49'0\"</td>\n",
              "      <td>N41°19'60\"</td>\n",
              "      <td>E19°49'0\"</td>\n",
              "    </tr>\n",
              "    <tr>\n",
              "      <th>2</th>\n",
              "      <td>Alemania</td>\n",
              "      <td>N51°0'0\" E9°0'0\"</td>\n",
              "      <td>N51°0'0\"</td>\n",
              "      <td>E9°0'0\"</td>\n",
              "    </tr>\n",
              "    <tr>\n",
              "      <th>3</th>\n",
              "      <td>Andorra</td>\n",
              "      <td>N42°30'0\" E1°36'0\"</td>\n",
              "      <td>N42°30'0\"</td>\n",
              "      <td>E1°36'0\"</td>\n",
              "    </tr>\n",
              "    <tr>\n",
              "      <th>4</th>\n",
              "      <td>Angola</td>\n",
              "      <td>S12°30'0\" E18°30'0\"</td>\n",
              "      <td>S12°30'0\"</td>\n",
              "      <td>E18°30'0\"</td>\n",
              "    </tr>\n",
              "    <tr>\n",
              "      <th>...</th>\n",
              "      <td>...</td>\n",
              "      <td>...</td>\n",
              "      <td>...</td>\n",
              "      <td>...</td>\n",
              "    </tr>\n",
              "    <tr>\n",
              "      <th>236</th>\n",
              "      <td>Wallis y Futuna</td>\n",
              "      <td>S13°18'0\" O176°12'0\"</td>\n",
              "      <td>S13°18'0\"</td>\n",
              "      <td>O176°12'0\"</td>\n",
              "    </tr>\n",
              "    <tr>\n",
              "      <th>237</th>\n",
              "      <td>Yemen</td>\n",
              "      <td>N15°0'0\" E48°0'0\"</td>\n",
              "      <td>N15°0'0\"</td>\n",
              "      <td>E48°0'0\"</td>\n",
              "    </tr>\n",
              "    <tr>\n",
              "      <th>238</th>\n",
              "      <td>Yibuti</td>\n",
              "      <td>N11°30'0\" E43°0'0\"</td>\n",
              "      <td>N11°30'0\"</td>\n",
              "      <td>E43°0'0\"</td>\n",
              "    </tr>\n",
              "    <tr>\n",
              "      <th>239</th>\n",
              "      <td>Zambia</td>\n",
              "      <td>S15°0'0\" E30°0'0\"</td>\n",
              "      <td>S15°0'0\"</td>\n",
              "      <td>E30°0'0\"</td>\n",
              "    </tr>\n",
              "    <tr>\n",
              "      <th>240</th>\n",
              "      <td>Zimbabue</td>\n",
              "      <td>S20°0'0\" E30°0'0\"</td>\n",
              "      <td>S20°0'0\"</td>\n",
              "      <td>E30°0'0\"</td>\n",
              "    </tr>\n",
              "  </tbody>\n",
              "</table>\n",
              "<p>241 rows × 4 columns</p>\n",
              "</div>"
            ],
            "text/plain": [
              "                Pais    Latitud y Longitud     Latitud    Longitud\n",
              "0         Afganistán     N33°0'0\" E65°0'0\"    N33°0'0\"    E65°0'0\"\n",
              "1            Albania  N41°19'60\" E19°49'0\"  N41°19'60\"   E19°49'0\"\n",
              "2           Alemania      N51°0'0\" E9°0'0\"    N51°0'0\"     E9°0'0\"\n",
              "3            Andorra    N42°30'0\" E1°36'0\"   N42°30'0\"    E1°36'0\"\n",
              "4             Angola   S12°30'0\" E18°30'0\"   S12°30'0\"   E18°30'0\"\n",
              "..               ...                   ...         ...         ...\n",
              "236  Wallis y Futuna  S13°18'0\" O176°12'0\"   S13°18'0\"  O176°12'0\"\n",
              "237            Yemen     N15°0'0\" E48°0'0\"    N15°0'0\"    E48°0'0\"\n",
              "238           Yibuti    N11°30'0\" E43°0'0\"   N11°30'0\"    E43°0'0\"\n",
              "239           Zambia     S15°0'0\" E30°0'0\"    S15°0'0\"    E30°0'0\"\n",
              "240         Zimbabue     S20°0'0\" E30°0'0\"    S20°0'0\"    E30°0'0\"\n",
              "\n",
              "[241 rows x 4 columns]"
            ]
          },
          "metadata": {
            "tags": []
          },
          "execution_count": 16
        }
      ]
    },
    {
      "cell_type": "code",
      "metadata": {
        "colab": {
          "base_uri": "https://localhost:8080/"
        },
        "id": "wPr59u7vK0o7",
        "outputId": "081260ab-5d95-457a-c95d-9695a3a0e79d"
      },
      "source": [
        "type('Latitud')"
      ],
      "execution_count": 17,
      "outputs": [
        {
          "output_type": "execute_result",
          "data": {
            "text/plain": [
              "str"
            ]
          },
          "metadata": {
            "tags": []
          },
          "execution_count": 17
        }
      ]
    },
    {
      "cell_type": "markdown",
      "metadata": {
        "id": "MjRCbebgTfmP"
      },
      "source": [
        "#Separamos los valores de Latitud "
      ]
    },
    {
      "cell_type": "code",
      "metadata": {
        "colab": {
          "base_uri": "https://localhost:8080/",
          "height": 35
        },
        "id": "P7p0aq-tMSvH",
        "outputId": "6c6a05e3-61d9-4d27-9719-566658ece322"
      },
      "source": [
        "df['Latitud'][0]"
      ],
      "execution_count": 18,
      "outputs": [
        {
          "output_type": "execute_result",
          "data": {
            "application/vnd.google.colaboratory.intrinsic+json": {
              "type": "string"
            },
            "text/plain": [
              "'N33°0\\'0\"'"
            ]
          },
          "metadata": {
            "tags": []
          },
          "execution_count": 18
        }
      ]
    },
    {
      "cell_type": "code",
      "metadata": {
        "colab": {
          "base_uri": "https://localhost:8080/",
          "height": 35
        },
        "id": "ZJsmJQZAMSyh",
        "outputId": "dc0042d1-ba42-4cb3-a1f3-033c387612f0"
      },
      "source": [
        "df['Latitud'][0][0] # Polo Norte o Sur"
      ],
      "execution_count": 19,
      "outputs": [
        {
          "output_type": "execute_result",
          "data": {
            "application/vnd.google.colaboratory.intrinsic+json": {
              "type": "string"
            },
            "text/plain": [
              "'N'"
            ]
          },
          "metadata": {
            "tags": []
          },
          "execution_count": 19
        }
      ]
    },
    {
      "cell_type": "code",
      "metadata": {
        "colab": {
          "base_uri": "https://localhost:8080/"
        },
        "id": "eciuuX30MS2n",
        "outputId": "275a0d2d-c97b-4d4a-81e7-c8eac6343c6f"
      },
      "source": [
        "float(df['Latitud'][0].split('°')[0][1:]) #se realizo un split con (rango de mi posicion 1 hasta grado(°))se paso a flotante ya que era str"
      ],
      "execution_count": 20,
      "outputs": [
        {
          "output_type": "execute_result",
          "data": {
            "text/plain": [
              "33.0"
            ]
          },
          "metadata": {
            "tags": []
          },
          "execution_count": 20
        }
      ]
    },
    {
      "cell_type": "code",
      "metadata": {
        "id": "1cd7MaRHMS6d"
      },
      "source": [
        "#int(float(df['Latitud'][0].split('°')[0][1:]))# se pasa a int, pero es lo mismo que la linea de arriba"
      ],
      "execution_count": 21,
      "outputs": []
    },
    {
      "cell_type": "code",
      "metadata": {
        "colab": {
          "base_uri": "https://localhost:8080/"
        },
        "id": "XPmQ9vBePieb",
        "outputId": "a2e47ee8-9602-4bcf-c1d5-89282102fb01"
      },
      "source": [
        "float(df['Latitud'][0].split('°')[1].split(\"'\")[0])#se utiliza el split para separar el min(rango ° hasta ')"
      ],
      "execution_count": 22,
      "outputs": [
        {
          "output_type": "execute_result",
          "data": {
            "text/plain": [
              "0.0"
            ]
          },
          "metadata": {
            "tags": []
          },
          "execution_count": 22
        }
      ]
    },
    {
      "cell_type": "code",
      "metadata": {
        "colab": {
          "base_uri": "https://localhost:8080/"
        },
        "id": "2JxBkaaLPih0",
        "outputId": "c521f707-5726-47b1-8650-e285054412e4"
      },
      "source": [
        "float(df['Latitud'][0].split('°')[1].split(\"'\")[1][:-1])#se utiliza el split para separar el seg(rango ° hasta ')"
      ],
      "execution_count": 23,
      "outputs": [
        {
          "output_type": "execute_result",
          "data": {
            "text/plain": [
              "0.0"
            ]
          },
          "metadata": {
            "tags": []
          },
          "execution_count": 23
        }
      ]
    },
    {
      "cell_type": "markdown",
      "metadata": {
        "id": "zpvMm7VtTq-L"
      },
      "source": [
        "#Separamos los valores de Longitud"
      ]
    },
    {
      "cell_type": "code",
      "metadata": {
        "colab": {
          "base_uri": "https://localhost:8080/",
          "height": 35
        },
        "id": "fw-jqklzPil1",
        "outputId": "b38d39c4-2d5c-4f50-fcde-c339ba2a2963"
      },
      "source": [
        "df['Longitud'][0]"
      ],
      "execution_count": 24,
      "outputs": [
        {
          "output_type": "execute_result",
          "data": {
            "application/vnd.google.colaboratory.intrinsic+json": {
              "type": "string"
            },
            "text/plain": [
              "'E65°0\\'0\"'"
            ]
          },
          "metadata": {
            "tags": []
          },
          "execution_count": 24
        }
      ]
    },
    {
      "cell_type": "code",
      "metadata": {
        "colab": {
          "base_uri": "https://localhost:8080/",
          "height": 35
        },
        "id": "bF4URJnZPipL",
        "outputId": "59c1a07f-0bd3-4749-87a9-f4308875670a"
      },
      "source": [
        "df['Longitud'][0][0]#Hemisferio Este / Oeste"
      ],
      "execution_count": 25,
      "outputs": [
        {
          "output_type": "execute_result",
          "data": {
            "application/vnd.google.colaboratory.intrinsic+json": {
              "type": "string"
            },
            "text/plain": [
              "'E'"
            ]
          },
          "metadata": {
            "tags": []
          },
          "execution_count": 25
        }
      ]
    },
    {
      "cell_type": "code",
      "metadata": {
        "colab": {
          "base_uri": "https://localhost:8080/"
        },
        "id": "A6dSkMMtPisJ",
        "outputId": "471785f9-da21-4b61-a1b7-da23ed2021c5"
      },
      "source": [
        "float(df['Longitud'][0].split('°')[0][1:])"
      ],
      "execution_count": 26,
      "outputs": [
        {
          "output_type": "execute_result",
          "data": {
            "text/plain": [
              "65.0"
            ]
          },
          "metadata": {
            "tags": []
          },
          "execution_count": 26
        }
      ]
    },
    {
      "cell_type": "code",
      "metadata": {
        "colab": {
          "base_uri": "https://localhost:8080/"
        },
        "id": "l06_tu6fPiwQ",
        "outputId": "49734cf9-2c26-4c29-b900-805d3ff1ac82"
      },
      "source": [
        "float(df['Longitud'][0].split('°')[1].split(\"'\")[0])"
      ],
      "execution_count": 27,
      "outputs": [
        {
          "output_type": "execute_result",
          "data": {
            "text/plain": [
              "0.0"
            ]
          },
          "metadata": {
            "tags": []
          },
          "execution_count": 27
        }
      ]
    },
    {
      "cell_type": "code",
      "metadata": {
        "colab": {
          "base_uri": "https://localhost:8080/"
        },
        "id": "druxmyp9Pi1V",
        "outputId": "7242a70d-a6c3-4b60-fd2b-1048e6fa64e5"
      },
      "source": [
        "float(df['Longitud'][0].split('°')[1].split(\"'\")[1][:-1])"
      ],
      "execution_count": 28,
      "outputs": [
        {
          "output_type": "execute_result",
          "data": {
            "text/plain": [
              "0.0"
            ]
          },
          "metadata": {
            "tags": []
          },
          "execution_count": 28
        }
      ]
    },
    {
      "cell_type": "markdown",
      "metadata": {
        "id": "DQFMx0dXVxKv"
      },
      "source": [
        "#CREAMOS LAS NUEVAS COLUMNAS \n",
        "##Latitud Polo - LatitudMin - LatitudSeg\n"
      ]
    },
    {
      "cell_type": "code",
      "metadata": {
        "id": "qB-js2NZPi48"
      },
      "source": [
        "df['Latitud Polo'] = df['Latitud'].apply(lambda x: x.split()[0][0])\n",
        "df['Latitud Punto'] = df['Latitud'].apply(lambda x: x.split('°')[0][1:])\n",
        "df['Latitud Min'] = df['Latitud'].apply(lambda x: x.split('°')[1].split(\"'\")[0])\n",
        "df['Latitud Seg'] = df['Latitud'].apply(lambda x: x.split('°')[1].split(\"'\")[1][:-1])"
      ],
      "execution_count": 31,
      "outputs": []
    },
    {
      "cell_type": "markdown",
      "metadata": {
        "id": "g3os1Xhy1YXK"
      },
      "source": [
        "##Longitud Hemisferio Este/Oeste - LongitudMin - Longitud Seg"
      ]
    },
    {
      "cell_type": "code",
      "metadata": {
        "id": "lbNdUEhZyiad"
      },
      "source": [
        "df['Longitud Este/Oeste'] = df['Longitud'].apply(lambda x: x.split()[0][0])\n",
        "df['Longitud Punto'] = df['Longitud'].apply(lambda x: x.split('°')[0][1:])\n",
        "df['Longitud Min'] = df['Longitud'].apply(lambda x: x.split('°')[1].split(\"'\")[0])\n",
        "df['Longitud Seg'] = df['Longitud'].apply(lambda x: x.split('°')[1].split(\"'\")[1][:-1])"
      ],
      "execution_count": 33,
      "outputs": []
    },
    {
      "cell_type": "code",
      "metadata": {
        "colab": {
          "base_uri": "https://localhost:8080/",
          "height": 612
        },
        "id": "1uXllQanPi8t",
        "outputId": "1261eb8a-59be-4c57-cb30-c9af640c69ee"
      },
      "source": [
        "df"
      ],
      "execution_count": 34,
      "outputs": [
        {
          "output_type": "execute_result",
          "data": {
            "text/html": [
              "<div>\n",
              "<style scoped>\n",
              "    .dataframe tbody tr th:only-of-type {\n",
              "        vertical-align: middle;\n",
              "    }\n",
              "\n",
              "    .dataframe tbody tr th {\n",
              "        vertical-align: top;\n",
              "    }\n",
              "\n",
              "    .dataframe thead th {\n",
              "        text-align: right;\n",
              "    }\n",
              "</style>\n",
              "<table border=\"1\" class=\"dataframe\">\n",
              "  <thead>\n",
              "    <tr style=\"text-align: right;\">\n",
              "      <th></th>\n",
              "      <th>Pais</th>\n",
              "      <th>Latitud y Longitud</th>\n",
              "      <th>Latitud</th>\n",
              "      <th>Longitud</th>\n",
              "      <th>Latitud Polo</th>\n",
              "      <th>Latitud Punto</th>\n",
              "      <th>Latitud Min</th>\n",
              "      <th>Latitud Seg</th>\n",
              "      <th>Longitud Este/Oeste</th>\n",
              "      <th>Longitud Punto</th>\n",
              "      <th>Longitud Min</th>\n",
              "      <th>Longitud Seg</th>\n",
              "    </tr>\n",
              "  </thead>\n",
              "  <tbody>\n",
              "    <tr>\n",
              "      <th>0</th>\n",
              "      <td>Afganistán</td>\n",
              "      <td>N33°0'0\" E65°0'0\"</td>\n",
              "      <td>N33°0'0\"</td>\n",
              "      <td>E65°0'0\"</td>\n",
              "      <td>N</td>\n",
              "      <td>33</td>\n",
              "      <td>0</td>\n",
              "      <td>0</td>\n",
              "      <td>E</td>\n",
              "      <td>65</td>\n",
              "      <td>0</td>\n",
              "      <td>0</td>\n",
              "    </tr>\n",
              "    <tr>\n",
              "      <th>1</th>\n",
              "      <td>Albania</td>\n",
              "      <td>N41°19'60\" E19°49'0\"</td>\n",
              "      <td>N41°19'60\"</td>\n",
              "      <td>E19°49'0\"</td>\n",
              "      <td>N</td>\n",
              "      <td>41</td>\n",
              "      <td>19</td>\n",
              "      <td>60</td>\n",
              "      <td>E</td>\n",
              "      <td>19</td>\n",
              "      <td>49</td>\n",
              "      <td>0</td>\n",
              "    </tr>\n",
              "    <tr>\n",
              "      <th>2</th>\n",
              "      <td>Alemania</td>\n",
              "      <td>N51°0'0\" E9°0'0\"</td>\n",
              "      <td>N51°0'0\"</td>\n",
              "      <td>E9°0'0\"</td>\n",
              "      <td>N</td>\n",
              "      <td>51</td>\n",
              "      <td>0</td>\n",
              "      <td>0</td>\n",
              "      <td>E</td>\n",
              "      <td>9</td>\n",
              "      <td>0</td>\n",
              "      <td>0</td>\n",
              "    </tr>\n",
              "    <tr>\n",
              "      <th>3</th>\n",
              "      <td>Andorra</td>\n",
              "      <td>N42°30'0\" E1°36'0\"</td>\n",
              "      <td>N42°30'0\"</td>\n",
              "      <td>E1°36'0\"</td>\n",
              "      <td>N</td>\n",
              "      <td>42</td>\n",
              "      <td>30</td>\n",
              "      <td>0</td>\n",
              "      <td>E</td>\n",
              "      <td>1</td>\n",
              "      <td>36</td>\n",
              "      <td>0</td>\n",
              "    </tr>\n",
              "    <tr>\n",
              "      <th>4</th>\n",
              "      <td>Angola</td>\n",
              "      <td>S12°30'0\" E18°30'0\"</td>\n",
              "      <td>S12°30'0\"</td>\n",
              "      <td>E18°30'0\"</td>\n",
              "      <td>S</td>\n",
              "      <td>12</td>\n",
              "      <td>30</td>\n",
              "      <td>0</td>\n",
              "      <td>E</td>\n",
              "      <td>18</td>\n",
              "      <td>30</td>\n",
              "      <td>0</td>\n",
              "    </tr>\n",
              "    <tr>\n",
              "      <th>...</th>\n",
              "      <td>...</td>\n",
              "      <td>...</td>\n",
              "      <td>...</td>\n",
              "      <td>...</td>\n",
              "      <td>...</td>\n",
              "      <td>...</td>\n",
              "      <td>...</td>\n",
              "      <td>...</td>\n",
              "      <td>...</td>\n",
              "      <td>...</td>\n",
              "      <td>...</td>\n",
              "      <td>...</td>\n",
              "    </tr>\n",
              "    <tr>\n",
              "      <th>236</th>\n",
              "      <td>Wallis y Futuna</td>\n",
              "      <td>S13°18'0\" O176°12'0\"</td>\n",
              "      <td>S13°18'0\"</td>\n",
              "      <td>O176°12'0\"</td>\n",
              "      <td>S</td>\n",
              "      <td>13</td>\n",
              "      <td>18</td>\n",
              "      <td>0</td>\n",
              "      <td>O</td>\n",
              "      <td>176</td>\n",
              "      <td>12</td>\n",
              "      <td>0</td>\n",
              "    </tr>\n",
              "    <tr>\n",
              "      <th>237</th>\n",
              "      <td>Yemen</td>\n",
              "      <td>N15°0'0\" E48°0'0\"</td>\n",
              "      <td>N15°0'0\"</td>\n",
              "      <td>E48°0'0\"</td>\n",
              "      <td>N</td>\n",
              "      <td>15</td>\n",
              "      <td>0</td>\n",
              "      <td>0</td>\n",
              "      <td>E</td>\n",
              "      <td>48</td>\n",
              "      <td>0</td>\n",
              "      <td>0</td>\n",
              "    </tr>\n",
              "    <tr>\n",
              "      <th>238</th>\n",
              "      <td>Yibuti</td>\n",
              "      <td>N11°30'0\" E43°0'0\"</td>\n",
              "      <td>N11°30'0\"</td>\n",
              "      <td>E43°0'0\"</td>\n",
              "      <td>N</td>\n",
              "      <td>11</td>\n",
              "      <td>30</td>\n",
              "      <td>0</td>\n",
              "      <td>E</td>\n",
              "      <td>43</td>\n",
              "      <td>0</td>\n",
              "      <td>0</td>\n",
              "    </tr>\n",
              "    <tr>\n",
              "      <th>239</th>\n",
              "      <td>Zambia</td>\n",
              "      <td>S15°0'0\" E30°0'0\"</td>\n",
              "      <td>S15°0'0\"</td>\n",
              "      <td>E30°0'0\"</td>\n",
              "      <td>S</td>\n",
              "      <td>15</td>\n",
              "      <td>0</td>\n",
              "      <td>0</td>\n",
              "      <td>E</td>\n",
              "      <td>30</td>\n",
              "      <td>0</td>\n",
              "      <td>0</td>\n",
              "    </tr>\n",
              "    <tr>\n",
              "      <th>240</th>\n",
              "      <td>Zimbabue</td>\n",
              "      <td>S20°0'0\" E30°0'0\"</td>\n",
              "      <td>S20°0'0\"</td>\n",
              "      <td>E30°0'0\"</td>\n",
              "      <td>S</td>\n",
              "      <td>20</td>\n",
              "      <td>0</td>\n",
              "      <td>0</td>\n",
              "      <td>E</td>\n",
              "      <td>30</td>\n",
              "      <td>0</td>\n",
              "      <td>0</td>\n",
              "    </tr>\n",
              "  </tbody>\n",
              "</table>\n",
              "<p>241 rows × 12 columns</p>\n",
              "</div>"
            ],
            "text/plain": [
              "                Pais    Latitud y Longitud  ... Longitud Min Longitud Seg\n",
              "0         Afganistán     N33°0'0\" E65°0'0\"  ...            0            0\n",
              "1            Albania  N41°19'60\" E19°49'0\"  ...           49            0\n",
              "2           Alemania      N51°0'0\" E9°0'0\"  ...            0            0\n",
              "3            Andorra    N42°30'0\" E1°36'0\"  ...           36            0\n",
              "4             Angola   S12°30'0\" E18°30'0\"  ...           30            0\n",
              "..               ...                   ...  ...          ...          ...\n",
              "236  Wallis y Futuna  S13°18'0\" O176°12'0\"  ...           12            0\n",
              "237            Yemen     N15°0'0\" E48°0'0\"  ...            0            0\n",
              "238           Yibuti    N11°30'0\" E43°0'0\"  ...            0            0\n",
              "239           Zambia     S15°0'0\" E30°0'0\"  ...            0            0\n",
              "240         Zimbabue     S20°0'0\" E30°0'0\"  ...            0            0\n",
              "\n",
              "[241 rows x 12 columns]"
            ]
          },
          "metadata": {
            "tags": []
          },
          "execution_count": 34
        }
      ]
    },
    {
      "cell_type": "markdown",
      "metadata": {
        "id": "DUs13ZE_FtMh"
      },
      "source": [
        "#Cómo convertir grados minuto segundo a grado decimal"
      ]
    },
    {
      "cell_type": "code",
      "metadata": {
        "id": "MAK623t_Pi_3"
      },
      "source": [
        "import re\n",
        "\n",
        "def lat(degrees, minutes, seconds, direction):\n",
        "    lat = float(degrees) + float(minutes)/60 + float(seconds)/(60*60);\n",
        "    if direction == 'N' or direction == 'S':\n",
        "        lat *= -1\n",
        "    return lat;\n",
        "\n",
        "def longitude(degrees, minutes, seconds, direction):\n",
        "    longitude = float(degrees) + float(minutes)/60 + float(seconds)/(60*60);\n",
        "    if direction == 'E' or direction == 'O':\n",
        "        longitude *= -1\n",
        "    return longitude;"
      ],
      "execution_count": 59,
      "outputs": []
    },
    {
      "cell_type": "code",
      "metadata": {
        "colab": {
          "base_uri": "https://localhost:8080/"
        },
        "id": "VvO6o7qUPjNM",
        "outputId": "771535de-b6f6-4a08-868f-1d607b05787e"
      },
      "source": [
        "lat(41,19,60, 'N')"
      ],
      "execution_count": 60,
      "outputs": [
        {
          "output_type": "execute_result",
          "data": {
            "text/plain": [
              "-41.333333333333336"
            ]
          },
          "metadata": {
            "tags": []
          },
          "execution_count": 60
        }
      ]
    },
    {
      "cell_type": "code",
      "metadata": {
        "colab": {
          "base_uri": "https://localhost:8080/"
        },
        "id": "X0yv8cG44kzP",
        "outputId": "1789d29d-129b-41b5-ea49-59f3e997c4af"
      },
      "source": [
        "longitude(19, 49, 0, 'E')"
      ],
      "execution_count": 61,
      "outputs": [
        {
          "output_type": "execute_result",
          "data": {
            "text/plain": [
              "-19.816666666666666"
            ]
          },
          "metadata": {
            "tags": []
          },
          "execution_count": 61
        }
      ]
    },
    {
      "cell_type": "code",
      "metadata": {
        "id": "b0lhK3CY4k88"
      },
      "source": [
        ""
      ],
      "execution_count": null,
      "outputs": []
    },
    {
      "cell_type": "code",
      "metadata": {
        "id": "EH5Fstqo4lCp"
      },
      "source": [
        ""
      ],
      "execution_count": null,
      "outputs": []
    }
  ]
}