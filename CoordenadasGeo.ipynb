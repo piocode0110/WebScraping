{
  "nbformat": 4,
  "nbformat_minor": 0,
  "metadata": {
    "colab": {
      "name": "CoordenadasGeo.ipynb",
      "provenance": [],
      "collapsed_sections": [],
      "authorship_tag": "ABX9TyNo1x3+kJkChE7lLunRWqFD",
      "include_colab_link": true
    },
    "kernelspec": {
      "name": "python3",
      "display_name": "Python 3"
    }
  },
  "cells": [
    {
      "cell_type": "markdown",
      "metadata": {
        "id": "view-in-github",
        "colab_type": "text"
      },
      "source": [
        "<a href=\"https://colab.research.google.com/github/piocode0110/WebScraping/blob/main/CoordenadasGeo.ipynb\" target=\"_parent\"><img src=\"https://colab.research.google.com/assets/colab-badge.svg\" alt=\"Open In Colab\"/></a>"
      ]
    },
    {
      "cell_type": "markdown",
      "metadata": {
        "id": "dpy6Ci0L_cQl"
      },
      "source": [
        "<h1><center>Caso de Estudio:</center></h1>\n",
        "\n",
        "Este ejercicio fue realizado por **[Piocode0110](https://www.linkedin.com/in/jamavapiocu/)** con fines exclusivemente academicos y no comerciales, cualquier uso ilegal estara fuera de mis intensiones.\n",
        "\n",
        "\n",
        "\n",
        "<img src=\"https://upload.wikimedia.org/wikipedia/commons/thumb/5/58/Latitud_y_Longitud_en_la_Tierra.svg/1280px-Latitud_y_Longitud_en_la_Tierra.svg.png\">"
      ]
    },
    {
      "cell_type": "code",
      "metadata": {
        "id": "KsIpLIWBSOUv"
      },
      "source": [
        "import pandas as pd\n",
        "import requests\n",
        "import random\n",
        "from bs4 import BeautifulSoup\n",
        "from tqdm import tqdm"
      ],
      "execution_count": 1,
      "outputs": []
    },
    {
      "cell_type": "code",
      "metadata": {
        "id": "lVBCkEiJSoTS"
      },
      "source": [
        "df=pd.read_html('https://www.antipodas.net/coordenadaspais/')"
      ],
      "execution_count": 2,
      "outputs": []
    },
    {
      "cell_type": "code",
      "metadata": {
        "colab": {
          "base_uri": "https://localhost:8080/"
        },
        "id": "ZQf-eOVT8VPq",
        "outputId": "fa14941d-959b-4dc8-df15-8e51aea3ae76"
      },
      "source": [
        "type(df)"
      ],
      "execution_count": 3,
      "outputs": [
        {
          "output_type": "execute_result",
          "data": {
            "text/plain": [
              "list"
            ]
          },
          "metadata": {
            "tags": []
          },
          "execution_count": 3
        }
      ]
    },
    {
      "cell_type": "code",
      "metadata": {
        "colab": {
          "base_uri": "https://localhost:8080/"
        },
        "id": "VPHcT5MNCBhW",
        "outputId": "5914a9a2-3ae5-4f80-85c5-12dcc4578c6a"
      },
      "source": [
        "df[0].columns"
      ],
      "execution_count": 4,
      "outputs": [
        {
          "output_type": "execute_result",
          "data": {
            "text/plain": [
              "Int64Index([0, 1, 2], dtype='int64')"
            ]
          },
          "metadata": {
            "tags": []
          },
          "execution_count": 4
        }
      ]
    },
    {
      "cell_type": "code",
      "metadata": {
        "colab": {
          "base_uri": "https://localhost:8080/"
        },
        "id": "6yuQRrCLGpyF",
        "outputId": "022794d8-3656-47e6-fd65-a8d805f30221"
      },
      "source": [
        "df"
      ],
      "execution_count": 5,
      "outputs": [
        {
          "output_type": "execute_result",
          "data": {
            "text/plain": [
              "[                   0                        1                 2\n",
              " 0               País  Coordenadas Geográficas  Nº de Habitantes\n",
              " 1         Afganistán        N33°0'0\" E65°0'0\"        29.121.286\n",
              " 2            Albania     N41°19'60\" E19°49'0\"         2.986.952\n",
              " 3           Alemania         N51°0'0\" E9°0'0\"        81.802.257\n",
              " 4            Andorra       N42°30'0\" E1°36'0\"            84.000\n",
              " ..               ...                      ...               ...\n",
              " 237  Wallis y Futuna     S13°18'0\" O176°12'0\"               N/S\n",
              " 238            Yemen        N15°0'0\" E48°0'0\"        23.495.361\n",
              " 239           Yibuti       N11°30'0\" E43°0'0\"           740.528\n",
              " 240           Zambia        S15°0'0\" E30°0'0\"        13.460.305\n",
              " 241         Zimbabue        S20°0'0\" E30°0'0\"        11.651.858\n",
              " \n",
              " [242 rows x 3 columns]]"
            ]
          },
          "metadata": {
            "tags": []
          },
          "execution_count": 5
        }
      ]
    },
    {
      "cell_type": "code",
      "metadata": {
        "colab": {
          "base_uri": "https://localhost:8080/",
          "height": 422
        },
        "id": "SKKh3KE3Gp1i",
        "outputId": "3e4c8bf6-8c72-465a-c8df-e5f951e0ea3e"
      },
      "source": [
        "df[0]"
      ],
      "execution_count": 6,
      "outputs": [
        {
          "output_type": "execute_result",
          "data": {
            "text/html": [
              "<div>\n",
              "<style scoped>\n",
              "    .dataframe tbody tr th:only-of-type {\n",
              "        vertical-align: middle;\n",
              "    }\n",
              "\n",
              "    .dataframe tbody tr th {\n",
              "        vertical-align: top;\n",
              "    }\n",
              "\n",
              "    .dataframe thead th {\n",
              "        text-align: right;\n",
              "    }\n",
              "</style>\n",
              "<table border=\"1\" class=\"dataframe\">\n",
              "  <thead>\n",
              "    <tr style=\"text-align: right;\">\n",
              "      <th></th>\n",
              "      <th>0</th>\n",
              "      <th>1</th>\n",
              "      <th>2</th>\n",
              "    </tr>\n",
              "  </thead>\n",
              "  <tbody>\n",
              "    <tr>\n",
              "      <th>0</th>\n",
              "      <td>País</td>\n",
              "      <td>Coordenadas Geográficas</td>\n",
              "      <td>Nº de Habitantes</td>\n",
              "    </tr>\n",
              "    <tr>\n",
              "      <th>1</th>\n",
              "      <td>Afganistán</td>\n",
              "      <td>N33°0'0\" E65°0'0\"</td>\n",
              "      <td>29.121.286</td>\n",
              "    </tr>\n",
              "    <tr>\n",
              "      <th>2</th>\n",
              "      <td>Albania</td>\n",
              "      <td>N41°19'60\" E19°49'0\"</td>\n",
              "      <td>2.986.952</td>\n",
              "    </tr>\n",
              "    <tr>\n",
              "      <th>3</th>\n",
              "      <td>Alemania</td>\n",
              "      <td>N51°0'0\" E9°0'0\"</td>\n",
              "      <td>81.802.257</td>\n",
              "    </tr>\n",
              "    <tr>\n",
              "      <th>4</th>\n",
              "      <td>Andorra</td>\n",
              "      <td>N42°30'0\" E1°36'0\"</td>\n",
              "      <td>84.000</td>\n",
              "    </tr>\n",
              "    <tr>\n",
              "      <th>...</th>\n",
              "      <td>...</td>\n",
              "      <td>...</td>\n",
              "      <td>...</td>\n",
              "    </tr>\n",
              "    <tr>\n",
              "      <th>237</th>\n",
              "      <td>Wallis y Futuna</td>\n",
              "      <td>S13°18'0\" O176°12'0\"</td>\n",
              "      <td>N/S</td>\n",
              "    </tr>\n",
              "    <tr>\n",
              "      <th>238</th>\n",
              "      <td>Yemen</td>\n",
              "      <td>N15°0'0\" E48°0'0\"</td>\n",
              "      <td>23.495.361</td>\n",
              "    </tr>\n",
              "    <tr>\n",
              "      <th>239</th>\n",
              "      <td>Yibuti</td>\n",
              "      <td>N11°30'0\" E43°0'0\"</td>\n",
              "      <td>740.528</td>\n",
              "    </tr>\n",
              "    <tr>\n",
              "      <th>240</th>\n",
              "      <td>Zambia</td>\n",
              "      <td>S15°0'0\" E30°0'0\"</td>\n",
              "      <td>13.460.305</td>\n",
              "    </tr>\n",
              "    <tr>\n",
              "      <th>241</th>\n",
              "      <td>Zimbabue</td>\n",
              "      <td>S20°0'0\" E30°0'0\"</td>\n",
              "      <td>11.651.858</td>\n",
              "    </tr>\n",
              "  </tbody>\n",
              "</table>\n",
              "<p>242 rows × 3 columns</p>\n",
              "</div>"
            ],
            "text/plain": [
              "                   0                        1                 2\n",
              "0               País  Coordenadas Geográficas  Nº de Habitantes\n",
              "1         Afganistán        N33°0'0\" E65°0'0\"        29.121.286\n",
              "2            Albania     N41°19'60\" E19°49'0\"         2.986.952\n",
              "3           Alemania         N51°0'0\" E9°0'0\"        81.802.257\n",
              "4            Andorra       N42°30'0\" E1°36'0\"            84.000\n",
              "..               ...                      ...               ...\n",
              "237  Wallis y Futuna     S13°18'0\" O176°12'0\"               N/S\n",
              "238            Yemen        N15°0'0\" E48°0'0\"        23.495.361\n",
              "239           Yibuti       N11°30'0\" E43°0'0\"           740.528\n",
              "240           Zambia        S15°0'0\" E30°0'0\"        13.460.305\n",
              "241         Zimbabue        S20°0'0\" E30°0'0\"        11.651.858\n",
              "\n",
              "[242 rows x 3 columns]"
            ]
          },
          "metadata": {
            "tags": []
          },
          "execution_count": 6
        }
      ]
    },
    {
      "cell_type": "code",
      "metadata": {
        "id": "ohQYlxQVGp6k"
      },
      "source": [
        "df=df[0].rename(columns={0:'Pais',1:'Latitud y Longitud',2:'Personas'})"
      ],
      "execution_count": 7,
      "outputs": []
    },
    {
      "cell_type": "code",
      "metadata": {
        "colab": {
          "base_uri": "https://localhost:8080/",
          "height": 422
        },
        "id": "fHWs7m1qGp-H",
        "outputId": "82ca2fd6-c54e-4060-b209-5b951abd139e"
      },
      "source": [
        "df"
      ],
      "execution_count": 8,
      "outputs": [
        {
          "output_type": "execute_result",
          "data": {
            "text/html": [
              "<div>\n",
              "<style scoped>\n",
              "    .dataframe tbody tr th:only-of-type {\n",
              "        vertical-align: middle;\n",
              "    }\n",
              "\n",
              "    .dataframe tbody tr th {\n",
              "        vertical-align: top;\n",
              "    }\n",
              "\n",
              "    .dataframe thead th {\n",
              "        text-align: right;\n",
              "    }\n",
              "</style>\n",
              "<table border=\"1\" class=\"dataframe\">\n",
              "  <thead>\n",
              "    <tr style=\"text-align: right;\">\n",
              "      <th></th>\n",
              "      <th>Pais</th>\n",
              "      <th>Latitud y Longitud</th>\n",
              "      <th>Personas</th>\n",
              "    </tr>\n",
              "  </thead>\n",
              "  <tbody>\n",
              "    <tr>\n",
              "      <th>0</th>\n",
              "      <td>País</td>\n",
              "      <td>Coordenadas Geográficas</td>\n",
              "      <td>Nº de Habitantes</td>\n",
              "    </tr>\n",
              "    <tr>\n",
              "      <th>1</th>\n",
              "      <td>Afganistán</td>\n",
              "      <td>N33°0'0\" E65°0'0\"</td>\n",
              "      <td>29.121.286</td>\n",
              "    </tr>\n",
              "    <tr>\n",
              "      <th>2</th>\n",
              "      <td>Albania</td>\n",
              "      <td>N41°19'60\" E19°49'0\"</td>\n",
              "      <td>2.986.952</td>\n",
              "    </tr>\n",
              "    <tr>\n",
              "      <th>3</th>\n",
              "      <td>Alemania</td>\n",
              "      <td>N51°0'0\" E9°0'0\"</td>\n",
              "      <td>81.802.257</td>\n",
              "    </tr>\n",
              "    <tr>\n",
              "      <th>4</th>\n",
              "      <td>Andorra</td>\n",
              "      <td>N42°30'0\" E1°36'0\"</td>\n",
              "      <td>84.000</td>\n",
              "    </tr>\n",
              "    <tr>\n",
              "      <th>...</th>\n",
              "      <td>...</td>\n",
              "      <td>...</td>\n",
              "      <td>...</td>\n",
              "    </tr>\n",
              "    <tr>\n",
              "      <th>237</th>\n",
              "      <td>Wallis y Futuna</td>\n",
              "      <td>S13°18'0\" O176°12'0\"</td>\n",
              "      <td>N/S</td>\n",
              "    </tr>\n",
              "    <tr>\n",
              "      <th>238</th>\n",
              "      <td>Yemen</td>\n",
              "      <td>N15°0'0\" E48°0'0\"</td>\n",
              "      <td>23.495.361</td>\n",
              "    </tr>\n",
              "    <tr>\n",
              "      <th>239</th>\n",
              "      <td>Yibuti</td>\n",
              "      <td>N11°30'0\" E43°0'0\"</td>\n",
              "      <td>740.528</td>\n",
              "    </tr>\n",
              "    <tr>\n",
              "      <th>240</th>\n",
              "      <td>Zambia</td>\n",
              "      <td>S15°0'0\" E30°0'0\"</td>\n",
              "      <td>13.460.305</td>\n",
              "    </tr>\n",
              "    <tr>\n",
              "      <th>241</th>\n",
              "      <td>Zimbabue</td>\n",
              "      <td>S20°0'0\" E30°0'0\"</td>\n",
              "      <td>11.651.858</td>\n",
              "    </tr>\n",
              "  </tbody>\n",
              "</table>\n",
              "<p>242 rows × 3 columns</p>\n",
              "</div>"
            ],
            "text/plain": [
              "                Pais       Latitud y Longitud          Personas\n",
              "0               País  Coordenadas Geográficas  Nº de Habitantes\n",
              "1         Afganistán        N33°0'0\" E65°0'0\"        29.121.286\n",
              "2            Albania     N41°19'60\" E19°49'0\"         2.986.952\n",
              "3           Alemania         N51°0'0\" E9°0'0\"        81.802.257\n",
              "4            Andorra       N42°30'0\" E1°36'0\"            84.000\n",
              "..               ...                      ...               ...\n",
              "237  Wallis y Futuna     S13°18'0\" O176°12'0\"               N/S\n",
              "238            Yemen        N15°0'0\" E48°0'0\"        23.495.361\n",
              "239           Yibuti       N11°30'0\" E43°0'0\"           740.528\n",
              "240           Zambia        S15°0'0\" E30°0'0\"        13.460.305\n",
              "241         Zimbabue        S20°0'0\" E30°0'0\"        11.651.858\n",
              "\n",
              "[242 rows x 3 columns]"
            ]
          },
          "metadata": {
            "tags": []
          },
          "execution_count": 8
        }
      ]
    },
    {
      "cell_type": "code",
      "metadata": {
        "id": "lIAka8ruGqCc"
      },
      "source": [
        "df=df.drop([0],axis=0)\n",
        "df=df.drop(columns='Personas')"
      ],
      "execution_count": 9,
      "outputs": []
    },
    {
      "cell_type": "code",
      "metadata": {
        "colab": {
          "base_uri": "https://localhost:8080/",
          "height": 422
        },
        "id": "ohEyDkWDGqHk",
        "outputId": "cd01f36f-2017-42b3-820a-fd1c4d1c2f6b"
      },
      "source": [
        "df"
      ],
      "execution_count": 10,
      "outputs": [
        {
          "output_type": "execute_result",
          "data": {
            "text/html": [
              "<div>\n",
              "<style scoped>\n",
              "    .dataframe tbody tr th:only-of-type {\n",
              "        vertical-align: middle;\n",
              "    }\n",
              "\n",
              "    .dataframe tbody tr th {\n",
              "        vertical-align: top;\n",
              "    }\n",
              "\n",
              "    .dataframe thead th {\n",
              "        text-align: right;\n",
              "    }\n",
              "</style>\n",
              "<table border=\"1\" class=\"dataframe\">\n",
              "  <thead>\n",
              "    <tr style=\"text-align: right;\">\n",
              "      <th></th>\n",
              "      <th>Pais</th>\n",
              "      <th>Latitud y Longitud</th>\n",
              "    </tr>\n",
              "  </thead>\n",
              "  <tbody>\n",
              "    <tr>\n",
              "      <th>1</th>\n",
              "      <td>Afganistán</td>\n",
              "      <td>N33°0'0\" E65°0'0\"</td>\n",
              "    </tr>\n",
              "    <tr>\n",
              "      <th>2</th>\n",
              "      <td>Albania</td>\n",
              "      <td>N41°19'60\" E19°49'0\"</td>\n",
              "    </tr>\n",
              "    <tr>\n",
              "      <th>3</th>\n",
              "      <td>Alemania</td>\n",
              "      <td>N51°0'0\" E9°0'0\"</td>\n",
              "    </tr>\n",
              "    <tr>\n",
              "      <th>4</th>\n",
              "      <td>Andorra</td>\n",
              "      <td>N42°30'0\" E1°36'0\"</td>\n",
              "    </tr>\n",
              "    <tr>\n",
              "      <th>5</th>\n",
              "      <td>Angola</td>\n",
              "      <td>S12°30'0\" E18°30'0\"</td>\n",
              "    </tr>\n",
              "    <tr>\n",
              "      <th>...</th>\n",
              "      <td>...</td>\n",
              "      <td>...</td>\n",
              "    </tr>\n",
              "    <tr>\n",
              "      <th>237</th>\n",
              "      <td>Wallis y Futuna</td>\n",
              "      <td>S13°18'0\" O176°12'0\"</td>\n",
              "    </tr>\n",
              "    <tr>\n",
              "      <th>238</th>\n",
              "      <td>Yemen</td>\n",
              "      <td>N15°0'0\" E48°0'0\"</td>\n",
              "    </tr>\n",
              "    <tr>\n",
              "      <th>239</th>\n",
              "      <td>Yibuti</td>\n",
              "      <td>N11°30'0\" E43°0'0\"</td>\n",
              "    </tr>\n",
              "    <tr>\n",
              "      <th>240</th>\n",
              "      <td>Zambia</td>\n",
              "      <td>S15°0'0\" E30°0'0\"</td>\n",
              "    </tr>\n",
              "    <tr>\n",
              "      <th>241</th>\n",
              "      <td>Zimbabue</td>\n",
              "      <td>S20°0'0\" E30°0'0\"</td>\n",
              "    </tr>\n",
              "  </tbody>\n",
              "</table>\n",
              "<p>241 rows × 2 columns</p>\n",
              "</div>"
            ],
            "text/plain": [
              "                Pais    Latitud y Longitud\n",
              "1         Afganistán     N33°0'0\" E65°0'0\"\n",
              "2            Albania  N41°19'60\" E19°49'0\"\n",
              "3           Alemania      N51°0'0\" E9°0'0\"\n",
              "4            Andorra    N42°30'0\" E1°36'0\"\n",
              "5             Angola   S12°30'0\" E18°30'0\"\n",
              "..               ...                   ...\n",
              "237  Wallis y Futuna  S13°18'0\" O176°12'0\"\n",
              "238            Yemen     N15°0'0\" E48°0'0\"\n",
              "239           Yibuti    N11°30'0\" E43°0'0\"\n",
              "240           Zambia     S15°0'0\" E30°0'0\"\n",
              "241         Zimbabue     S20°0'0\" E30°0'0\"\n",
              "\n",
              "[241 rows x 2 columns]"
            ]
          },
          "metadata": {
            "tags": []
          },
          "execution_count": 10
        }
      ]
    },
    {
      "cell_type": "markdown",
      "metadata": {
        "id": "g8FKAESo7Tpa"
      },
      "source": [
        "##con este reset_index, por ser ya un dataframe se elimina el primer registro que esta en Cero. Para comenzar en la posicion 1"
      ]
    },
    {
      "cell_type": "code",
      "metadata": {
        "id": "CXSnSe7U2JJp"
      },
      "source": [
        "df=df.reset_index()\n",
        "df=df.drop(columns='index')"
      ],
      "execution_count": 36,
      "outputs": []
    },
    {
      "cell_type": "code",
      "metadata": {
        "colab": {
          "base_uri": "https://localhost:8080/",
          "height": 422
        },
        "id": "-4zWyLhxRA3r",
        "outputId": "0aa423be-0873-4ba9-85bf-c2260985c8cb"
      },
      "source": [
        "df"
      ],
      "execution_count": 37,
      "outputs": [
        {
          "output_type": "execute_result",
          "data": {
            "text/html": [
              "<div>\n",
              "<style scoped>\n",
              "    .dataframe tbody tr th:only-of-type {\n",
              "        vertical-align: middle;\n",
              "    }\n",
              "\n",
              "    .dataframe tbody tr th {\n",
              "        vertical-align: top;\n",
              "    }\n",
              "\n",
              "    .dataframe thead th {\n",
              "        text-align: right;\n",
              "    }\n",
              "</style>\n",
              "<table border=\"1\" class=\"dataframe\">\n",
              "  <thead>\n",
              "    <tr style=\"text-align: right;\">\n",
              "      <th></th>\n",
              "      <th>Pais</th>\n",
              "      <th>Latitud y Longitud</th>\n",
              "    </tr>\n",
              "  </thead>\n",
              "  <tbody>\n",
              "    <tr>\n",
              "      <th>0</th>\n",
              "      <td>Afganistán</td>\n",
              "      <td>N33°0'0\" E65°0'0\"</td>\n",
              "    </tr>\n",
              "    <tr>\n",
              "      <th>1</th>\n",
              "      <td>Albania</td>\n",
              "      <td>N41°19'60\" E19°49'0\"</td>\n",
              "    </tr>\n",
              "    <tr>\n",
              "      <th>2</th>\n",
              "      <td>Alemania</td>\n",
              "      <td>N51°0'0\" E9°0'0\"</td>\n",
              "    </tr>\n",
              "    <tr>\n",
              "      <th>3</th>\n",
              "      <td>Andorra</td>\n",
              "      <td>N42°30'0\" E1°36'0\"</td>\n",
              "    </tr>\n",
              "    <tr>\n",
              "      <th>4</th>\n",
              "      <td>Angola</td>\n",
              "      <td>S12°30'0\" E18°30'0\"</td>\n",
              "    </tr>\n",
              "    <tr>\n",
              "      <th>...</th>\n",
              "      <td>...</td>\n",
              "      <td>...</td>\n",
              "    </tr>\n",
              "    <tr>\n",
              "      <th>236</th>\n",
              "      <td>Wallis y Futuna</td>\n",
              "      <td>S13°18'0\" O176°12'0\"</td>\n",
              "    </tr>\n",
              "    <tr>\n",
              "      <th>237</th>\n",
              "      <td>Yemen</td>\n",
              "      <td>N15°0'0\" E48°0'0\"</td>\n",
              "    </tr>\n",
              "    <tr>\n",
              "      <th>238</th>\n",
              "      <td>Yibuti</td>\n",
              "      <td>N11°30'0\" E43°0'0\"</td>\n",
              "    </tr>\n",
              "    <tr>\n",
              "      <th>239</th>\n",
              "      <td>Zambia</td>\n",
              "      <td>S15°0'0\" E30°0'0\"</td>\n",
              "    </tr>\n",
              "    <tr>\n",
              "      <th>240</th>\n",
              "      <td>Zimbabue</td>\n",
              "      <td>S20°0'0\" E30°0'0\"</td>\n",
              "    </tr>\n",
              "  </tbody>\n",
              "</table>\n",
              "<p>241 rows × 2 columns</p>\n",
              "</div>"
            ],
            "text/plain": [
              "                Pais    Latitud y Longitud\n",
              "0         Afganistán     N33°0'0\" E65°0'0\"\n",
              "1            Albania  N41°19'60\" E19°49'0\"\n",
              "2           Alemania      N51°0'0\" E9°0'0\"\n",
              "3            Andorra    N42°30'0\" E1°36'0\"\n",
              "4             Angola   S12°30'0\" E18°30'0\"\n",
              "..               ...                   ...\n",
              "236  Wallis y Futuna  S13°18'0\" O176°12'0\"\n",
              "237            Yemen     N15°0'0\" E48°0'0\"\n",
              "238           Yibuti    N11°30'0\" E43°0'0\"\n",
              "239           Zambia     S15°0'0\" E30°0'0\"\n",
              "240         Zimbabue     S20°0'0\" E30°0'0\"\n",
              "\n",
              "[241 rows x 2 columns]"
            ]
          },
          "metadata": {
            "tags": []
          },
          "execution_count": 37
        }
      ]
    },
    {
      "cell_type": "code",
      "metadata": {
        "colab": {
          "base_uri": "https://localhost:8080/",
          "height": 35
        },
        "id": "lXqPlNKeTmAT",
        "outputId": "6723466f-e748-414e-b00b-cbcc80afbede"
      },
      "source": [
        "df['Latitud y Longitud'][1].split()[0]#latitud\n",
        "#df['Latitud y Longitud'][1][0:8] #latitud otra forma"
      ],
      "execution_count": 57,
      "outputs": [
        {
          "output_type": "execute_result",
          "data": {
            "application/vnd.google.colaboratory.intrinsic+json": {
              "type": "string"
            },
            "text/plain": [
              "'N41°19\\'60\"'"
            ]
          },
          "metadata": {
            "tags": []
          },
          "execution_count": 57
        }
      ]
    },
    {
      "cell_type": "code",
      "metadata": {
        "colab": {
          "base_uri": "https://localhost:8080/",
          "height": 35
        },
        "id": "pKSmtSsq8d6S",
        "outputId": "a6013764-4991-4bdd-948e-748ef983ab61"
      },
      "source": [
        "df['Latitud y Longitud'][0].split()[1]#longitud\n",
        "#df['Latitud y Longitud'][1][8:17] otra forma de hacer longitud"
      ],
      "execution_count": 68,
      "outputs": [
        {
          "output_type": "execute_result",
          "data": {
            "application/vnd.google.colaboratory.intrinsic+json": {
              "type": "string"
            },
            "text/plain": [
              "'E65°0\\'0\"'"
            ]
          },
          "metadata": {
            "tags": []
          },
          "execution_count": 68
        }
      ]
    },
    {
      "cell_type": "markdown",
      "metadata": {
        "id": "eBkFfPft7jZJ"
      },
      "source": [
        "##se crea las dos columnas Latitud y Longitud. y asi colocar los datos separados"
      ]
    },
    {
      "cell_type": "code",
      "metadata": {
        "id": "IP_GC94n1hBk"
      },
      "source": [
        "df['Latitud']= df['Latitud y Longitud'].apply(lambda x: x.split()[0])\n",
        "df['Longitud']= df['Latitud y Longitud'].apply(lambda x: x.split()[1])"
      ],
      "execution_count": 66,
      "outputs": []
    },
    {
      "cell_type": "code",
      "metadata": {
        "colab": {
          "base_uri": "https://localhost:8080/",
          "height": 422
        },
        "id": "UpGP-TbO1hSb",
        "outputId": "4c1ce3bc-c1ef-4a86-e8ca-7322f7e46c19"
      },
      "source": [
        "df"
      ],
      "execution_count": 76,
      "outputs": [
        {
          "output_type": "execute_result",
          "data": {
            "text/html": [
              "<div>\n",
              "<style scoped>\n",
              "    .dataframe tbody tr th:only-of-type {\n",
              "        vertical-align: middle;\n",
              "    }\n",
              "\n",
              "    .dataframe tbody tr th {\n",
              "        vertical-align: top;\n",
              "    }\n",
              "\n",
              "    .dataframe thead th {\n",
              "        text-align: right;\n",
              "    }\n",
              "</style>\n",
              "<table border=\"1\" class=\"dataframe\">\n",
              "  <thead>\n",
              "    <tr style=\"text-align: right;\">\n",
              "      <th></th>\n",
              "      <th>Pais</th>\n",
              "      <th>Latitud y Longitud</th>\n",
              "      <th>Latitud</th>\n",
              "      <th>Longitud</th>\n",
              "    </tr>\n",
              "  </thead>\n",
              "  <tbody>\n",
              "    <tr>\n",
              "      <th>0</th>\n",
              "      <td>Afganistán</td>\n",
              "      <td>N33°0'0\" E65°0'0\"</td>\n",
              "      <td>N33°0'0\"</td>\n",
              "      <td>E65°0'0\"</td>\n",
              "    </tr>\n",
              "    <tr>\n",
              "      <th>1</th>\n",
              "      <td>Albania</td>\n",
              "      <td>N41°19'60\" E19°49'0\"</td>\n",
              "      <td>N41°19'60\"</td>\n",
              "      <td>E19°49'0\"</td>\n",
              "    </tr>\n",
              "    <tr>\n",
              "      <th>2</th>\n",
              "      <td>Alemania</td>\n",
              "      <td>N51°0'0\" E9°0'0\"</td>\n",
              "      <td>N51°0'0\"</td>\n",
              "      <td>E9°0'0\"</td>\n",
              "    </tr>\n",
              "    <tr>\n",
              "      <th>3</th>\n",
              "      <td>Andorra</td>\n",
              "      <td>N42°30'0\" E1°36'0\"</td>\n",
              "      <td>N42°30'0\"</td>\n",
              "      <td>E1°36'0\"</td>\n",
              "    </tr>\n",
              "    <tr>\n",
              "      <th>4</th>\n",
              "      <td>Angola</td>\n",
              "      <td>S12°30'0\" E18°30'0\"</td>\n",
              "      <td>S12°30'0\"</td>\n",
              "      <td>E18°30'0\"</td>\n",
              "    </tr>\n",
              "    <tr>\n",
              "      <th>...</th>\n",
              "      <td>...</td>\n",
              "      <td>...</td>\n",
              "      <td>...</td>\n",
              "      <td>...</td>\n",
              "    </tr>\n",
              "    <tr>\n",
              "      <th>236</th>\n",
              "      <td>Wallis y Futuna</td>\n",
              "      <td>S13°18'0\" O176°12'0\"</td>\n",
              "      <td>S13°18'0\"</td>\n",
              "      <td>O176°12'0\"</td>\n",
              "    </tr>\n",
              "    <tr>\n",
              "      <th>237</th>\n",
              "      <td>Yemen</td>\n",
              "      <td>N15°0'0\" E48°0'0\"</td>\n",
              "      <td>N15°0'0\"</td>\n",
              "      <td>E48°0'0\"</td>\n",
              "    </tr>\n",
              "    <tr>\n",
              "      <th>238</th>\n",
              "      <td>Yibuti</td>\n",
              "      <td>N11°30'0\" E43°0'0\"</td>\n",
              "      <td>N11°30'0\"</td>\n",
              "      <td>E43°0'0\"</td>\n",
              "    </tr>\n",
              "    <tr>\n",
              "      <th>239</th>\n",
              "      <td>Zambia</td>\n",
              "      <td>S15°0'0\" E30°0'0\"</td>\n",
              "      <td>S15°0'0\"</td>\n",
              "      <td>E30°0'0\"</td>\n",
              "    </tr>\n",
              "    <tr>\n",
              "      <th>240</th>\n",
              "      <td>Zimbabue</td>\n",
              "      <td>S20°0'0\" E30°0'0\"</td>\n",
              "      <td>S20°0'0\"</td>\n",
              "      <td>E30°0'0\"</td>\n",
              "    </tr>\n",
              "  </tbody>\n",
              "</table>\n",
              "<p>241 rows × 4 columns</p>\n",
              "</div>"
            ],
            "text/plain": [
              "                Pais    Latitud y Longitud     Latitud    Longitud\n",
              "0         Afganistán     N33°0'0\" E65°0'0\"    N33°0'0\"    E65°0'0\"\n",
              "1            Albania  N41°19'60\" E19°49'0\"  N41°19'60\"   E19°49'0\"\n",
              "2           Alemania      N51°0'0\" E9°0'0\"    N51°0'0\"     E9°0'0\"\n",
              "3            Andorra    N42°30'0\" E1°36'0\"   N42°30'0\"    E1°36'0\"\n",
              "4             Angola   S12°30'0\" E18°30'0\"   S12°30'0\"   E18°30'0\"\n",
              "..               ...                   ...         ...         ...\n",
              "236  Wallis y Futuna  S13°18'0\" O176°12'0\"   S13°18'0\"  O176°12'0\"\n",
              "237            Yemen     N15°0'0\" E48°0'0\"    N15°0'0\"    E48°0'0\"\n",
              "238           Yibuti    N11°30'0\" E43°0'0\"   N11°30'0\"    E43°0'0\"\n",
              "239           Zambia     S15°0'0\" E30°0'0\"    S15°0'0\"    E30°0'0\"\n",
              "240         Zimbabue     S20°0'0\" E30°0'0\"    S20°0'0\"    E30°0'0\"\n",
              "\n",
              "[241 rows x 4 columns]"
            ]
          },
          "metadata": {
            "tags": []
          },
          "execution_count": 76
        }
      ]
    },
    {
      "cell_type": "code",
      "metadata": {
        "id": "14Tbg6FBGqKu"
      },
      "source": [
        "df.to_csv('Coordenadas_Geograficas.csv')"
      ],
      "execution_count": 77,
      "outputs": []
    }
  ]
}