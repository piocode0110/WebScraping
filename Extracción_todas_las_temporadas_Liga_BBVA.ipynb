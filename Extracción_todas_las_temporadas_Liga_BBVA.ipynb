{
  "nbformat": 4,
  "nbformat_minor": 0,
  "metadata": {
    "kernelspec": {
      "display_name": "Python 3",
      "language": "python",
      "name": "python3"
    },
    "language_info": {
      "codemirror_mode": {
        "name": "ipython",
        "version": 3
      },
      "file_extension": ".py",
      "mimetype": "text/x-python",
      "name": "python",
      "nbconvert_exporter": "python",
      "pygments_lexer": "ipython3",
      "version": "3.8.5"
    },
    "colab": {
      "name": "Extracción todas las temporadas Liga BBVA.ipynb",
      "provenance": [],
      "collapsed_sections": [],
      "include_colab_link": true
    }
  },
  "cells": [
    {
      "cell_type": "markdown",
      "metadata": {
        "id": "view-in-github",
        "colab_type": "text"
      },
      "source": [
        "<a href=\"https://colab.research.google.com/github/piocode0110/WebScraping/blob/main/Extracci%C3%B3n_todas_las_temporadas_Liga_BBVA.ipynb\" target=\"_parent\"><img src=\"https://colab.research.google.com/assets/colab-badge.svg\" alt=\"Open In Colab\"/></a>"
      ]
    },
    {
      "cell_type": "code",
      "metadata": {
        "id": "ijwPu2UYtvil"
      },
      "source": [
        "import pandas as pd \n",
        "import numpy as np\n",
        "import random\n",
        "import time \n",
        "from tqdm import tqdm"
      ],
      "execution_count": null,
      "outputs": []
    },
    {
      "cell_type": "markdown",
      "metadata": {
        "id": "kzPm8P8Atvip"
      },
      "source": [
        "# Leemos la data de la tabla"
      ]
    },
    {
      "cell_type": "code",
      "metadata": {
        "id": "Td3E1PChtvis"
      },
      "source": [
        "df=pd.read_html('https://www.espn.com.co/futbol/posiciones/_/liga/ESP.1/temporada/2020')"
      ],
      "execution_count": null,
      "outputs": []
    },
    {
      "cell_type": "code",
      "metadata": {
        "colab": {
          "base_uri": "https://localhost:8080/",
          "height": 205
        },
        "id": "ncmx0EDmtviv",
        "outputId": "81b8570a-d659-4119-b15a-31c7aba9b8b8"
      },
      "source": [
        "df[0].head()"
      ],
      "execution_count": null,
      "outputs": [
        {
          "output_type": "execute_result",
          "data": {
            "text/html": [
              "<div>\n",
              "<style scoped>\n",
              "    .dataframe tbody tr th:only-of-type {\n",
              "        vertical-align: middle;\n",
              "    }\n",
              "\n",
              "    .dataframe tbody tr th {\n",
              "        vertical-align: top;\n",
              "    }\n",
              "\n",
              "    .dataframe thead th {\n",
              "        text-align: right;\n",
              "    }\n",
              "</style>\n",
              "<table border=\"1\" class=\"dataframe\">\n",
              "  <thead>\n",
              "    <tr style=\"text-align: right;\">\n",
              "      <th></th>\n",
              "      <th>2020/2021</th>\n",
              "    </tr>\n",
              "  </thead>\n",
              "  <tbody>\n",
              "    <tr>\n",
              "      <th>0</th>\n",
              "      <td>1ATLAtlético Madrid</td>\n",
              "    </tr>\n",
              "    <tr>\n",
              "      <th>1</th>\n",
              "      <td>2MADReal Madrid</td>\n",
              "    </tr>\n",
              "    <tr>\n",
              "      <th>2</th>\n",
              "      <td>3BARBarcelona</td>\n",
              "    </tr>\n",
              "    <tr>\n",
              "      <th>3</th>\n",
              "      <td>4SEVSevilla FC</td>\n",
              "    </tr>\n",
              "    <tr>\n",
              "      <th>4</th>\n",
              "      <td>5SOCReal Sociedad</td>\n",
              "    </tr>\n",
              "  </tbody>\n",
              "</table>\n",
              "</div>"
            ],
            "text/plain": [
              "             2020/2021\n",
              "0  1ATLAtlético Madrid\n",
              "1      2MADReal Madrid\n",
              "2        3BARBarcelona\n",
              "3       4SEVSevilla FC\n",
              "4    5SOCReal Sociedad"
            ]
          },
          "metadata": {
            "tags": []
          },
          "execution_count": 4
        }
      ]
    },
    {
      "cell_type": "code",
      "metadata": {
        "colab": {
          "base_uri": "https://localhost:8080/"
        },
        "id": "AJMbCCP1-B2L",
        "outputId": "0d53fa71-8e1c-454b-dcba-3ba2dd8e46b8"
      },
      "source": [
        "type(df)"
      ],
      "execution_count": null,
      "outputs": [
        {
          "output_type": "execute_result",
          "data": {
            "text/plain": [
              "list"
            ]
          },
          "metadata": {
            "tags": []
          },
          "execution_count": 5
        }
      ]
    },
    {
      "cell_type": "code",
      "metadata": {
        "colab": {
          "base_uri": "https://localhost:8080/",
          "height": 204
        },
        "id": "JvNqRb-itvi0",
        "outputId": "88465eb8-5f40-4216-ad10-d65cd74c4990"
      },
      "source": [
        "df[1].head()"
      ],
      "execution_count": null,
      "outputs": [
        {
          "output_type": "execute_result",
          "data": {
            "text/html": [
              "<div>\n",
              "<style scoped>\n",
              "    .dataframe tbody tr th:only-of-type {\n",
              "        vertical-align: middle;\n",
              "    }\n",
              "\n",
              "    .dataframe tbody tr th {\n",
              "        vertical-align: top;\n",
              "    }\n",
              "\n",
              "    .dataframe thead th {\n",
              "        text-align: right;\n",
              "    }\n",
              "</style>\n",
              "<table border=\"1\" class=\"dataframe\">\n",
              "  <thead>\n",
              "    <tr style=\"text-align: right;\">\n",
              "      <th></th>\n",
              "      <th>J</th>\n",
              "      <th>G</th>\n",
              "      <th>E</th>\n",
              "      <th>P</th>\n",
              "      <th>GF</th>\n",
              "      <th>GC</th>\n",
              "      <th>DIF</th>\n",
              "      <th>PTS</th>\n",
              "    </tr>\n",
              "  </thead>\n",
              "  <tbody>\n",
              "    <tr>\n",
              "      <th>0</th>\n",
              "      <td>38</td>\n",
              "      <td>26</td>\n",
              "      <td>8</td>\n",
              "      <td>4</td>\n",
              "      <td>67</td>\n",
              "      <td>25</td>\n",
              "      <td>42</td>\n",
              "      <td>86</td>\n",
              "    </tr>\n",
              "    <tr>\n",
              "      <th>1</th>\n",
              "      <td>38</td>\n",
              "      <td>25</td>\n",
              "      <td>9</td>\n",
              "      <td>4</td>\n",
              "      <td>67</td>\n",
              "      <td>28</td>\n",
              "      <td>39</td>\n",
              "      <td>84</td>\n",
              "    </tr>\n",
              "    <tr>\n",
              "      <th>2</th>\n",
              "      <td>38</td>\n",
              "      <td>24</td>\n",
              "      <td>7</td>\n",
              "      <td>7</td>\n",
              "      <td>85</td>\n",
              "      <td>38</td>\n",
              "      <td>47</td>\n",
              "      <td>79</td>\n",
              "    </tr>\n",
              "    <tr>\n",
              "      <th>3</th>\n",
              "      <td>38</td>\n",
              "      <td>24</td>\n",
              "      <td>5</td>\n",
              "      <td>9</td>\n",
              "      <td>53</td>\n",
              "      <td>33</td>\n",
              "      <td>20</td>\n",
              "      <td>77</td>\n",
              "    </tr>\n",
              "    <tr>\n",
              "      <th>4</th>\n",
              "      <td>38</td>\n",
              "      <td>17</td>\n",
              "      <td>11</td>\n",
              "      <td>10</td>\n",
              "      <td>59</td>\n",
              "      <td>38</td>\n",
              "      <td>21</td>\n",
              "      <td>62</td>\n",
              "    </tr>\n",
              "  </tbody>\n",
              "</table>\n",
              "</div>"
            ],
            "text/plain": [
              "    J   G   E   P  GF  GC  DIF  PTS\n",
              "0  38  26   8   4  67  25   42   86\n",
              "1  38  25   9   4  67  28   39   84\n",
              "2  38  24   7   7  85  38   47   79\n",
              "3  38  24   5   9  53  33   20   77\n",
              "4  38  17  11  10  59  38   21   62"
            ]
          },
          "metadata": {
            "tags": []
          },
          "execution_count": 4
        }
      ]
    },
    {
      "cell_type": "code",
      "metadata": {
        "colab": {
          "base_uri": "https://localhost:8080/"
        },
        "id": "FcA3sOlqtvi2",
        "outputId": "84b20616-561c-4908-a540-bc24b79787d5"
      },
      "source": [
        "df[1].columns"
      ],
      "execution_count": null,
      "outputs": [
        {
          "output_type": "execute_result",
          "data": {
            "text/plain": [
              "Index(['J', 'G', 'E', 'P', 'GF', 'GC', 'DIF', 'PTS'], dtype='object')"
            ]
          },
          "metadata": {
            "tags": []
          },
          "execution_count": 5
        }
      ]
    },
    {
      "cell_type": "markdown",
      "metadata": {
        "id": "i6bAVDQYtvi4"
      },
      "source": [
        "# Concatenamos"
      ]
    },
    {
      "cell_type": "code",
      "metadata": {
        "colab": {
          "base_uri": "https://localhost:8080/",
          "height": 675
        },
        "id": "kNHDW7Jjtvi6",
        "outputId": "ae5cf3f2-4997-40b4-a78f-75a4d29ec5f7"
      },
      "source": [
        "df=pd.concat([df[0],df[1]],ignore_index=True,axis=1)\n",
        "df"
      ],
      "execution_count": null,
      "outputs": [
        {
          "output_type": "execute_result",
          "data": {
            "text/html": [
              "<div>\n",
              "<style scoped>\n",
              "    .dataframe tbody tr th:only-of-type {\n",
              "        vertical-align: middle;\n",
              "    }\n",
              "\n",
              "    .dataframe tbody tr th {\n",
              "        vertical-align: top;\n",
              "    }\n",
              "\n",
              "    .dataframe thead th {\n",
              "        text-align: right;\n",
              "    }\n",
              "</style>\n",
              "<table border=\"1\" class=\"dataframe\">\n",
              "  <thead>\n",
              "    <tr style=\"text-align: right;\">\n",
              "      <th></th>\n",
              "      <th>0</th>\n",
              "      <th>1</th>\n",
              "    </tr>\n",
              "  </thead>\n",
              "  <tbody>\n",
              "    <tr>\n",
              "      <th>0</th>\n",
              "      <td>1ATLAtlético Madrid</td>\n",
              "      <td>38</td>\n",
              "    </tr>\n",
              "    <tr>\n",
              "      <th>1</th>\n",
              "      <td>2MADReal Madrid</td>\n",
              "      <td>38</td>\n",
              "    </tr>\n",
              "    <tr>\n",
              "      <th>2</th>\n",
              "      <td>3BARBarcelona</td>\n",
              "      <td>38</td>\n",
              "    </tr>\n",
              "    <tr>\n",
              "      <th>3</th>\n",
              "      <td>4SEVSevilla FC</td>\n",
              "      <td>38</td>\n",
              "    </tr>\n",
              "    <tr>\n",
              "      <th>4</th>\n",
              "      <td>5SOCReal Sociedad</td>\n",
              "      <td>38</td>\n",
              "    </tr>\n",
              "    <tr>\n",
              "      <th>5</th>\n",
              "      <td>6Real BetisReal Betis</td>\n",
              "      <td>38</td>\n",
              "    </tr>\n",
              "    <tr>\n",
              "      <th>6</th>\n",
              "      <td>7VLRVillarreal</td>\n",
              "      <td>38</td>\n",
              "    </tr>\n",
              "    <tr>\n",
              "      <th>7</th>\n",
              "      <td>8VIGCelta Vigo</td>\n",
              "      <td>38</td>\n",
              "    </tr>\n",
              "    <tr>\n",
              "      <th>8</th>\n",
              "      <td>9GRNGranada</td>\n",
              "      <td>38</td>\n",
              "    </tr>\n",
              "    <tr>\n",
              "      <th>9</th>\n",
              "      <td>10BILAthletic Bilbao</td>\n",
              "      <td>38</td>\n",
              "    </tr>\n",
              "    <tr>\n",
              "      <th>10</th>\n",
              "      <td>11OSAOsasuna</td>\n",
              "      <td>38</td>\n",
              "    </tr>\n",
              "    <tr>\n",
              "      <th>11</th>\n",
              "      <td>12CADCádiz</td>\n",
              "      <td>38</td>\n",
              "    </tr>\n",
              "    <tr>\n",
              "      <th>12</th>\n",
              "      <td>13VALValencia</td>\n",
              "      <td>38</td>\n",
              "    </tr>\n",
              "    <tr>\n",
              "      <th>13</th>\n",
              "      <td>14LEVLevante</td>\n",
              "      <td>38</td>\n",
              "    </tr>\n",
              "    <tr>\n",
              "      <th>14</th>\n",
              "      <td>15GETGetafe</td>\n",
              "      <td>38</td>\n",
              "    </tr>\n",
              "    <tr>\n",
              "      <th>15</th>\n",
              "      <td>16AlavésAlavés</td>\n",
              "      <td>38</td>\n",
              "    </tr>\n",
              "    <tr>\n",
              "      <th>16</th>\n",
              "      <td>17ELCElche</td>\n",
              "      <td>38</td>\n",
              "    </tr>\n",
              "    <tr>\n",
              "      <th>17</th>\n",
              "      <td>18HuescaHuesca</td>\n",
              "      <td>38</td>\n",
              "    </tr>\n",
              "    <tr>\n",
              "      <th>18</th>\n",
              "      <td>19VLDReal Valladolid</td>\n",
              "      <td>38</td>\n",
              "    </tr>\n",
              "    <tr>\n",
              "      <th>19</th>\n",
              "      <td>20EIBEibar</td>\n",
              "      <td>38</td>\n",
              "    </tr>\n",
              "  </tbody>\n",
              "</table>\n",
              "</div>"
            ],
            "text/plain": [
              "                        0   1\n",
              "0     1ATLAtlético Madrid  38\n",
              "1         2MADReal Madrid  38\n",
              "2           3BARBarcelona  38\n",
              "3          4SEVSevilla FC  38\n",
              "4       5SOCReal Sociedad  38\n",
              "5   6Real BetisReal Betis  38\n",
              "6          7VLRVillarreal  38\n",
              "7          8VIGCelta Vigo  38\n",
              "8             9GRNGranada  38\n",
              "9    10BILAthletic Bilbao  38\n",
              "10           11OSAOsasuna  38\n",
              "11             12CADCádiz  38\n",
              "12          13VALValencia  38\n",
              "13           14LEVLevante  38\n",
              "14            15GETGetafe  38\n",
              "15         16AlavésAlavés  38\n",
              "16             17ELCElche  38\n",
              "17         18HuescaHuesca  38\n",
              "18   19VLDReal Valladolid  38\n",
              "19             20EIBEibar  38"
            ]
          },
          "metadata": {
            "tags": []
          },
          "execution_count": 7
        }
      ]
    },
    {
      "cell_type": "markdown",
      "metadata": {
        "id": "4K9BwNxttvi9"
      },
      "source": [
        "# Renombramos las columnas "
      ]
    },
    {
      "cell_type": "code",
      "metadata": {
        "id": "pQLLHuM0tvi-"
      },
      "source": [
        "df=df.rename(columns={0:'EQUIPO',1:'J', 2:'G', 3:'E', 4:'P', 5:'GF', 6:'GC', 7:'DIF', 8:'PTS'})"
      ],
      "execution_count": null,
      "outputs": []
    },
    {
      "cell_type": "markdown",
      "metadata": {
        "id": "VigeIcDitvjA"
      },
      "source": [
        "# Limpiamos la data\n",
        "\n",
        "Se limpian los primeros 4 caracteres ya que NO deseamos abreviaturas"
      ]
    },
    {
      "cell_type": "code",
      "metadata": {
        "colab": {
          "base_uri": "https://localhost:8080/",
          "height": 35
        },
        "id": "kBhNPekNtvjC",
        "outputId": "9141fc90-3c0e-4ce0-d27c-5c17a13dc3ef"
      },
      "source": [
        "# Antes\n",
        "df['EQUIPO'][0]"
      ],
      "execution_count": null,
      "outputs": [
        {
          "output_type": "execute_result",
          "data": {
            "application/vnd.google.colaboratory.intrinsic+json": {
              "type": "string"
            },
            "text/plain": [
              "'1ATLAtlético Madrid'"
            ]
          },
          "metadata": {
            "tags": []
          },
          "execution_count": 8
        }
      ]
    },
    {
      "cell_type": "code",
      "metadata": {
        "colab": {
          "base_uri": "https://localhost:8080/",
          "height": 35
        },
        "id": "7IfY_WlatvjD",
        "outputId": "ad12ed56-411c-49e7-e9df-8c85a7e35f64"
      },
      "source": [
        "# Despues\n",
        "df['EQUIPO'][0][4:]"
      ],
      "execution_count": null,
      "outputs": [
        {
          "output_type": "execute_result",
          "data": {
            "application/vnd.google.colaboratory.intrinsic+json": {
              "type": "string"
            },
            "text/plain": [
              "'Atlético Madrid'"
            ]
          },
          "metadata": {
            "tags": []
          },
          "execution_count": 9
        }
      ]
    },
    {
      "cell_type": "code",
      "metadata": {
        "id": "WKg5hY3utvjE"
      },
      "source": [
        "df['EQUIPO']=df['EQUIPO'].apply(lambda x : x[4:])"
      ],
      "execution_count": null,
      "outputs": []
    },
    {
      "cell_type": "markdown",
      "metadata": {
        "id": "e8Y6pO5RtvjF"
      },
      "source": [
        "# Tenemos nuestra tabla limpia "
      ]
    },
    {
      "cell_type": "code",
      "metadata": {
        "colab": {
          "base_uri": "https://localhost:8080/",
          "height": 669
        },
        "id": "Q5KfpAcXtvjG",
        "outputId": "8bc404ed-f7c9-4689-ff4c-6fb6ac0c8fcd"
      },
      "source": [
        "df"
      ],
      "execution_count": null,
      "outputs": [
        {
          "output_type": "execute_result",
          "data": {
            "text/html": [
              "<div>\n",
              "<style scoped>\n",
              "    .dataframe tbody tr th:only-of-type {\n",
              "        vertical-align: middle;\n",
              "    }\n",
              "\n",
              "    .dataframe tbody tr th {\n",
              "        vertical-align: top;\n",
              "    }\n",
              "\n",
              "    .dataframe thead th {\n",
              "        text-align: right;\n",
              "    }\n",
              "</style>\n",
              "<table border=\"1\" class=\"dataframe\">\n",
              "  <thead>\n",
              "    <tr style=\"text-align: right;\">\n",
              "      <th></th>\n",
              "      <th>EQUIPO</th>\n",
              "      <th>J</th>\n",
              "      <th>G</th>\n",
              "      <th>E</th>\n",
              "      <th>P</th>\n",
              "      <th>GF</th>\n",
              "      <th>GC</th>\n",
              "      <th>DIF</th>\n",
              "      <th>PTS</th>\n",
              "    </tr>\n",
              "  </thead>\n",
              "  <tbody>\n",
              "    <tr>\n",
              "      <th>0</th>\n",
              "      <td>Atlético Madrid</td>\n",
              "      <td>38</td>\n",
              "      <td>26</td>\n",
              "      <td>8</td>\n",
              "      <td>4</td>\n",
              "      <td>67</td>\n",
              "      <td>25</td>\n",
              "      <td>42</td>\n",
              "      <td>86</td>\n",
              "    </tr>\n",
              "    <tr>\n",
              "      <th>1</th>\n",
              "      <td>Real Madrid</td>\n",
              "      <td>38</td>\n",
              "      <td>25</td>\n",
              "      <td>9</td>\n",
              "      <td>4</td>\n",
              "      <td>67</td>\n",
              "      <td>28</td>\n",
              "      <td>39</td>\n",
              "      <td>84</td>\n",
              "    </tr>\n",
              "    <tr>\n",
              "      <th>2</th>\n",
              "      <td>Barcelona</td>\n",
              "      <td>38</td>\n",
              "      <td>24</td>\n",
              "      <td>7</td>\n",
              "      <td>7</td>\n",
              "      <td>85</td>\n",
              "      <td>38</td>\n",
              "      <td>47</td>\n",
              "      <td>79</td>\n",
              "    </tr>\n",
              "    <tr>\n",
              "      <th>3</th>\n",
              "      <td>Sevilla FC</td>\n",
              "      <td>38</td>\n",
              "      <td>24</td>\n",
              "      <td>5</td>\n",
              "      <td>9</td>\n",
              "      <td>53</td>\n",
              "      <td>33</td>\n",
              "      <td>20</td>\n",
              "      <td>77</td>\n",
              "    </tr>\n",
              "    <tr>\n",
              "      <th>4</th>\n",
              "      <td>Real Sociedad</td>\n",
              "      <td>38</td>\n",
              "      <td>17</td>\n",
              "      <td>11</td>\n",
              "      <td>10</td>\n",
              "      <td>59</td>\n",
              "      <td>38</td>\n",
              "      <td>21</td>\n",
              "      <td>62</td>\n",
              "    </tr>\n",
              "    <tr>\n",
              "      <th>5</th>\n",
              "      <td>l BetisReal Betis</td>\n",
              "      <td>38</td>\n",
              "      <td>17</td>\n",
              "      <td>10</td>\n",
              "      <td>11</td>\n",
              "      <td>50</td>\n",
              "      <td>50</td>\n",
              "      <td>0</td>\n",
              "      <td>61</td>\n",
              "    </tr>\n",
              "    <tr>\n",
              "      <th>6</th>\n",
              "      <td>Villarreal</td>\n",
              "      <td>38</td>\n",
              "      <td>15</td>\n",
              "      <td>13</td>\n",
              "      <td>10</td>\n",
              "      <td>60</td>\n",
              "      <td>44</td>\n",
              "      <td>16</td>\n",
              "      <td>58</td>\n",
              "    </tr>\n",
              "    <tr>\n",
              "      <th>7</th>\n",
              "      <td>Celta Vigo</td>\n",
              "      <td>38</td>\n",
              "      <td>14</td>\n",
              "      <td>11</td>\n",
              "      <td>13</td>\n",
              "      <td>55</td>\n",
              "      <td>57</td>\n",
              "      <td>-2</td>\n",
              "      <td>53</td>\n",
              "    </tr>\n",
              "    <tr>\n",
              "      <th>8</th>\n",
              "      <td>Granada</td>\n",
              "      <td>38</td>\n",
              "      <td>13</td>\n",
              "      <td>7</td>\n",
              "      <td>18</td>\n",
              "      <td>47</td>\n",
              "      <td>65</td>\n",
              "      <td>-18</td>\n",
              "      <td>46</td>\n",
              "    </tr>\n",
              "    <tr>\n",
              "      <th>9</th>\n",
              "      <td>LAthletic Bilbao</td>\n",
              "      <td>38</td>\n",
              "      <td>11</td>\n",
              "      <td>13</td>\n",
              "      <td>14</td>\n",
              "      <td>46</td>\n",
              "      <td>42</td>\n",
              "      <td>4</td>\n",
              "      <td>46</td>\n",
              "    </tr>\n",
              "    <tr>\n",
              "      <th>10</th>\n",
              "      <td>AOsasuna</td>\n",
              "      <td>38</td>\n",
              "      <td>11</td>\n",
              "      <td>11</td>\n",
              "      <td>16</td>\n",
              "      <td>37</td>\n",
              "      <td>48</td>\n",
              "      <td>-11</td>\n",
              "      <td>44</td>\n",
              "    </tr>\n",
              "    <tr>\n",
              "      <th>11</th>\n",
              "      <td>DCádiz</td>\n",
              "      <td>38</td>\n",
              "      <td>11</td>\n",
              "      <td>11</td>\n",
              "      <td>16</td>\n",
              "      <td>36</td>\n",
              "      <td>58</td>\n",
              "      <td>-22</td>\n",
              "      <td>44</td>\n",
              "    </tr>\n",
              "    <tr>\n",
              "      <th>12</th>\n",
              "      <td>LValencia</td>\n",
              "      <td>38</td>\n",
              "      <td>10</td>\n",
              "      <td>13</td>\n",
              "      <td>15</td>\n",
              "      <td>50</td>\n",
              "      <td>53</td>\n",
              "      <td>-3</td>\n",
              "      <td>43</td>\n",
              "    </tr>\n",
              "    <tr>\n",
              "      <th>13</th>\n",
              "      <td>VLevante</td>\n",
              "      <td>38</td>\n",
              "      <td>9</td>\n",
              "      <td>14</td>\n",
              "      <td>15</td>\n",
              "      <td>46</td>\n",
              "      <td>57</td>\n",
              "      <td>-11</td>\n",
              "      <td>41</td>\n",
              "    </tr>\n",
              "    <tr>\n",
              "      <th>14</th>\n",
              "      <td>TGetafe</td>\n",
              "      <td>38</td>\n",
              "      <td>9</td>\n",
              "      <td>11</td>\n",
              "      <td>18</td>\n",
              "      <td>28</td>\n",
              "      <td>43</td>\n",
              "      <td>-15</td>\n",
              "      <td>38</td>\n",
              "    </tr>\n",
              "    <tr>\n",
              "      <th>15</th>\n",
              "      <td>avésAlavés</td>\n",
              "      <td>38</td>\n",
              "      <td>9</td>\n",
              "      <td>11</td>\n",
              "      <td>18</td>\n",
              "      <td>36</td>\n",
              "      <td>57</td>\n",
              "      <td>-21</td>\n",
              "      <td>38</td>\n",
              "    </tr>\n",
              "    <tr>\n",
              "      <th>16</th>\n",
              "      <td>CElche</td>\n",
              "      <td>38</td>\n",
              "      <td>8</td>\n",
              "      <td>12</td>\n",
              "      <td>18</td>\n",
              "      <td>34</td>\n",
              "      <td>55</td>\n",
              "      <td>-21</td>\n",
              "      <td>36</td>\n",
              "    </tr>\n",
              "    <tr>\n",
              "      <th>17</th>\n",
              "      <td>escaHuesca</td>\n",
              "      <td>38</td>\n",
              "      <td>7</td>\n",
              "      <td>13</td>\n",
              "      <td>18</td>\n",
              "      <td>34</td>\n",
              "      <td>53</td>\n",
              "      <td>-19</td>\n",
              "      <td>34</td>\n",
              "    </tr>\n",
              "    <tr>\n",
              "      <th>18</th>\n",
              "      <td>DReal Valladolid</td>\n",
              "      <td>38</td>\n",
              "      <td>5</td>\n",
              "      <td>16</td>\n",
              "      <td>17</td>\n",
              "      <td>34</td>\n",
              "      <td>57</td>\n",
              "      <td>-23</td>\n",
              "      <td>31</td>\n",
              "    </tr>\n",
              "    <tr>\n",
              "      <th>19</th>\n",
              "      <td>BEibar</td>\n",
              "      <td>38</td>\n",
              "      <td>6</td>\n",
              "      <td>12</td>\n",
              "      <td>20</td>\n",
              "      <td>29</td>\n",
              "      <td>52</td>\n",
              "      <td>-23</td>\n",
              "      <td>30</td>\n",
              "    </tr>\n",
              "  </tbody>\n",
              "</table>\n",
              "</div>"
            ],
            "text/plain": [
              "               EQUIPO   J   G   E   P  GF  GC  DIF  PTS\n",
              "0     Atlético Madrid  38  26   8   4  67  25   42   86\n",
              "1         Real Madrid  38  25   9   4  67  28   39   84\n",
              "2           Barcelona  38  24   7   7  85  38   47   79\n",
              "3          Sevilla FC  38  24   5   9  53  33   20   77\n",
              "4       Real Sociedad  38  17  11  10  59  38   21   62\n",
              "5   l BetisReal Betis  38  17  10  11  50  50    0   61\n",
              "6          Villarreal  38  15  13  10  60  44   16   58\n",
              "7          Celta Vigo  38  14  11  13  55  57   -2   53\n",
              "8             Granada  38  13   7  18  47  65  -18   46\n",
              "9    LAthletic Bilbao  38  11  13  14  46  42    4   46\n",
              "10           AOsasuna  38  11  11  16  37  48  -11   44\n",
              "11             DCádiz  38  11  11  16  36  58  -22   44\n",
              "12          LValencia  38  10  13  15  50  53   -3   43\n",
              "13           VLevante  38   9  14  15  46  57  -11   41\n",
              "14            TGetafe  38   9  11  18  28  43  -15   38\n",
              "15         avésAlavés  38   9  11  18  36  57  -21   38\n",
              "16             CElche  38   8  12  18  34  55  -21   36\n",
              "17         escaHuesca  38   7  13  18  34  53  -19   34\n",
              "18   DReal Valladolid  38   5  16  17  34  57  -23   31\n",
              "19             BEibar  38   6  12  20  29  52  -23   30"
            ]
          },
          "metadata": {
            "tags": []
          },
          "execution_count": 11
        }
      ]
    },
    {
      "cell_type": "markdown",
      "metadata": {
        "id": "2oFi8wW0tvjH"
      },
      "source": [
        "# Extracción de todas las ligas"
      ]
    },
    {
      "cell_type": "code",
      "metadata": {
        "colab": {
          "base_uri": "https://localhost:8080/"
        },
        "id": "tRLZyXWotvjH",
        "outputId": "aa32903b-5701-4116-a943-5102fc0fec69"
      },
      "source": [
        "years=list(range(2004,2021))\n",
        "years"
      ],
      "execution_count": null,
      "outputs": [
        {
          "output_type": "execute_result",
          "data": {
            "text/plain": [
              "[2004,\n",
              " 2005,\n",
              " 2006,\n",
              " 2007,\n",
              " 2008,\n",
              " 2009,\n",
              " 2010,\n",
              " 2011,\n",
              " 2012,\n",
              " 2013,\n",
              " 2014,\n",
              " 2015,\n",
              " 2016,\n",
              " 2017,\n",
              " 2018,\n",
              " 2019,\n",
              " 2020]"
            ]
          },
          "metadata": {
            "tags": []
          },
          "execution_count": 12
        }
      ]
    },
    {
      "cell_type": "markdown",
      "metadata": {
        "id": "G8IbhXSltvjK"
      },
      "source": [
        "# Se genera tiempo aleatorio\n",
        "\n",
        "Con la finalidad de no ser baneado de la url elegida\n"
      ]
    },
    {
      "cell_type": "code",
      "metadata": {
        "colab": {
          "base_uri": "https://localhost:8080/"
        },
        "id": "a1jUOs8utvjL",
        "outputId": "ba1dda6c-88f5-4af4-d4fa-eb1fc9599f8a"
      },
      "source": [
        "random.choice([0.5,0.8,1,2,3])"
      ],
      "execution_count": null,
      "outputs": [
        {
          "output_type": "execute_result",
          "data": {
            "text/plain": [
              "0.5"
            ]
          },
          "metadata": {
            "tags": []
          },
          "execution_count": 13
        }
      ]
    },
    {
      "cell_type": "markdown",
      "metadata": {
        "id": "q75IwRoPtvjM"
      },
      "source": [
        "# Generamos Url dinamica\n"
      ]
    },
    {
      "cell_type": "code",
      "metadata": {
        "id": "XEl37cjvtvjN"
      },
      "source": [
        "url_base='https://www.espn.com.co/futbol/posiciones/_/liga/ESP.1/temporada/'"
      ],
      "execution_count": null,
      "outputs": []
    },
    {
      "cell_type": "markdown",
      "metadata": {
        "id": "pAnHW0R1tvjO"
      },
      "source": [
        "# Armamos Url por temporada"
      ]
    },
    {
      "cell_type": "code",
      "metadata": {
        "colab": {
          "base_uri": "https://localhost:8080/",
          "height": 35
        },
        "id": "TKwXu2VftvjP",
        "outputId": "6db34c3e-3f20-486f-a0b0-536d5ddb1481"
      },
      "source": [
        "url_base+str(years[0])"
      ],
      "execution_count": null,
      "outputs": [
        {
          "output_type": "execute_result",
          "data": {
            "application/vnd.google.colaboratory.intrinsic+json": {
              "type": "string"
            },
            "text/plain": [
              "'https://www.espn.com.co/futbol/posiciones/_/liga/ESP.1/temporada/2004'"
            ]
          },
          "metadata": {
            "tags": []
          },
          "execution_count": 15
        }
      ]
    },
    {
      "cell_type": "markdown",
      "metadata": {
        "id": "uDzWk13TtvjQ"
      },
      "source": [
        "# Extraemos info de todas las temporadas"
      ]
    },
    {
      "cell_type": "code",
      "metadata": {
        "colab": {
          "base_uri": "https://localhost:8080/"
        },
        "id": "mc32Q410tvjQ",
        "outputId": "f05db52d-fe23-4b5c-a677-8c7cc823448b"
      },
      "source": [
        "!pip install tqdm  #>>> instalas esta libreria "
      ],
      "execution_count": null,
      "outputs": [
        {
          "output_type": "stream",
          "text": [
            "Requirement already satisfied: tqdm in /usr/local/lib/python3.7/dist-packages (4.41.1)\n"
          ],
          "name": "stdout"
        }
      ]
    },
    {
      "cell_type": "code",
      "metadata": {
        "colab": {
          "base_uri": "https://localhost:8080/"
        },
        "id": "urpTwFm4tvjR",
        "outputId": "11e110d0-39d9-4b39-e647-8cb8dfc77f64"
      },
      "source": [
        "todas_temporadas=[]\n",
        "\n",
        "for i in tqdm(range(len(years))):\n",
        "    \n",
        "    # Extraemos data \n",
        "    df_temp=pd.read_html(url_base+str(years[i]))\n",
        "    \n",
        "    # Limpiamos \n",
        "    df_temp=pd.concat([df_temp[0],df_temp[1]],ignore_index=True,axis=1)\n",
        "    df_temp=df_temp.rename(columns={0:'EQUIPO',1:'J', 2:'G', 3:'E', 4:'P', 5:'GF', 6:'GC', 7:'DIF', 8:'PTS'})\n",
        "    df_temp['EQUIPO']=df_temp['EQUIPO'].apply(lambda x : x[4:])\n",
        "    df_temp['AÑO']=years[i]\n",
        "    \n",
        "    todas_temporadas.append(df_temp)\n",
        "    \n",
        "    # Usamos esto para desrobotizar el proceso , comportamiento humano\n",
        "    time.sleep(random.choice([0.5,0.8,1,2,3]))"
      ],
      "execution_count": null,
      "outputs": [
        {
          "output_type": "stream",
          "text": [
            "100%|██████████| 17/17 [00:30<00:00,  1.77s/it]\n"
          ],
          "name": "stderr"
        }
      ]
    },
    {
      "cell_type": "code",
      "metadata": {
        "colab": {
          "base_uri": "https://localhost:8080/",
          "height": 669
        },
        "id": "UQJqwCybtvjT",
        "outputId": "77edc651-55f6-463a-add5-e6ab0592f22a"
      },
      "source": [
        "todas_temporadas[3]"
      ],
      "execution_count": null,
      "outputs": [
        {
          "output_type": "execute_result",
          "data": {
            "text/html": [
              "<div>\n",
              "<style scoped>\n",
              "    .dataframe tbody tr th:only-of-type {\n",
              "        vertical-align: middle;\n",
              "    }\n",
              "\n",
              "    .dataframe tbody tr th {\n",
              "        vertical-align: top;\n",
              "    }\n",
              "\n",
              "    .dataframe thead th {\n",
              "        text-align: right;\n",
              "    }\n",
              "</style>\n",
              "<table border=\"1\" class=\"dataframe\">\n",
              "  <thead>\n",
              "    <tr style=\"text-align: right;\">\n",
              "      <th></th>\n",
              "      <th>EQUIPO</th>\n",
              "      <th>J</th>\n",
              "      <th>G</th>\n",
              "      <th>E</th>\n",
              "      <th>P</th>\n",
              "      <th>GF</th>\n",
              "      <th>GC</th>\n",
              "      <th>DIF</th>\n",
              "      <th>PTS</th>\n",
              "      <th>AÑO</th>\n",
              "    </tr>\n",
              "  </thead>\n",
              "  <tbody>\n",
              "    <tr>\n",
              "      <th>0</th>\n",
              "      <td>Real Madrid</td>\n",
              "      <td>38</td>\n",
              "      <td>27</td>\n",
              "      <td>4</td>\n",
              "      <td>7</td>\n",
              "      <td>84</td>\n",
              "      <td>36</td>\n",
              "      <td>48</td>\n",
              "      <td>85</td>\n",
              "      <td>2007</td>\n",
              "    </tr>\n",
              "    <tr>\n",
              "      <th>1</th>\n",
              "      <td>Villarreal</td>\n",
              "      <td>38</td>\n",
              "      <td>24</td>\n",
              "      <td>5</td>\n",
              "      <td>9</td>\n",
              "      <td>63</td>\n",
              "      <td>40</td>\n",
              "      <td>23</td>\n",
              "      <td>77</td>\n",
              "      <td>2007</td>\n",
              "    </tr>\n",
              "    <tr>\n",
              "      <th>2</th>\n",
              "      <td>Barcelona</td>\n",
              "      <td>38</td>\n",
              "      <td>19</td>\n",
              "      <td>10</td>\n",
              "      <td>9</td>\n",
              "      <td>76</td>\n",
              "      <td>43</td>\n",
              "      <td>33</td>\n",
              "      <td>67</td>\n",
              "      <td>2007</td>\n",
              "    </tr>\n",
              "    <tr>\n",
              "      <th>3</th>\n",
              "      <td>Atlético Madrid</td>\n",
              "      <td>38</td>\n",
              "      <td>19</td>\n",
              "      <td>7</td>\n",
              "      <td>12</td>\n",
              "      <td>66</td>\n",
              "      <td>47</td>\n",
              "      <td>19</td>\n",
              "      <td>64</td>\n",
              "      <td>2007</td>\n",
              "    </tr>\n",
              "    <tr>\n",
              "      <th>4</th>\n",
              "      <td>Sevilla FC</td>\n",
              "      <td>38</td>\n",
              "      <td>20</td>\n",
              "      <td>4</td>\n",
              "      <td>14</td>\n",
              "      <td>75</td>\n",
              "      <td>49</td>\n",
              "      <td>26</td>\n",
              "      <td>64</td>\n",
              "      <td>2007</td>\n",
              "    </tr>\n",
              "    <tr>\n",
              "      <th>5</th>\n",
              "      <td>Racing Santander</td>\n",
              "      <td>38</td>\n",
              "      <td>17</td>\n",
              "      <td>9</td>\n",
              "      <td>12</td>\n",
              "      <td>42</td>\n",
              "      <td>41</td>\n",
              "      <td>1</td>\n",
              "      <td>60</td>\n",
              "      <td>2007</td>\n",
              "    </tr>\n",
              "    <tr>\n",
              "      <th>6</th>\n",
              "      <td>Mallorca</td>\n",
              "      <td>38</td>\n",
              "      <td>15</td>\n",
              "      <td>14</td>\n",
              "      <td>9</td>\n",
              "      <td>69</td>\n",
              "      <td>54</td>\n",
              "      <td>15</td>\n",
              "      <td>59</td>\n",
              "      <td>2007</td>\n",
              "    </tr>\n",
              "    <tr>\n",
              "      <th>7</th>\n",
              "      <td>Almería</td>\n",
              "      <td>38</td>\n",
              "      <td>14</td>\n",
              "      <td>10</td>\n",
              "      <td>14</td>\n",
              "      <td>42</td>\n",
              "      <td>45</td>\n",
              "      <td>-3</td>\n",
              "      <td>52</td>\n",
              "      <td>2007</td>\n",
              "    </tr>\n",
              "    <tr>\n",
              "      <th>8</th>\n",
              "      <td>Deportivo La Coruña</td>\n",
              "      <td>38</td>\n",
              "      <td>15</td>\n",
              "      <td>7</td>\n",
              "      <td>16</td>\n",
              "      <td>46</td>\n",
              "      <td>47</td>\n",
              "      <td>-1</td>\n",
              "      <td>52</td>\n",
              "      <td>2007</td>\n",
              "    </tr>\n",
              "    <tr>\n",
              "      <th>9</th>\n",
              "      <td>LValencia</td>\n",
              "      <td>38</td>\n",
              "      <td>15</td>\n",
              "      <td>6</td>\n",
              "      <td>17</td>\n",
              "      <td>48</td>\n",
              "      <td>62</td>\n",
              "      <td>-14</td>\n",
              "      <td>51</td>\n",
              "      <td>2007</td>\n",
              "    </tr>\n",
              "    <tr>\n",
              "      <th>10</th>\n",
              "      <td>LAthletic Bilbao</td>\n",
              "      <td>38</td>\n",
              "      <td>13</td>\n",
              "      <td>11</td>\n",
              "      <td>14</td>\n",
              "      <td>40</td>\n",
              "      <td>43</td>\n",
              "      <td>-3</td>\n",
              "      <td>50</td>\n",
              "      <td>2007</td>\n",
              "    </tr>\n",
              "    <tr>\n",
              "      <th>11</th>\n",
              "      <td>PEspanyol</td>\n",
              "      <td>38</td>\n",
              "      <td>13</td>\n",
              "      <td>9</td>\n",
              "      <td>16</td>\n",
              "      <td>43</td>\n",
              "      <td>53</td>\n",
              "      <td>-10</td>\n",
              "      <td>48</td>\n",
              "      <td>2007</td>\n",
              "    </tr>\n",
              "    <tr>\n",
              "      <th>12</th>\n",
              "      <td>al BetisReal Betis</td>\n",
              "      <td>38</td>\n",
              "      <td>12</td>\n",
              "      <td>11</td>\n",
              "      <td>15</td>\n",
              "      <td>45</td>\n",
              "      <td>51</td>\n",
              "      <td>-6</td>\n",
              "      <td>47</td>\n",
              "      <td>2007</td>\n",
              "    </tr>\n",
              "    <tr>\n",
              "      <th>13</th>\n",
              "      <td>TGetafe</td>\n",
              "      <td>38</td>\n",
              "      <td>12</td>\n",
              "      <td>11</td>\n",
              "      <td>15</td>\n",
              "      <td>44</td>\n",
              "      <td>48</td>\n",
              "      <td>-4</td>\n",
              "      <td>47</td>\n",
              "      <td>2007</td>\n",
              "    </tr>\n",
              "    <tr>\n",
              "      <th>14</th>\n",
              "      <td>DReal Valladolid</td>\n",
              "      <td>38</td>\n",
              "      <td>11</td>\n",
              "      <td>12</td>\n",
              "      <td>15</td>\n",
              "      <td>42</td>\n",
              "      <td>57</td>\n",
              "      <td>-15</td>\n",
              "      <td>45</td>\n",
              "      <td>2007</td>\n",
              "    </tr>\n",
              "    <tr>\n",
              "      <th>15</th>\n",
              "      <td>ERecreativo Huelva</td>\n",
              "      <td>38</td>\n",
              "      <td>11</td>\n",
              "      <td>11</td>\n",
              "      <td>16</td>\n",
              "      <td>40</td>\n",
              "      <td>60</td>\n",
              "      <td>-20</td>\n",
              "      <td>44</td>\n",
              "      <td>2007</td>\n",
              "    </tr>\n",
              "    <tr>\n",
              "      <th>16</th>\n",
              "      <td>AOsasuna</td>\n",
              "      <td>38</td>\n",
              "      <td>12</td>\n",
              "      <td>7</td>\n",
              "      <td>19</td>\n",
              "      <td>37</td>\n",
              "      <td>44</td>\n",
              "      <td>-7</td>\n",
              "      <td>43</td>\n",
              "      <td>2007</td>\n",
              "    </tr>\n",
              "    <tr>\n",
              "      <th>17</th>\n",
              "      <td>RReal Zaragoza</td>\n",
              "      <td>38</td>\n",
              "      <td>10</td>\n",
              "      <td>12</td>\n",
              "      <td>16</td>\n",
              "      <td>50</td>\n",
              "      <td>61</td>\n",
              "      <td>-11</td>\n",
              "      <td>42</td>\n",
              "      <td>2007</td>\n",
              "    </tr>\n",
              "    <tr>\n",
              "      <th>18</th>\n",
              "      <td>RMurcia</td>\n",
              "      <td>38</td>\n",
              "      <td>7</td>\n",
              "      <td>9</td>\n",
              "      <td>22</td>\n",
              "      <td>36</td>\n",
              "      <td>65</td>\n",
              "      <td>-29</td>\n",
              "      <td>30</td>\n",
              "      <td>2007</td>\n",
              "    </tr>\n",
              "    <tr>\n",
              "      <th>19</th>\n",
              "      <td>VLevante</td>\n",
              "      <td>38</td>\n",
              "      <td>7</td>\n",
              "      <td>5</td>\n",
              "      <td>26</td>\n",
              "      <td>33</td>\n",
              "      <td>75</td>\n",
              "      <td>-42</td>\n",
              "      <td>26</td>\n",
              "      <td>2007</td>\n",
              "    </tr>\n",
              "  </tbody>\n",
              "</table>\n",
              "</div>"
            ],
            "text/plain": [
              "                 EQUIPO   J   G   E   P  GF  GC  DIF  PTS   AÑO\n",
              "0           Real Madrid  38  27   4   7  84  36   48   85  2007\n",
              "1            Villarreal  38  24   5   9  63  40   23   77  2007\n",
              "2             Barcelona  38  19  10   9  76  43   33   67  2007\n",
              "3       Atlético Madrid  38  19   7  12  66  47   19   64  2007\n",
              "4            Sevilla FC  38  20   4  14  75  49   26   64  2007\n",
              "5      Racing Santander  38  17   9  12  42  41    1   60  2007\n",
              "6              Mallorca  38  15  14   9  69  54   15   59  2007\n",
              "7               Almería  38  14  10  14  42  45   -3   52  2007\n",
              "8   Deportivo La Coruña  38  15   7  16  46  47   -1   52  2007\n",
              "9             LValencia  38  15   6  17  48  62  -14   51  2007\n",
              "10     LAthletic Bilbao  38  13  11  14  40  43   -3   50  2007\n",
              "11            PEspanyol  38  13   9  16  43  53  -10   48  2007\n",
              "12   al BetisReal Betis  38  12  11  15  45  51   -6   47  2007\n",
              "13              TGetafe  38  12  11  15  44  48   -4   47  2007\n",
              "14     DReal Valladolid  38  11  12  15  42  57  -15   45  2007\n",
              "15   ERecreativo Huelva  38  11  11  16  40  60  -20   44  2007\n",
              "16             AOsasuna  38  12   7  19  37  44   -7   43  2007\n",
              "17       RReal Zaragoza  38  10  12  16  50  61  -11   42  2007\n",
              "18              RMurcia  38   7   9  22  36  65  -29   30  2007\n",
              "19             VLevante  38   7   5  26  33  75  -42   26  2007"
            ]
          },
          "metadata": {
            "tags": []
          },
          "execution_count": 18
        }
      ]
    },
    {
      "cell_type": "code",
      "metadata": {
        "id": "2S6C8H3qtvjT"
      },
      "source": [
        "data_final=pd.concat(todas_temporadas,ignore_index=True)"
      ],
      "execution_count": null,
      "outputs": []
    },
    {
      "cell_type": "code",
      "metadata": {
        "colab": {
          "base_uri": "https://localhost:8080/",
          "height": 419
        },
        "id": "L2Y-z0mktvjU",
        "outputId": "2f717ee7-ccd7-4f91-cf98-6439b27230dd"
      },
      "source": [
        "data_final"
      ],
      "execution_count": null,
      "outputs": [
        {
          "output_type": "execute_result",
          "data": {
            "text/html": [
              "<div>\n",
              "<style scoped>\n",
              "    .dataframe tbody tr th:only-of-type {\n",
              "        vertical-align: middle;\n",
              "    }\n",
              "\n",
              "    .dataframe tbody tr th {\n",
              "        vertical-align: top;\n",
              "    }\n",
              "\n",
              "    .dataframe thead th {\n",
              "        text-align: right;\n",
              "    }\n",
              "</style>\n",
              "<table border=\"1\" class=\"dataframe\">\n",
              "  <thead>\n",
              "    <tr style=\"text-align: right;\">\n",
              "      <th></th>\n",
              "      <th>EQUIPO</th>\n",
              "      <th>J</th>\n",
              "      <th>G</th>\n",
              "      <th>E</th>\n",
              "      <th>P</th>\n",
              "      <th>GF</th>\n",
              "      <th>GC</th>\n",
              "      <th>DIF</th>\n",
              "      <th>PTS</th>\n",
              "      <th>AÑO</th>\n",
              "    </tr>\n",
              "  </thead>\n",
              "  <tbody>\n",
              "    <tr>\n",
              "      <th>0</th>\n",
              "      <td>Barcelona</td>\n",
              "      <td>38</td>\n",
              "      <td>25</td>\n",
              "      <td>9</td>\n",
              "      <td>4</td>\n",
              "      <td>73</td>\n",
              "      <td>29</td>\n",
              "      <td>44</td>\n",
              "      <td>84</td>\n",
              "      <td>2004</td>\n",
              "    </tr>\n",
              "    <tr>\n",
              "      <th>1</th>\n",
              "      <td>Real Madrid</td>\n",
              "      <td>38</td>\n",
              "      <td>25</td>\n",
              "      <td>5</td>\n",
              "      <td>8</td>\n",
              "      <td>71</td>\n",
              "      <td>32</td>\n",
              "      <td>39</td>\n",
              "      <td>80</td>\n",
              "      <td>2004</td>\n",
              "    </tr>\n",
              "    <tr>\n",
              "      <th>2</th>\n",
              "      <td>Villarreal</td>\n",
              "      <td>38</td>\n",
              "      <td>18</td>\n",
              "      <td>11</td>\n",
              "      <td>9</td>\n",
              "      <td>69</td>\n",
              "      <td>37</td>\n",
              "      <td>32</td>\n",
              "      <td>65</td>\n",
              "      <td>2004</td>\n",
              "    </tr>\n",
              "    <tr>\n",
              "      <th>3</th>\n",
              "      <td>l BetisReal Betis</td>\n",
              "      <td>38</td>\n",
              "      <td>16</td>\n",
              "      <td>14</td>\n",
              "      <td>8</td>\n",
              "      <td>62</td>\n",
              "      <td>50</td>\n",
              "      <td>12</td>\n",
              "      <td>62</td>\n",
              "      <td>2004</td>\n",
              "    </tr>\n",
              "    <tr>\n",
              "      <th>4</th>\n",
              "      <td>Espanyol</td>\n",
              "      <td>38</td>\n",
              "      <td>17</td>\n",
              "      <td>10</td>\n",
              "      <td>11</td>\n",
              "      <td>54</td>\n",
              "      <td>46</td>\n",
              "      <td>8</td>\n",
              "      <td>61</td>\n",
              "      <td>2004</td>\n",
              "    </tr>\n",
              "    <tr>\n",
              "      <th>...</th>\n",
              "      <td>...</td>\n",
              "      <td>...</td>\n",
              "      <td>...</td>\n",
              "      <td>...</td>\n",
              "      <td>...</td>\n",
              "      <td>...</td>\n",
              "      <td>...</td>\n",
              "      <td>...</td>\n",
              "      <td>...</td>\n",
              "      <td>...</td>\n",
              "    </tr>\n",
              "    <tr>\n",
              "      <th>335</th>\n",
              "      <td>avésAlavés</td>\n",
              "      <td>38</td>\n",
              "      <td>9</td>\n",
              "      <td>11</td>\n",
              "      <td>18</td>\n",
              "      <td>36</td>\n",
              "      <td>57</td>\n",
              "      <td>-21</td>\n",
              "      <td>38</td>\n",
              "      <td>2020</td>\n",
              "    </tr>\n",
              "    <tr>\n",
              "      <th>336</th>\n",
              "      <td>CElche</td>\n",
              "      <td>38</td>\n",
              "      <td>8</td>\n",
              "      <td>12</td>\n",
              "      <td>18</td>\n",
              "      <td>34</td>\n",
              "      <td>55</td>\n",
              "      <td>-21</td>\n",
              "      <td>36</td>\n",
              "      <td>2020</td>\n",
              "    </tr>\n",
              "    <tr>\n",
              "      <th>337</th>\n",
              "      <td>escaHuesca</td>\n",
              "      <td>38</td>\n",
              "      <td>7</td>\n",
              "      <td>13</td>\n",
              "      <td>18</td>\n",
              "      <td>34</td>\n",
              "      <td>53</td>\n",
              "      <td>-19</td>\n",
              "      <td>34</td>\n",
              "      <td>2020</td>\n",
              "    </tr>\n",
              "    <tr>\n",
              "      <th>338</th>\n",
              "      <td>DReal Valladolid</td>\n",
              "      <td>38</td>\n",
              "      <td>5</td>\n",
              "      <td>16</td>\n",
              "      <td>17</td>\n",
              "      <td>34</td>\n",
              "      <td>57</td>\n",
              "      <td>-23</td>\n",
              "      <td>31</td>\n",
              "      <td>2020</td>\n",
              "    </tr>\n",
              "    <tr>\n",
              "      <th>339</th>\n",
              "      <td>BEibar</td>\n",
              "      <td>38</td>\n",
              "      <td>6</td>\n",
              "      <td>12</td>\n",
              "      <td>20</td>\n",
              "      <td>29</td>\n",
              "      <td>52</td>\n",
              "      <td>-23</td>\n",
              "      <td>30</td>\n",
              "      <td>2020</td>\n",
              "    </tr>\n",
              "  </tbody>\n",
              "</table>\n",
              "<p>340 rows × 10 columns</p>\n",
              "</div>"
            ],
            "text/plain": [
              "                EQUIPO   J   G   E   P  GF  GC  DIF  PTS   AÑO\n",
              "0            Barcelona  38  25   9   4  73  29   44   84  2004\n",
              "1          Real Madrid  38  25   5   8  71  32   39   80  2004\n",
              "2           Villarreal  38  18  11   9  69  37   32   65  2004\n",
              "3    l BetisReal Betis  38  16  14   8  62  50   12   62  2004\n",
              "4             Espanyol  38  17  10  11  54  46    8   61  2004\n",
              "..                 ...  ..  ..  ..  ..  ..  ..  ...  ...   ...\n",
              "335         avésAlavés  38   9  11  18  36  57  -21   38  2020\n",
              "336             CElche  38   8  12  18  34  55  -21   36  2020\n",
              "337         escaHuesca  38   7  13  18  34  53  -19   34  2020\n",
              "338   DReal Valladolid  38   5  16  17  34  57  -23   31  2020\n",
              "339             BEibar  38   6  12  20  29  52  -23   30  2020\n",
              "\n",
              "[340 rows x 10 columns]"
            ]
          },
          "metadata": {
            "tags": []
          },
          "execution_count": 23
        }
      ]
    },
    {
      "cell_type": "markdown",
      "metadata": {
        "id": "jQbeUnT7tvjV"
      },
      "source": [
        "# Guardamos toda la info en un .csv"
      ]
    },
    {
      "cell_type": "code",
      "metadata": {
        "id": "ohwfMdHstvjV"
      },
      "source": [
        "data_final.to_csv('Todas_temporadas_BBVA.csv')"
      ],
      "execution_count": null,
      "outputs": []
    },
    {
      "cell_type": "code",
      "metadata": {
        "id": "5yw92c1jytBJ"
      },
      "source": [
        "import os"
      ],
      "execution_count": null,
      "outputs": []
    },
    {
      "cell_type": "code",
      "metadata": {
        "colab": {
          "base_uri": "https://localhost:8080/"
        },
        "id": "PorgoSfsyyJ2",
        "outputId": "765663c8-b3ae-422b-96ad-75aaed03f663"
      },
      "source": [
        "os.listdir()"
      ],
      "execution_count": null,
      "outputs": [
        {
          "output_type": "execute_result",
          "data": {
            "text/plain": [
              "['.config', 'Todas_temporadas_BBVA.csv', 'sample_data']"
            ]
          },
          "metadata": {
            "tags": []
          },
          "execution_count": 27
        }
      ]
    },
    {
      "cell_type": "code",
      "metadata": {
        "colab": {
          "base_uri": "https://localhost:8080/"
        },
        "id": "RiWoMgF7zHbv",
        "outputId": "a1a8b901-bdc8-48a3-db6d-e2fcb3d2b809"
      },
      "source": [
        "os.listdir('sample_data')"
      ],
      "execution_count": null,
      "outputs": [
        {
          "output_type": "execute_result",
          "data": {
            "text/plain": [
              "['anscombe.json',\n",
              " 'README.md',\n",
              " 'california_housing_train.csv',\n",
              " 'mnist_test.csv',\n",
              " 'mnist_train_small.csv',\n",
              " 'california_housing_test.csv']"
            ]
          },
          "metadata": {
            "tags": []
          },
          "execution_count": 28
        }
      ]
    },
    {
      "cell_type": "code",
      "metadata": {
        "colab": {
          "base_uri": "https://localhost:8080/",
          "height": 35
        },
        "id": "BXHj58VtzjpB",
        "outputId": "7b9ed44f-0ae9-4192-f2fc-4c66e2c8bb2e"
      },
      "source": [
        "os.getcwd()"
      ],
      "execution_count": null,
      "outputs": [
        {
          "output_type": "execute_result",
          "data": {
            "application/vnd.google.colaboratory.intrinsic+json": {
              "type": "string"
            },
            "text/plain": [
              "'/content/JAN'"
            ]
          },
          "metadata": {
            "tags": []
          },
          "execution_count": 33
        }
      ]
    },
    {
      "cell_type": "code",
      "metadata": {
        "colab": {
          "base_uri": "https://localhost:8080/"
        },
        "id": "xSHXElmmzqNL",
        "outputId": "6b207ce0-bc9e-42ea-ea14-9d300389466a"
      },
      "source": [
        "!pwd"
      ],
      "execution_count": null,
      "outputs": [
        {
          "output_type": "stream",
          "text": [
            "/content\n"
          ],
          "name": "stdout"
        }
      ]
    },
    {
      "cell_type": "code",
      "metadata": {
        "id": "5RWLoHdaztZZ"
      },
      "source": [
        "os.mkdir('JAN')"
      ],
      "execution_count": null,
      "outputs": []
    },
    {
      "cell_type": "code",
      "metadata": {
        "id": "1l-erPWcz8--"
      },
      "source": [
        "os.chdir('JAN')"
      ],
      "execution_count": null,
      "outputs": []
    },
    {
      "cell_type": "code",
      "metadata": {
        "id": "iYnKUF420CxS"
      },
      "source": [
        ""
      ],
      "execution_count": null,
      "outputs": []
    },
    {
      "cell_type": "markdown",
      "metadata": {
        "id": "z0MnaundtvjW"
      },
      "source": [
        "# FINALLLL"
      ]
    },
    {
      "cell_type": "code",
      "metadata": {
        "id": "nq_8RNiRtvjW"
      },
      "source": [
        ""
      ],
      "execution_count": null,
      "outputs": []
    },
    {
      "cell_type": "code",
      "metadata": {
        "id": "CSOKBnVitvjX"
      },
      "source": [
        ""
      ],
      "execution_count": null,
      "outputs": []
    }
  ]
}