{
  "nbformat": 4,
  "nbformat_minor": 0,
  "metadata": {
    "colab": {
      "name": "WebScraping_Celulares.ipynb",
      "provenance": [],
      "collapsed_sections": [],
      "authorship_tag": "ABX9TyOBOHE0ZbHOKK5/58cIIUEI",
      "include_colab_link": true
    },
    "kernelspec": {
      "name": "python3",
      "display_name": "Python 3"
    },
    "language_info": {
      "name": "python"
    }
  },
  "cells": [
    {
      "cell_type": "markdown",
      "metadata": {
        "id": "view-in-github",
        "colab_type": "text"
      },
      "source": [
        "<a href=\"https://colab.research.google.com/github/piocode0110/WebScraping/blob/main/WebScraping_Celulares.ipynb\" target=\"_parent\"><img src=\"https://colab.research.google.com/assets/colab-badge.svg\" alt=\"Open In Colab\"/></a>"
      ]
    },
    {
      "cell_type": "markdown",
      "metadata": {
        "id": "qyE5lHLw_mHm"
      },
      "source": [
        "\n",
        "<h1><center>Caso de Estudio:</center></h1>\n",
        "\n",
        "Este ejercicio fue realizado por **[Piocode0110](https://www.linkedin.com/in/jamavapiocu/)** con fines exclusivemente academicos y no comerciales, cualquier uso ilegal estara fuera de mis intensiones.\n",
        "\n",
        "\n",
        "\n",
        "<img src=\"https://www.eltiempo.com/files/image_640_428/uploads/2020/05/12/5ebb6e7a36ae3.jpeg\">"
      ]
    },
    {
      "cell_type": "code",
      "metadata": {
        "id": "uhORZin0oNwD"
      },
      "source": [
        "import pandas as pd\n",
        "import requests\n",
        "from bs4 import BeautifulSoup\n",
        "from tqdm import tqdm"
      ],
      "execution_count": null,
      "outputs": []
    },
    {
      "cell_type": "code",
      "metadata": {
        "id": "kesgtFNgosqL"
      },
      "source": [
        "url= 'https://compras.tigo.com.co/celulares?O=OrderByPriceDESC'"
      ],
      "execution_count": null,
      "outputs": []
    },
    {
      "cell_type": "markdown",
      "metadata": {
        "id": "ANLoc0c6pSu3"
      },
      "source": [
        "#PETICION A MI SITIO WEB\n",
        "Se realiza metodo get para obtener info del sitio web. se extrae la info con request"
      ]
    },
    {
      "cell_type": "code",
      "metadata": {
        "id": "LWsSVadgpLVz"
      },
      "source": [
        "resp=requests.get(url)"
      ],
      "execution_count": null,
      "outputs": []
    },
    {
      "cell_type": "markdown",
      "metadata": {
        "id": "o38xihnbw2Jj"
      },
      "source": [
        "#El código de estado HTTP 200 significa OK, que es la respuesta estándar para solicitudes HTTP exitosas"
      ]
    },
    {
      "cell_type": "code",
      "metadata": {
        "colab": {
          "base_uri": "https://localhost:8080/"
        },
        "id": "k8Qa4hHmpXJx",
        "outputId": "309f40c4-d2e3-42e0-9931-225fb05c1086"
      },
      "source": [
        "resp.status_code"
      ],
      "execution_count": null,
      "outputs": [
        {
          "output_type": "execute_result",
          "data": {
            "text/plain": [
              "200"
            ]
          },
          "metadata": {
            "tags": []
          },
          "execution_count": 4
        }
      ]
    },
    {
      "cell_type": "markdown",
      "metadata": {
        "id": "TA0Pt-YiwdVr"
      },
      "source": [
        "#Beautiful Soup es una librería Python que permite extraer información de contenido en formato HTML o XML. Para usarla, es necesario especificar un parser, que es responsable de transformar un documento HTML o XML en un árbol complejo de objetos Python."
      ]
    },
    {
      "cell_type": "code",
      "metadata": {
        "id": "Pzq6IQa8wQrV"
      },
      "source": [
        "soup=BeautifulSoup(resp.text,'html.parser')"
      ],
      "execution_count": null,
      "outputs": []
    },
    {
      "cell_type": "code",
      "metadata": {
        "id": "PJUq_LDCwczL"
      },
      "source": [
        "#soup"
      ],
      "execution_count": null,
      "outputs": []
    },
    {
      "cell_type": "markdown",
      "metadata": {
        "id": "33GwzSbI11T8"
      },
      "source": [
        "#EXTRACION DE TODO LOS NOMBRES DEL CELULAR SEGUN SU TITULO."
      ]
    },
    {
      "cell_type": "code",
      "metadata": {
        "id": "BWeCvZJ9xfSj"
      },
      "source": [
        "nombre_producto=soup.find_all('div', attrs={'class':'item-title'})"
      ],
      "execution_count": null,
      "outputs": []
    },
    {
      "cell_type": "code",
      "metadata": {
        "colab": {
          "base_uri": "https://localhost:8080/"
        },
        "id": "OAwK4kltyjNe",
        "outputId": "9a5e488c-3b2b-4991-987f-fe2f2bf82d94"
      },
      "source": [
        "len(nombre_producto)"
      ],
      "execution_count": null,
      "outputs": [
        {
          "output_type": "execute_result",
          "data": {
            "text/plain": [
              "24"
            ]
          },
          "metadata": {
            "tags": []
          },
          "execution_count": 8
        }
      ]
    },
    {
      "cell_type": "code",
      "metadata": {
        "id": "A-BVKWr251Wi"
      },
      "source": [
        "nombre_producto=list(nombre_producto)"
      ],
      "execution_count": null,
      "outputs": []
    },
    {
      "cell_type": "code",
      "metadata": {
        "colab": {
          "base_uri": "https://localhost:8080/"
        },
        "id": "pFOT0hKj6MQO",
        "outputId": "1f220541-d693-49f4-e8e8-99b1e75012ba"
      },
      "source": [
        "nombre_producto"
      ],
      "execution_count": null,
      "outputs": [
        {
          "output_type": "execute_result",
          "data": {
            "text/plain": [
              "[<div class=\"item-title\">\n",
              " <a href=\"https://compras.tigo.com.co/celulares-apple-iphone-12-pro-max-256gb/p\" id=\"ecProductId266\" title=\"iPhone 12 Pro Max 256GB\">\n",
              " <p class=\"texto brand apple\">apple</p>\n",
              " <h2 class=\"text-product\">iPhone 12 Pro Max 256GB</h2>\n",
              " </a>\n",
              " </div>, <div class=\"item-title\">\n",
              " <a href=\"https://compras.tigo.com.co/celulares-apple-iphone-12-pro-max/p\" id=\"ecProductId264\" title=\"iPhone 12 Pro Max 128GB\">\n",
              " <p class=\"texto brand apple\">apple</p>\n",
              " <h2 class=\"text-product\">iPhone 12 Pro Max 128GB</h2>\n",
              " </a>\n",
              " </div>, <div class=\"item-title\">\n",
              " <a href=\"https://compras.tigo.com.co/celulares-apple-iphone-12-pro/p\" id=\"ecProductId263\" title=\"iPhone 12 Pro\">\n",
              " <p class=\"texto brand apple\">apple</p>\n",
              " <h2 class=\"text-product\">iPhone 12 Pro</h2>\n",
              " </a>\n",
              " </div>, <div class=\"item-title\">\n",
              " <a href=\"https://compras.tigo.com.co/celulares-apple-iphone-12-128gb/p\" id=\"ecProductId265\" title=\"iPhone 12 128GB\">\n",
              " <p class=\"texto brand apple\">apple</p>\n",
              " <h2 class=\"text-product\">iPhone 12 128GB</h2>\n",
              " </a>\n",
              " </div>, <div class=\"item-title\">\n",
              " <a href=\"https://compras.tigo.com.co/celulares-apple-iphone-12/p\" id=\"ecProductId262\" title=\"iPhone 12 64GB\">\n",
              " <p class=\"texto brand apple\">apple</p>\n",
              " <h2 class=\"text-product\">iPhone 12 64GB</h2>\n",
              " </a>\n",
              " </div>, <div class=\"item-title\">\n",
              " <a href=\"https://compras.tigo.com.co/celulares-apple-iphone-12-mini/p\" id=\"ecProductId261\" title=\"iPhone 12 mini\">\n",
              " <p class=\"texto brand apple\">apple</p>\n",
              " <h2 class=\"text-product\">iPhone 12 mini</h2>\n",
              " </a>\n",
              " </div>, <div class=\"item-title\">\n",
              " <a href=\"https://compras.tigo.com.co/celulares-iphone-11-128-gb/p\" id=\"ecProductId160\" title=\"iPhone 11 de 128 GB\">\n",
              " <p class=\"texto brand apple\">apple</p>\n",
              " <h2 class=\"text-product\">iPhone 11 de 128 GB</h2>\n",
              " </a>\n",
              " </div>, <div class=\"item-title\">\n",
              " <a href=\"https://compras.tigo.com.co/celulares-iphone-11-64-gb/p\" id=\"ecProductId159\" title=\"iPhone 11 de 64 GB\">\n",
              " <p class=\"texto brand apple\">apple</p>\n",
              " <h2 class=\"text-product\">iPhone 11 de 64 GB</h2>\n",
              " </a>\n",
              " </div>, <div class=\"item-title\">\n",
              " <a href=\"https://compras.tigo.com.co/celulares-motorola-g100/p\" id=\"ecProductId295\" title=\"MOTO G100\">\n",
              " <p class=\"texto brand motorola\">motorola</p>\n",
              " <h2 class=\"text-product\">MOTO G100</h2>\n",
              " </a>\n",
              " </div>, <div class=\"item-title\">\n",
              " <a href=\"https://compras.tigo.com.co/celulares-apple-iphone-se/p\" id=\"ecProductId245\" title=\"iPhone SE 64 GB\">\n",
              " <p class=\"texto brand apple\">apple</p>\n",
              " <h2 class=\"text-product\">iPhone SE 64 GB</h2>\n",
              " </a>\n",
              " </div>, <div class=\"item-title\">\n",
              " <a href=\"https://compras.tigo.com.co/celulares-vivo-v21/p\" id=\"ecProductId321\" title=\"Vivo V21\">\n",
              " <p class=\"texto brand vivo\">vivo</p>\n",
              " <h2 class=\"text-product\">Vivo V21</h2>\n",
              " </a>\n",
              " </div>, <div class=\"item-title\">\n",
              " <a href=\"https://compras.tigo.com.co/celulares-samsung-galaxy-a52/p\" id=\"ecProductId298\" title=\"Samsung Galaxy A52\">\n",
              " <p class=\"texto brand samsung\">samsung</p>\n",
              " <h2 class=\"text-product\">Samsung Galaxy A52</h2>\n",
              " </a>\n",
              " </div>, <div class=\"item-title\">\n",
              " <a href=\"https://compras.tigo.com.co/celulares-xiaomi-redmi-note10s/p\" id=\"ecProductId315\" title=\"Xiaomi Redmi Note10S 128GB DS\">\n",
              " <p class=\"texto brand xiaomi\">xiaomi</p>\n",
              " <h2 class=\"text-product\">Xiaomi Redmi Note10S 128GB DS</h2>\n",
              " </a>\n",
              " </div>, <div class=\"item-title\">\n",
              " <a href=\"https://compras.tigo.com.co/celulares-huawei-y9a/p\" id=\"ecProductId318\" title=\"Huawei Y9A 128GB\">\n",
              " <p class=\"texto brand huawei\">huawei</p>\n",
              " <h2 class=\"text-product\">Huawei Y9A 128GB</h2>\n",
              " </a>\n",
              " </div>, <div class=\"item-title\">\n",
              " <a href=\"https://compras.tigo.com.co/celulares-samsung-galaxy-a51/p\" id=\"ecProductId197\" title=\"Samsung Galaxy A51 128GB\">\n",
              " <p class=\"texto brand samsung\">samsung</p>\n",
              " <h2 class=\"text-product\">Samsung Galaxy A51 128GB</h2>\n",
              " </a>\n",
              " </div>, <div class=\"item-title\">\n",
              " <a href=\"https://compras.tigo.com.co/celulares-samsung-galaxy-a32/p\" id=\"ecProductId320\" title=\"Samsung Galaxy A32\">\n",
              " <p class=\"texto brand samsung\">samsung</p>\n",
              " <h2 class=\"text-product\">Samsung Galaxy A32</h2>\n",
              " </a>\n",
              " </div>, <div class=\"item-title\">\n",
              " <a href=\"https://compras.tigo.com.co/celulares-xiaomi-redmi-note-10-5g/p\" id=\"ecProductId329\" title=\"Xiaomi Redmi Note 10 5G\">\n",
              " <p class=\"texto brand xiaomi\">xiaomi</p>\n",
              " <h2 class=\"text-product\">Xiaomi Redmi Note 10 5G</h2>\n",
              " </a>\n",
              " </div>, <div class=\"item-title\">\n",
              " <a href=\"https://compras.tigo.com.co/celulares-motorola-g30/p\" id=\"ecProductId290\" title=\"Moto G30 128 GB\">\n",
              " <p class=\"texto brand motorola\">motorola</p>\n",
              " <h2 class=\"text-product\">Moto G30 128 GB</h2>\n",
              " </a>\n",
              " </div>, <div class=\"item-title\">\n",
              " <a href=\"https://compras.tigo.com.co/celulares-moto-g9plus/p\" id=\"ecProductId257\" title=\"Moto G9 Plus\">\n",
              " <p class=\"texto brand motorola\">motorola</p>\n",
              " <h2 class=\"text-product\">Moto G9 Plus</h2>\n",
              " </a>\n",
              " </div>, <div class=\"item-title\">\n",
              " <a href=\"https://compras.tigo.com.co/celulares-xiaomi-redmi-note9t/p\" id=\"ecProductId310\" title=\"Xiaomi Redmi 9T\">\n",
              " <p class=\"texto brand xiaomi\">xiaomi</p>\n",
              " <h2 class=\"text-product\">Xiaomi Redmi 9T</h2>\n",
              " </a>\n",
              " </div>, <div class=\"item-title\">\n",
              " <a href=\"https://compras.tigo.com.co/celulares-xiaomi-redmi-note-8/p\" id=\"ecProductId183\" title=\"Xiaomi Redmi Note 8 128GB\">\n",
              " <p class=\"texto brand xiaomi\">xiaomi</p>\n",
              " <h2 class=\"text-product\">Xiaomi Redmi Note 8 128GB</h2>\n",
              " </a>\n",
              " </div>, <div class=\"item-title\">\n",
              " <a href=\"https://compras.tigo.com.co/celulares-samsung-a21s/p\" id=\"ecProductId251\" title=\"Samsung Galaxy A21s\">\n",
              " <p class=\"texto brand samsung\">samsung</p>\n",
              " <h2 class=\"text-product\">Samsung Galaxy A21s</h2>\n",
              " </a>\n",
              " </div>, <div class=\"item-title\">\n",
              " <a href=\"https://compras.tigo.com.co/celulares-huawei-y8p/p\" id=\"ecProductId256\" title=\"Huawei Y8P con HMS\">\n",
              " <p class=\"texto brand huawei\">huawei</p>\n",
              " <h2 class=\"text-product\">Huawei Y8P con HMS</h2>\n",
              " </a>\n",
              " </div>, <div class=\"item-title\">\n",
              " <a href=\"https://compras.tigo.com.co/celulares-samsung-galaxy-a12-128gb/p\" id=\"ecProductId297\" title=\"Samsung Galaxy A12 128GB DSIM\">\n",
              " <p class=\"texto brand samsung\">samsung</p>\n",
              " <h2 class=\"text-product\">Samsung Galaxy A12 128GB DSIM</h2>\n",
              " </a>\n",
              " </div>]"
            ]
          },
          "metadata": {
            "tags": []
          },
          "execution_count": 10
        }
      ]
    },
    {
      "cell_type": "markdown",
      "metadata": {
        "id": "aG_JGBE7HLZi"
      },
      "source": [
        "#SE REALIZA LA BUSQUEDA EN LA LISTA, Y SE APLICA EL METODO SPLIT. ESTE METODO PERMITE BORRAR LOS ESPACIOS EN BLANCO"
      ]
    },
    {
      "cell_type": "code",
      "metadata": {
        "colab": {
          "base_uri": "https://localhost:8080/"
        },
        "id": "Npr0LVxS70T7",
        "outputId": "6663431c-ca33-47bc-e45c-52d7b03ae0c3"
      },
      "source": [
        "nombre_producto[0].text.split('\\n')"
      ],
      "execution_count": null,
      "outputs": [
        {
          "output_type": "execute_result",
          "data": {
            "text/plain": [
              "['', '', 'apple', 'iPhone 12 Pro Max 256GB', '', '']"
            ]
          },
          "metadata": {
            "tags": []
          },
          "execution_count": 11
        }
      ]
    },
    {
      "cell_type": "markdown",
      "metadata": {
        "id": "eu_juAfePTVp"
      },
      "source": [
        "# EXTRAEMOS MARCA DE CELULARES"
      ]
    },
    {
      "cell_type": "code",
      "metadata": {
        "colab": {
          "base_uri": "https://localhost:8080/",
          "height": 35
        },
        "id": "tNemvmHuPRyZ",
        "outputId": "a05d7954-6c57-4f96-a2d9-e49e8bdd1efa"
      },
      "source": [
        "nombre_producto[0].text.split('\\n')[2].split('\\n')[0].strip().upper()"
      ],
      "execution_count": 46,
      "outputs": [
        {
          "output_type": "execute_result",
          "data": {
            "application/vnd.google.colaboratory.intrinsic+json": {
              "type": "string"
            },
            "text/plain": [
              "'APPLE'"
            ]
          },
          "metadata": {
            "tags": []
          },
          "execution_count": 46
        }
      ]
    },
    {
      "cell_type": "code",
      "metadata": {
        "id": "gZnsW095PSCo"
      },
      "source": [
        ""
      ],
      "execution_count": 45,
      "outputs": []
    },
    {
      "cell_type": "code",
      "metadata": {
        "colab": {
          "base_uri": "https://localhost:8080/",
          "height": 35
        },
        "id": "d3a2ncf__EVO",
        "outputId": "8f23b517-e449-4de2-8903-ab80ac2568c7"
      },
      "source": [
        "nombre_producto[0].text.split('\\n')[3].split('\\n')[0].strip() #nombre del producto"
      ],
      "execution_count": null,
      "outputs": [
        {
          "output_type": "execute_result",
          "data": {
            "application/vnd.google.colaboratory.intrinsic+json": {
              "type": "string"
            },
            "text/plain": [
              "'iPhone 12 Pro Max 256GB'"
            ]
          },
          "metadata": {
            "tags": []
          },
          "execution_count": 12
        }
      ]
    },
    {
      "cell_type": "code",
      "metadata": {
        "id": "XOsL7Pu5FhJA"
      },
      "source": [
        "precio_producto=soup.find_all('div', attrs={'class':'item-price product-price'})# la lista de los precios"
      ],
      "execution_count": null,
      "outputs": []
    },
    {
      "cell_type": "code",
      "metadata": {
        "colab": {
          "base_uri": "https://localhost:8080/"
        },
        "id": "PV2OhgZcqNZU",
        "outputId": "0f41301f-7be0-4d19-ef2d-524ff4968ce2"
      },
      "source": [
        "precio_producto[1]"
      ],
      "execution_count": null,
      "outputs": [
        {
          "output_type": "execute_result",
          "data": {
            "text/plain": [
              "<div class=\"item-price product-price\">\n",
              "<h3 class=\"best-price product-best-price\">$5.635.901,00</h3>\n",
              "<h3 class=\"old-price product-old-price\">$5.749.901,00</h3>\n",
              "<span class=\"item-taxes product-item-taxes\">IVA Incluido</span>\n",
              "</div>"
            ]
          },
          "metadata": {
            "tags": []
          },
          "execution_count": 14
        }
      ]
    },
    {
      "cell_type": "code",
      "metadata": {
        "colab": {
          "base_uri": "https://localhost:8080/",
          "height": 35
        },
        "id": "29WorBXDqr1_",
        "outputId": "6ccfb497-8ad6-47a8-c5e8-d42807b55ae5"
      },
      "source": [
        "precio_producto[1].text.split('$')[1].split()[0] # Mejor Precio "
      ],
      "execution_count": null,
      "outputs": [
        {
          "output_type": "execute_result",
          "data": {
            "application/vnd.google.colaboratory.intrinsic+json": {
              "type": "string"
            },
            "text/plain": [
              "'5.635.901,00'"
            ]
          },
          "metadata": {
            "tags": []
          },
          "execution_count": 15
        }
      ]
    },
    {
      "cell_type": "code",
      "metadata": {
        "colab": {
          "base_uri": "https://localhost:8080/",
          "height": 35
        },
        "id": "JYpSBBM4r-pt",
        "outputId": "fb2c53c3-66a0-4698-d56a-7d38a4b36d76"
      },
      "source": [
        "precio_producto[1].text.split('$')[2].split()[0] # Antiguo Precio "
      ],
      "execution_count": null,
      "outputs": [
        {
          "output_type": "execute_result",
          "data": {
            "application/vnd.google.colaboratory.intrinsic+json": {
              "type": "string"
            },
            "text/plain": [
              "'5.749.901,00'"
            ]
          },
          "metadata": {
            "tags": []
          },
          "execution_count": 16
        }
      ]
    },
    {
      "cell_type": "code",
      "metadata": {
        "colab": {
          "base_uri": "https://localhost:8080/",
          "height": 35
        },
        "id": "WGhocTv1ySVS",
        "outputId": "ce3a0aab-8dc4-46bc-ffcd-b920ae67a10e"
      },
      "source": [
        "precio_producto[1].text"
      ],
      "execution_count": null,
      "outputs": [
        {
          "output_type": "execute_result",
          "data": {
            "application/vnd.google.colaboratory.intrinsic+json": {
              "type": "string"
            },
            "text/plain": [
              "'\\n$5.635.901,00\\n$5.749.901,00\\nIVA Incluido\\n'"
            ]
          },
          "metadata": {
            "tags": []
          },
          "execution_count": 17
        }
      ]
    },
    {
      "cell_type": "markdown",
      "metadata": {
        "id": "ZTeDaeRAt_Q_"
      },
      "source": [
        "#EXTRAER PRECIO DE LOS PRODUCTOS. \n",
        "Antiguos y Mejor Precio"
      ]
    },
    {
      "cell_type": "code",
      "metadata": {
        "colab": {
          "base_uri": "https://localhost:8080/"
        },
        "id": "vabBSD_ouHZc",
        "outputId": "0464be7b-ddcb-4bd8-b58e-cff3b24a5eab"
      },
      "source": [
        "mejor_precio=[]\n",
        "antiguo_precio=[]\n",
        "nombre=[]\n",
        "marca=[]\n",
        "for i in tqdm(range(len(precio_producto))):\n",
        "\n",
        "          mejor_precio.append(precio_producto[1].text.split('$')[1].split()[0]) # Mejor Precio\n",
        "          antiguo_precio.append(precio_producto[1].text.split('$')[2].split()[0]) # Antiguo Precio\n",
        "          nombre.append(nombre_producto[i].text.split('\\n')[3].split('\\n')[0].strip())\n",
        "          marca.append(nombre_producto[i].text.split('\\n')[2].split('\\n')[0].strip().upper())\n"
      ],
      "execution_count": 50,
      "outputs": [
        {
          "output_type": "stream",
          "text": [
            "100%|██████████| 24/24 [00:00<00:00, 20197.29it/s]\n"
          ],
          "name": "stderr"
        }
      ]
    },
    {
      "cell_type": "code",
      "metadata": {
        "colab": {
          "base_uri": "https://localhost:8080/"
        },
        "id": "NC0hjrsR7qDI",
        "outputId": "8920b3da-f1b8-43a7-c9bd-61beaf6473d9"
      },
      "source": [
        "len(mejor_precio)"
      ],
      "execution_count": 51,
      "outputs": [
        {
          "output_type": "execute_result",
          "data": {
            "text/plain": [
              "24"
            ]
          },
          "metadata": {
            "tags": []
          },
          "execution_count": 51
        }
      ]
    },
    {
      "cell_type": "code",
      "metadata": {
        "colab": {
          "base_uri": "https://localhost:8080/"
        },
        "id": "80XTgZHf7xvW",
        "outputId": "7954654d-87a4-4576-eee0-f5287521ee53"
      },
      "source": [
        "len(antiguo_precio)"
      ],
      "execution_count": 52,
      "outputs": [
        {
          "output_type": "execute_result",
          "data": {
            "text/plain": [
              "24"
            ]
          },
          "metadata": {
            "tags": []
          },
          "execution_count": 52
        }
      ]
    },
    {
      "cell_type": "markdown",
      "metadata": {
        "id": "wzSs2jbD8jSJ"
      },
      "source": [
        "#GENERAMOS LA DATAFRAME FINAL"
      ]
    },
    {
      "cell_type": "code",
      "metadata": {
        "id": "n8Kkdx6A8oxb"
      },
      "source": [
        "data={'Nombre del Producto':nombre,'Mejor Precio': mejor_precio,'Antiguo Precio': antiguo_precio,'MARCA':marca}"
      ],
      "execution_count": 53,
      "outputs": []
    },
    {
      "cell_type": "code",
      "metadata": {
        "colab": {
          "base_uri": "https://localhost:8080/",
          "height": 793
        },
        "id": "FIG6pLyG97pX",
        "outputId": "8240a399-8395-4a06-f737-e673e451c9ce"
      },
      "source": [
        "celulares_Tigo =pd.DataFrame(data)\n",
        "celulares_Tigo"
      ],
      "execution_count": 54,
      "outputs": [
        {
          "output_type": "execute_result",
          "data": {
            "text/html": [
              "<div>\n",
              "<style scoped>\n",
              "    .dataframe tbody tr th:only-of-type {\n",
              "        vertical-align: middle;\n",
              "    }\n",
              "\n",
              "    .dataframe tbody tr th {\n",
              "        vertical-align: top;\n",
              "    }\n",
              "\n",
              "    .dataframe thead th {\n",
              "        text-align: right;\n",
              "    }\n",
              "</style>\n",
              "<table border=\"1\" class=\"dataframe\">\n",
              "  <thead>\n",
              "    <tr style=\"text-align: right;\">\n",
              "      <th></th>\n",
              "      <th>Nombre del Producto</th>\n",
              "      <th>Mejor Precio</th>\n",
              "      <th>Antiguo Precio</th>\n",
              "      <th>MARCA</th>\n",
              "    </tr>\n",
              "  </thead>\n",
              "  <tbody>\n",
              "    <tr>\n",
              "      <th>0</th>\n",
              "      <td>iPhone 12 Pro Max 256GB</td>\n",
              "      <td>5.635.901,00</td>\n",
              "      <td>5.749.901,00</td>\n",
              "      <td>APPLE</td>\n",
              "    </tr>\n",
              "    <tr>\n",
              "      <th>1</th>\n",
              "      <td>iPhone 12 Pro Max 128GB</td>\n",
              "      <td>5.635.901,00</td>\n",
              "      <td>5.749.901,00</td>\n",
              "      <td>APPLE</td>\n",
              "    </tr>\n",
              "    <tr>\n",
              "      <th>2</th>\n",
              "      <td>iPhone 12 Pro</td>\n",
              "      <td>5.635.901,00</td>\n",
              "      <td>5.749.901,00</td>\n",
              "      <td>APPLE</td>\n",
              "    </tr>\n",
              "    <tr>\n",
              "      <th>3</th>\n",
              "      <td>iPhone 12 128GB</td>\n",
              "      <td>5.635.901,00</td>\n",
              "      <td>5.749.901,00</td>\n",
              "      <td>APPLE</td>\n",
              "    </tr>\n",
              "    <tr>\n",
              "      <th>4</th>\n",
              "      <td>iPhone 12 64GB</td>\n",
              "      <td>5.635.901,00</td>\n",
              "      <td>5.749.901,00</td>\n",
              "      <td>APPLE</td>\n",
              "    </tr>\n",
              "    <tr>\n",
              "      <th>5</th>\n",
              "      <td>iPhone 12 mini</td>\n",
              "      <td>5.635.901,00</td>\n",
              "      <td>5.749.901,00</td>\n",
              "      <td>APPLE</td>\n",
              "    </tr>\n",
              "    <tr>\n",
              "      <th>6</th>\n",
              "      <td>iPhone 11 de 128 GB</td>\n",
              "      <td>5.635.901,00</td>\n",
              "      <td>5.749.901,00</td>\n",
              "      <td>APPLE</td>\n",
              "    </tr>\n",
              "    <tr>\n",
              "      <th>7</th>\n",
              "      <td>iPhone 11 de 64 GB</td>\n",
              "      <td>5.635.901,00</td>\n",
              "      <td>5.749.901,00</td>\n",
              "      <td>APPLE</td>\n",
              "    </tr>\n",
              "    <tr>\n",
              "      <th>8</th>\n",
              "      <td>MOTO G100</td>\n",
              "      <td>5.635.901,00</td>\n",
              "      <td>5.749.901,00</td>\n",
              "      <td>MOTOROLA</td>\n",
              "    </tr>\n",
              "    <tr>\n",
              "      <th>9</th>\n",
              "      <td>iPhone SE 64 GB</td>\n",
              "      <td>5.635.901,00</td>\n",
              "      <td>5.749.901,00</td>\n",
              "      <td>APPLE</td>\n",
              "    </tr>\n",
              "    <tr>\n",
              "      <th>10</th>\n",
              "      <td>Vivo V21</td>\n",
              "      <td>5.635.901,00</td>\n",
              "      <td>5.749.901,00</td>\n",
              "      <td>VIVO</td>\n",
              "    </tr>\n",
              "    <tr>\n",
              "      <th>11</th>\n",
              "      <td>Samsung Galaxy A52</td>\n",
              "      <td>5.635.901,00</td>\n",
              "      <td>5.749.901,00</td>\n",
              "      <td>SAMSUNG</td>\n",
              "    </tr>\n",
              "    <tr>\n",
              "      <th>12</th>\n",
              "      <td>Xiaomi Redmi Note10S 128GB DS</td>\n",
              "      <td>5.635.901,00</td>\n",
              "      <td>5.749.901,00</td>\n",
              "      <td>XIAOMI</td>\n",
              "    </tr>\n",
              "    <tr>\n",
              "      <th>13</th>\n",
              "      <td>Huawei Y9A 128GB</td>\n",
              "      <td>5.635.901,00</td>\n",
              "      <td>5.749.901,00</td>\n",
              "      <td>HUAWEI</td>\n",
              "    </tr>\n",
              "    <tr>\n",
              "      <th>14</th>\n",
              "      <td>Samsung Galaxy A51 128GB</td>\n",
              "      <td>5.635.901,00</td>\n",
              "      <td>5.749.901,00</td>\n",
              "      <td>SAMSUNG</td>\n",
              "    </tr>\n",
              "    <tr>\n",
              "      <th>15</th>\n",
              "      <td>Samsung Galaxy A32</td>\n",
              "      <td>5.635.901,00</td>\n",
              "      <td>5.749.901,00</td>\n",
              "      <td>SAMSUNG</td>\n",
              "    </tr>\n",
              "    <tr>\n",
              "      <th>16</th>\n",
              "      <td>Xiaomi Redmi Note 10 5G</td>\n",
              "      <td>5.635.901,00</td>\n",
              "      <td>5.749.901,00</td>\n",
              "      <td>XIAOMI</td>\n",
              "    </tr>\n",
              "    <tr>\n",
              "      <th>17</th>\n",
              "      <td>Moto G30 128 GB</td>\n",
              "      <td>5.635.901,00</td>\n",
              "      <td>5.749.901,00</td>\n",
              "      <td>MOTOROLA</td>\n",
              "    </tr>\n",
              "    <tr>\n",
              "      <th>18</th>\n",
              "      <td>Moto G9 Plus</td>\n",
              "      <td>5.635.901,00</td>\n",
              "      <td>5.749.901,00</td>\n",
              "      <td>MOTOROLA</td>\n",
              "    </tr>\n",
              "    <tr>\n",
              "      <th>19</th>\n",
              "      <td>Xiaomi Redmi 9T</td>\n",
              "      <td>5.635.901,00</td>\n",
              "      <td>5.749.901,00</td>\n",
              "      <td>XIAOMI</td>\n",
              "    </tr>\n",
              "    <tr>\n",
              "      <th>20</th>\n",
              "      <td>Xiaomi Redmi Note 8 128GB</td>\n",
              "      <td>5.635.901,00</td>\n",
              "      <td>5.749.901,00</td>\n",
              "      <td>XIAOMI</td>\n",
              "    </tr>\n",
              "    <tr>\n",
              "      <th>21</th>\n",
              "      <td>Samsung Galaxy A21s</td>\n",
              "      <td>5.635.901,00</td>\n",
              "      <td>5.749.901,00</td>\n",
              "      <td>SAMSUNG</td>\n",
              "    </tr>\n",
              "    <tr>\n",
              "      <th>22</th>\n",
              "      <td>Huawei Y8P con HMS</td>\n",
              "      <td>5.635.901,00</td>\n",
              "      <td>5.749.901,00</td>\n",
              "      <td>HUAWEI</td>\n",
              "    </tr>\n",
              "    <tr>\n",
              "      <th>23</th>\n",
              "      <td>Samsung Galaxy A12 128GB DSIM</td>\n",
              "      <td>5.635.901,00</td>\n",
              "      <td>5.749.901,00</td>\n",
              "      <td>SAMSUNG</td>\n",
              "    </tr>\n",
              "  </tbody>\n",
              "</table>\n",
              "</div>"
            ],
            "text/plain": [
              "              Nombre del Producto  Mejor Precio Antiguo Precio     MARCA\n",
              "0         iPhone 12 Pro Max 256GB  5.635.901,00   5.749.901,00     APPLE\n",
              "1         iPhone 12 Pro Max 128GB  5.635.901,00   5.749.901,00     APPLE\n",
              "2                   iPhone 12 Pro  5.635.901,00   5.749.901,00     APPLE\n",
              "3                 iPhone 12 128GB  5.635.901,00   5.749.901,00     APPLE\n",
              "4                  iPhone 12 64GB  5.635.901,00   5.749.901,00     APPLE\n",
              "5                  iPhone 12 mini  5.635.901,00   5.749.901,00     APPLE\n",
              "6             iPhone 11 de 128 GB  5.635.901,00   5.749.901,00     APPLE\n",
              "7              iPhone 11 de 64 GB  5.635.901,00   5.749.901,00     APPLE\n",
              "8                       MOTO G100  5.635.901,00   5.749.901,00  MOTOROLA\n",
              "9                 iPhone SE 64 GB  5.635.901,00   5.749.901,00     APPLE\n",
              "10                       Vivo V21  5.635.901,00   5.749.901,00      VIVO\n",
              "11             Samsung Galaxy A52  5.635.901,00   5.749.901,00   SAMSUNG\n",
              "12  Xiaomi Redmi Note10S 128GB DS  5.635.901,00   5.749.901,00    XIAOMI\n",
              "13               Huawei Y9A 128GB  5.635.901,00   5.749.901,00    HUAWEI\n",
              "14       Samsung Galaxy A51 128GB  5.635.901,00   5.749.901,00   SAMSUNG\n",
              "15             Samsung Galaxy A32  5.635.901,00   5.749.901,00   SAMSUNG\n",
              "16        Xiaomi Redmi Note 10 5G  5.635.901,00   5.749.901,00    XIAOMI\n",
              "17                Moto G30 128 GB  5.635.901,00   5.749.901,00  MOTOROLA\n",
              "18                   Moto G9 Plus  5.635.901,00   5.749.901,00  MOTOROLA\n",
              "19                Xiaomi Redmi 9T  5.635.901,00   5.749.901,00    XIAOMI\n",
              "20      Xiaomi Redmi Note 8 128GB  5.635.901,00   5.749.901,00    XIAOMI\n",
              "21            Samsung Galaxy A21s  5.635.901,00   5.749.901,00   SAMSUNG\n",
              "22             Huawei Y8P con HMS  5.635.901,00   5.749.901,00    HUAWEI\n",
              "23  Samsung Galaxy A12 128GB DSIM  5.635.901,00   5.749.901,00   SAMSUNG"
            ]
          },
          "metadata": {
            "tags": []
          },
          "execution_count": 54
        }
      ]
    },
    {
      "cell_type": "code",
      "metadata": {
        "id": "XNI8jc2c_C2i"
      },
      "source": [
        ""
      ],
      "execution_count": null,
      "outputs": []
    }
  ]
}