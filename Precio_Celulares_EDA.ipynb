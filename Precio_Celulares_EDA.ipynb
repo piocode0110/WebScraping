{
  "nbformat": 4,
  "nbformat_minor": 0,
  "metadata": {
    "kernelspec": {
      "display_name": "Python 3",
      "language": "python",
      "name": "python3"
    },
    "language_info": {
      "codemirror_mode": {
        "name": "ipython",
        "version": 3
      },
      "file_extension": ".py",
      "mimetype": "text/x-python",
      "name": "python",
      "nbconvert_exporter": "python",
      "pygments_lexer": "ipython3",
      "version": "3.8.5"
    },
    "colab": {
      "name": "Precio Celulares EDA.ipynb",
      "provenance": [],
      "include_colab_link": true
    }
  },
  "cells": [
    {
      "cell_type": "markdown",
      "metadata": {
        "id": "view-in-github",
        "colab_type": "text"
      },
      "source": [
        "<a href=\"https://colab.research.google.com/github/piocode0110/WebScraping/blob/main/Precio_Celulares_EDA.ipynb\" target=\"_parent\"><img src=\"https://colab.research.google.com/assets/colab-badge.svg\" alt=\"Open In Colab\"/></a>"
      ]
    },
    {
      "cell_type": "markdown",
      "metadata": {
        "id": "FpLaHnjbDCwB"
      },
      "source": [
        "<h1><center>Caso de Estudio:</center></h1>\n",
        "\n",
        "Este ejercicio fue realizado por **[Piocode0110](https://www.linkedin.com/in/jamavapiocu/)** con fines exclusivemente academicos y no comerciales, cualquier uso ilegal estara fuera de mis intensiones.\n",
        "\n",
        "\n",
        "\n",
        "<img src=\"https://teytel.com.co/teytel/img/servicio/img/teytel-celulares-claro.png\">"
      ]
    },
    {
      "cell_type": "code",
      "metadata": {
        "id": "ioyzAAg4xx8A"
      },
      "source": [
        "import pandas as pd\n",
        "import requests\n",
        "from bs4 import BeautifulSoup\n",
        "from tqdm import tqdm"
      ],
      "execution_count": null,
      "outputs": []
    },
    {
      "cell_type": "code",
      "metadata": {
        "id": "e3tx39rkxx8J"
      },
      "source": [
        "url='https://tienda.claro.com.co/CategoryDisplay?ddkey=ProductListingView_6_1051_4956&fromPage=catalogEntryList&urlRequestType=Base&catalogId=10001&categoryId=12101&resultType=products&showResultsPage=true&disableProductCompare=false&pageView=grid&beginIndex=0&langId=-5&enableSKUListView=false&pageSize=93&orderBy=1&emsName=Widget_ClaroCatalogEntryList_4956&ajaxStoreImageDir=%2Fwcsstore%2FClaro%2F&storeId=10151&pageView=grid&orderBy=1&fromPage=catalogEntryList&beginIndex=0&pageSize=93'"
      ],
      "execution_count": null,
      "outputs": []
    },
    {
      "cell_type": "markdown",
      "metadata": {
        "id": "60ubiEozxx8L"
      },
      "source": [
        "# petición a mi sitio web\n",
        "\n",
        "Se realiza metodo get para obtener info del sitio web"
      ]
    },
    {
      "cell_type": "code",
      "metadata": {
        "id": "Xy12U-YWxx8M"
      },
      "source": [
        "respo=requests.get(url)"
      ],
      "execution_count": null,
      "outputs": []
    },
    {
      "cell_type": "markdown",
      "metadata": {
        "id": "1HwA_Kc3xx8N"
      },
      "source": [
        "# Respuesta del servidor"
      ]
    },
    {
      "cell_type": "code",
      "metadata": {
        "colab": {
          "base_uri": "https://localhost:8080/"
        },
        "id": "fbefJj_zxx8O",
        "outputId": "a3d8c47c-37a4-46ab-d765-0643d15a9a51"
      },
      "source": [
        "respo.status_code"
      ],
      "execution_count": null,
      "outputs": [
        {
          "output_type": "execute_result",
          "data": {
            "text/plain": [
              "200"
            ]
          },
          "metadata": {
            "tags": []
          },
          "execution_count": 4
        }
      ]
    },
    {
      "cell_type": "code",
      "metadata": {
        "id": "19Ue3W97xx8U"
      },
      "source": [
        " soup=BeautifulSoup(respo.text,'html.parser')"
      ],
      "execution_count": null,
      "outputs": []
    },
    {
      "cell_type": "code",
      "metadata": {
        "id": "xrPJ06zixx8V"
      },
      "source": [
        "#soup"
      ],
      "execution_count": 40,
      "outputs": []
    },
    {
      "cell_type": "code",
      "metadata": {
        "id": "uH-4PNNaxx8g"
      },
      "source": [
        "producto=soup.findAll(class_='product_name')"
      ],
      "execution_count": null,
      "outputs": []
    },
    {
      "cell_type": "code",
      "metadata": {
        "colab": {
          "base_uri": "https://localhost:8080/"
        },
        "id": "XBfgEASpxx8h",
        "outputId": "c345c991-7aac-4413-f45f-d00933b5937d"
      },
      "source": [
        "len(producto)"
      ],
      "execution_count": null,
      "outputs": [
        {
          "output_type": "execute_result",
          "data": {
            "text/plain": [
              "88"
            ]
          },
          "metadata": {
            "tags": []
          },
          "execution_count": 8
        }
      ]
    },
    {
      "cell_type": "code",
      "metadata": {
        "id": "lVdDy16mxx8j"
      },
      "source": [
        " producto=list(producto)"
      ],
      "execution_count": null,
      "outputs": []
    },
    {
      "cell_type": "markdown",
      "metadata": {
        "id": "dyMzfJcvxx8k"
      },
      "source": [
        "# Extracción nombre del producto"
      ]
    },
    {
      "cell_type": "code",
      "metadata": {
        "colab": {
          "base_uri": "https://localhost:8080/",
          "height": 35
        },
        "id": "oeQjogV5xx8l",
        "outputId": "c111fe07-9ae6-4def-aa12-24b30bacafdd"
      },
      "source": [
        "producto[1].text.split('\\n\\r\\n')[1].split('\\r\\n\\t\\n')[0].strip()"
      ],
      "execution_count": null,
      "outputs": [
        {
          "output_type": "execute_result",
          "data": {
            "application/vnd.google.colaboratory.intrinsic+json": {
              "type": "string"
            },
            "text/plain": [
              "'Alcatel 1E 3G'"
            ]
          },
          "metadata": {
            "tags": []
          },
          "execution_count": 10
        }
      ]
    },
    {
      "cell_type": "code",
      "metadata": {
        "id": "7ZNPDTSoxx8m"
      },
      "source": [
        "lista_pro=[]\n",
        "for i in range(1,len(producto),1):\n",
        "    lista_pro.append(producto[i].text.split('\\n\\r\\n')[1].split('\\r\\n\\t\\n')[0].strip())"
      ],
      "execution_count": null,
      "outputs": []
    },
    {
      "cell_type": "code",
      "metadata": {
        "id": "t2oXPbIixx8n"
      },
      "source": [
        " precio=soup.find_all('div', attrs={'class':'product_price'})"
      ],
      "execution_count": null,
      "outputs": []
    },
    {
      "cell_type": "code",
      "metadata": {
        "colab": {
          "base_uri": "https://localhost:8080/",
          "height": 35
        },
        "id": "IWrknEONxx8o",
        "outputId": "fd625397-e8ef-49df-c799-1b2e38c3c6de"
      },
      "source": [
        "precio[0].text.split('$')[1].split()[0] # Precio de oferta"
      ],
      "execution_count": null,
      "outputs": [
        {
          "output_type": "execute_result",
          "data": {
            "application/vnd.google.colaboratory.intrinsic+json": {
              "type": "string"
            },
            "text/plain": [
              "'139.900'"
            ]
          },
          "metadata": {
            "tags": []
          },
          "execution_count": 13
        }
      ]
    },
    {
      "cell_type": "code",
      "metadata": {
        "colab": {
          "base_uri": "https://localhost:8080/",
          "height": 35
        },
        "id": "54HMTcbhxx8p",
        "outputId": "79696b1e-fe3b-42ec-b427-3460ad73ef46"
      },
      "source": [
        "precio[0].text.split('$')[2].split()[0] # Precio del producto"
      ],
      "execution_count": null,
      "outputs": [
        {
          "output_type": "execute_result",
          "data": {
            "application/vnd.google.colaboratory.intrinsic+json": {
              "type": "string"
            },
            "text/plain": [
              "'154.900'"
            ]
          },
          "metadata": {
            "tags": []
          },
          "execution_count": 14
        }
      ]
    },
    {
      "cell_type": "code",
      "metadata": {
        "colab": {
          "base_uri": "https://localhost:8080/",
          "height": 35
        },
        "id": "0a9kxGsJxx8q",
        "outputId": "bd0f2396-d512-4550-fe8f-afadb3465b43"
      },
      "source": [
        "precio[1].text.split('$')[1].split()[0] # Precio de oferta"
      ],
      "execution_count": null,
      "outputs": [
        {
          "output_type": "execute_result",
          "data": {
            "application/vnd.google.colaboratory.intrinsic+json": {
              "type": "string"
            },
            "text/plain": [
              "'367.900'"
            ]
          },
          "metadata": {
            "tags": []
          },
          "execution_count": 15
        }
      ]
    },
    {
      "cell_type": "code",
      "metadata": {
        "colab": {
          "base_uri": "https://localhost:8080/",
          "height": 35
        },
        "id": "WYE52Ftoxx8r",
        "outputId": "dcc99a8d-3b1f-40af-8f34-8c349d191ad5"
      },
      "source": [
        "precio[1].text.split('$')[2].split()[0] # Precio de oferta"
      ],
      "execution_count": null,
      "outputs": [
        {
          "output_type": "execute_result",
          "data": {
            "application/vnd.google.colaboratory.intrinsic+json": {
              "type": "string"
            },
            "text/plain": [
              "'407.900'"
            ]
          },
          "metadata": {
            "tags": []
          },
          "execution_count": 16
        }
      ]
    },
    {
      "cell_type": "code",
      "metadata": {
        "colab": {
          "base_uri": "https://localhost:8080/",
          "height": 52
        },
        "id": "nA0_TFzvxx8s",
        "outputId": "425b39c5-a413-4307-d340-36bcc3fc09dc"
      },
      "source": [
        "precio[2].text"
      ],
      "execution_count": null,
      "outputs": [
        {
          "output_type": "execute_result",
          "data": {
            "application/vnd.google.colaboratory.intrinsic+json": {
              "type": "string"
            },
            "text/plain": [
              "'\\n\\n\\n\\n\\t\\t\\r\\n\\t\\t\\t\\t\\t$5.835.960\\r\\n\\t\\t\\t\\t\\t\\t\\t\\nCliente Claro\\r\\n\\t\\t\\t\\t\\t\\t\\t\\t\\n\\n*Aplican términos y condiciones\\n\\n\\n\\n\\r\\n\\t\\t\\t\\t\\t$6.187.960\\xa0\\xa0\\r\\n\\t\\t\\t\\t\\t\\r\\n\\t\\t\\t\\t\\t\\t\\tPrecio Ahora\\n\\n\\n\\n'"
            ]
          },
          "metadata": {
            "tags": []
          },
          "execution_count": 17
        }
      ]
    },
    {
      "cell_type": "code",
      "metadata": {
        "colab": {
          "base_uri": "https://localhost:8080/"
        },
        "id": "wCluPZDbxx8t",
        "outputId": "8fb3a1bf-7f38-49ee-e82c-1ef53502e463"
      },
      "source": [
        "len(precio)"
      ],
      "execution_count": null,
      "outputs": [
        {
          "output_type": "execute_result",
          "data": {
            "text/plain": [
              "87"
            ]
          },
          "metadata": {
            "tags": []
          },
          "execution_count": 18
        }
      ]
    },
    {
      "cell_type": "markdown",
      "metadata": {
        "id": "gkVuYFxRxx8u"
      },
      "source": [
        "# Extraemos precios de todos los productos "
      ]
    },
    {
      "cell_type": "code",
      "metadata": {
        "colab": {
          "base_uri": "https://localhost:8080/"
        },
        "id": "4aE9OPcTxx8v",
        "outputId": "1e1a4ed6-8c78-4e5c-87cd-0ac3f8151100"
      },
      "source": [
        "precio_cliente=[]\n",
        "precio_original=[]\n",
        "for i in tqdm(range(len(precio))):\n",
        "    \n",
        "    if len(precio[i].text.split('$')) ==3 : \n",
        "            precio_cliente.append(precio[i].text.split('$')[1].split()[0])  # Precio de oferta\n",
        "            precio_original.append(precio[i].text.split('$')[2].split()[0])  # Precio de producto \n",
        "    else : \n",
        "        \n",
        "            precio_cliente.append(precio[i].text.split('$')[1].split()[0])  # Precio de oferta\n",
        "            precio_original.append(precio[i].text.split('$')[1].split()[0])  # Precio de producto \n",
        "        "
      ],
      "execution_count": null,
      "outputs": [
        {
          "output_type": "stream",
          "text": [
            "100%|██████████| 87/87 [00:00<00:00, 8016.88it/s]\n"
          ],
          "name": "stderr"
        }
      ]
    },
    {
      "cell_type": "code",
      "metadata": {
        "colab": {
          "base_uri": "https://localhost:8080/"
        },
        "id": "Hv3P-MF8xx8x",
        "outputId": "06807725-4c4f-40b1-c6f5-bf62340fa7f9"
      },
      "source": [
        "len(precio_cliente)"
      ],
      "execution_count": null,
      "outputs": [
        {
          "output_type": "execute_result",
          "data": {
            "text/plain": [
              "87"
            ]
          },
          "metadata": {
            "tags": []
          },
          "execution_count": 20
        }
      ]
    },
    {
      "cell_type": "code",
      "metadata": {
        "colab": {
          "base_uri": "https://localhost:8080/"
        },
        "id": "w6bmPxytxx8z",
        "outputId": "a1dfc25b-a19a-4d50-fa8c-b7b1f87f61c5"
      },
      "source": [
        "len(precio_original)"
      ],
      "execution_count": null,
      "outputs": [
        {
          "output_type": "execute_result",
          "data": {
            "text/plain": [
              "87"
            ]
          },
          "metadata": {
            "tags": []
          },
          "execution_count": 21
        }
      ]
    },
    {
      "cell_type": "markdown",
      "metadata": {
        "id": "3uGEhPCrxx80"
      },
      "source": [
        "# Generamos Dataframe final"
      ]
    },
    {
      "cell_type": "code",
      "metadata": {
        "id": "ZQCbxszCxx80"
      },
      "source": [
        "data={'Nombre producto':lista_pro,'Precio_Cliente_Claro':precio_cliente,'Precio_Original':precio_original}\n",
        "celu_claro=pd.DataFrame(data)"
      ],
      "execution_count": null,
      "outputs": []
    },
    {
      "cell_type": "code",
      "metadata": {
        "colab": {
          "base_uri": "https://localhost:8080/",
          "height": 419
        },
        "id": "0wb9GGjDxx81",
        "outputId": "97e69d6a-4b77-4913-e3fa-22aa22952167"
      },
      "source": [
        "celu_claro"
      ],
      "execution_count": null,
      "outputs": [
        {
          "output_type": "execute_result",
          "data": {
            "text/html": [
              "<div>\n",
              "<style scoped>\n",
              "    .dataframe tbody tr th:only-of-type {\n",
              "        vertical-align: middle;\n",
              "    }\n",
              "\n",
              "    .dataframe tbody tr th {\n",
              "        vertical-align: top;\n",
              "    }\n",
              "\n",
              "    .dataframe thead th {\n",
              "        text-align: right;\n",
              "    }\n",
              "</style>\n",
              "<table border=\"1\" class=\"dataframe\">\n",
              "  <thead>\n",
              "    <tr style=\"text-align: right;\">\n",
              "      <th></th>\n",
              "      <th>Nombre producto</th>\n",
              "      <th>Precio_Cliente_Claro</th>\n",
              "      <th>Precio_Original</th>\n",
              "    </tr>\n",
              "  </thead>\n",
              "  <tbody>\n",
              "    <tr>\n",
              "      <th>0</th>\n",
              "      <td>Alcatel 1E 3G</td>\n",
              "      <td>139.900</td>\n",
              "      <td>154.900</td>\n",
              "    </tr>\n",
              "    <tr>\n",
              "      <th>1</th>\n",
              "      <td>Alcatel 1SE 32GB 4G</td>\n",
              "      <td>367.900</td>\n",
              "      <td>407.900</td>\n",
              "    </tr>\n",
              "    <tr>\n",
              "      <th>2</th>\n",
              "      <td>iPhone 12 Pro Max 128GB 4G</td>\n",
              "      <td>5.835.960</td>\n",
              "      <td>6.187.960</td>\n",
              "    </tr>\n",
              "    <tr>\n",
              "      <th>3</th>\n",
              "      <td>iPhone 12 Pro Max 256GB 4G</td>\n",
              "      <td>6.366.960</td>\n",
              "      <td>6.750.960</td>\n",
              "    </tr>\n",
              "    <tr>\n",
              "      <th>4</th>\n",
              "      <td>iPhone 12 Mini 64GB 4G</td>\n",
              "      <td>3.416.960</td>\n",
              "      <td>3.416.960</td>\n",
              "    </tr>\n",
              "    <tr>\n",
              "      <th>...</th>\n",
              "      <td>...</td>\n",
              "      <td>...</td>\n",
              "      <td>...</td>\n",
              "    </tr>\n",
              "    <tr>\n",
              "      <th>82</th>\n",
              "      <td>ZTE Blade L8 32GB 3G</td>\n",
              "      <td>170.900</td>\n",
              "      <td>189.900</td>\n",
              "    </tr>\n",
              "    <tr>\n",
              "      <th>83</th>\n",
              "      <td>ZTE Blade L130 16GB 3G</td>\n",
              "      <td>135.900</td>\n",
              "      <td>142.900</td>\n",
              "    </tr>\n",
              "    <tr>\n",
              "      <th>84</th>\n",
              "      <td>ZTE Blade V20 Smart 128GB 4G</td>\n",
              "      <td>600.900</td>\n",
              "      <td>666.900</td>\n",
              "    </tr>\n",
              "    <tr>\n",
              "      <th>85</th>\n",
              "      <td>ZTE Blade A5 2020 4G con Obsequio</td>\n",
              "      <td>299.900</td>\n",
              "      <td>299.900</td>\n",
              "    </tr>\n",
              "    <tr>\n",
              "      <th>86</th>\n",
              "      <td>ZTE Blade A51 4G</td>\n",
              "      <td>371.900</td>\n",
              "      <td>412.900</td>\n",
              "    </tr>\n",
              "  </tbody>\n",
              "</table>\n",
              "<p>87 rows × 3 columns</p>\n",
              "</div>"
            ],
            "text/plain": [
              "                      Nombre producto Precio_Cliente_Claro Precio_Original\n",
              "0                       Alcatel 1E 3G              139.900         154.900\n",
              "1                 Alcatel 1SE 32GB 4G              367.900         407.900\n",
              "2          iPhone 12 Pro Max 128GB 4G            5.835.960       6.187.960\n",
              "3          iPhone 12 Pro Max 256GB 4G            6.366.960       6.750.960\n",
              "4              iPhone 12 Mini 64GB 4G            3.416.960       3.416.960\n",
              "..                                ...                  ...             ...\n",
              "82               ZTE Blade L8 32GB 3G              170.900         189.900\n",
              "83             ZTE Blade L130 16GB 3G              135.900         142.900\n",
              "84       ZTE Blade V20 Smart 128GB 4G              600.900         666.900\n",
              "85  ZTE Blade A5 2020 4G con Obsequio              299.900         299.900\n",
              "86                   ZTE Blade A51 4G              371.900         412.900\n",
              "\n",
              "[87 rows x 3 columns]"
            ]
          },
          "metadata": {
            "tags": []
          },
          "execution_count": 23
        }
      ]
    },
    {
      "cell_type": "markdown",
      "metadata": {
        "id": "dUBRG0I8xx82"
      },
      "source": [
        "# Limpieza de precios"
      ]
    },
    {
      "cell_type": "code",
      "metadata": {
        "colab": {
          "base_uri": "https://localhost:8080/"
        },
        "id": "JpqBlT_2xx83",
        "outputId": "1746ef8d-1530-45a9-d741-c5a0f246d228"
      },
      "source": [
        "type(celu_claro.Precio_Cliente_Claro[0])"
      ],
      "execution_count": null,
      "outputs": [
        {
          "output_type": "execute_result",
          "data": {
            "text/plain": [
              "str"
            ]
          },
          "metadata": {
            "tags": []
          },
          "execution_count": 24
        }
      ]
    },
    {
      "cell_type": "code",
      "metadata": {
        "colab": {
          "base_uri": "https://localhost:8080/",
          "height": 35
        },
        "id": "IIPU7vztxx83",
        "outputId": "8d4349b4-c7a4-4cee-acc4-2639cf7dc2cc"
      },
      "source": [
        "celu_claro.Precio_Cliente_Claro[36]"
      ],
      "execution_count": null,
      "outputs": [
        {
          "output_type": "execute_result",
          "data": {
            "application/vnd.google.colaboratory.intrinsic+json": {
              "type": "string"
            },
            "text/plain": [
              "'1.142.900'"
            ]
          },
          "metadata": {
            "tags": []
          },
          "execution_count": 25
        }
      ]
    },
    {
      "cell_type": "code",
      "metadata": {
        "colab": {
          "base_uri": "https://localhost:8080/",
          "height": 35
        },
        "id": "AsQ0UzoKxx84",
        "outputId": "ad51f1f8-062d-434b-a22e-39924d0ff59e"
      },
      "source": [
        "celu_claro.Precio_Cliente_Claro[36].replace('.','')"
      ],
      "execution_count": null,
      "outputs": [
        {
          "output_type": "execute_result",
          "data": {
            "application/vnd.google.colaboratory.intrinsic+json": {
              "type": "string"
            },
            "text/plain": [
              "'1142900'"
            ]
          },
          "metadata": {
            "tags": []
          },
          "execution_count": 26
        }
      ]
    },
    {
      "cell_type": "code",
      "metadata": {
        "id": "pjpyUZ1yxx85"
      },
      "source": [
        "celu_claro['Precio_Cliente_Claro']=celu_claro['Precio_Cliente_Claro'].apply(lambda x:int(float(x.replace('.',''))))\n",
        "celu_claro['Precio_Original']=celu_claro['Precio_Original'].apply(lambda x:int(float(x.replace('.',''))))"
      ],
      "execution_count": null,
      "outputs": []
    },
    {
      "cell_type": "markdown",
      "metadata": {
        "id": "M4akwRhoxx86"
      },
      "source": [
        "# Extraemos marca del celular"
      ]
    },
    {
      "cell_type": "code",
      "metadata": {
        "colab": {
          "base_uri": "https://localhost:8080/",
          "height": 35
        },
        "id": "XOAQOEPKxx86",
        "outputId": "84963ca8-1d35-4116-f107-3076857301fc"
      },
      "source": [
        "celu_claro['Nombre producto'][0]"
      ],
      "execution_count": null,
      "outputs": [
        {
          "output_type": "execute_result",
          "data": {
            "application/vnd.google.colaboratory.intrinsic+json": {
              "type": "string"
            },
            "text/plain": [
              "'Alcatel 1E 3G'"
            ]
          },
          "metadata": {
            "tags": []
          },
          "execution_count": 28
        }
      ]
    },
    {
      "cell_type": "code",
      "metadata": {
        "colab": {
          "base_uri": "https://localhost:8080/",
          "height": 35
        },
        "id": "J6hzMmwMxx87",
        "outputId": "d9fc82ec-0285-4afd-9e4b-17ff39bfe162"
      },
      "source": [
        "celu_claro['Nombre producto'][20]"
      ],
      "execution_count": null,
      "outputs": [
        {
          "output_type": "execute_result",
          "data": {
            "application/vnd.google.colaboratory.intrinsic+json": {
              "type": "string"
            },
            "text/plain": [
              "'Motorola Moto E6 Play 4G'"
            ]
          },
          "metadata": {
            "tags": []
          },
          "execution_count": 29
        }
      ]
    },
    {
      "cell_type": "code",
      "metadata": {
        "colab": {
          "base_uri": "https://localhost:8080/"
        },
        "id": "wd62dArhxx88",
        "outputId": "3d079bf5-50b7-42ec-c045-c1b973827ad9"
      },
      "source": [
        "celu_claro['Nombre producto'][0].split()"
      ],
      "execution_count": null,
      "outputs": [
        {
          "output_type": "execute_result",
          "data": {
            "text/plain": [
              "['Alcatel', '1E', '3G']"
            ]
          },
          "metadata": {
            "tags": []
          },
          "execution_count": 30
        }
      ]
    },
    {
      "cell_type": "markdown",
      "metadata": {
        "id": "LP9CxzcZxx89"
      },
      "source": [
        "# Creamos nueva columna "
      ]
    },
    {
      "cell_type": "code",
      "metadata": {
        "id": "HnWxNm0Yxx8-"
      },
      "source": [
        "celu_claro['MARCA']=celu_claro['Nombre producto'].apply(lambda x : x.split()[0])"
      ],
      "execution_count": null,
      "outputs": []
    },
    {
      "cell_type": "markdown",
      "metadata": {
        "id": "jHhzXIKQxx8-"
      },
      "source": [
        "<h1><center>EDA -  Analisis Exploratorio de Datos </center></h1>\n",
        "\n",
        "<img src=\"https://teytel.com.co/teytel/img/servicio/img/teytel-celulares-claro.png\">"
      ]
    },
    {
      "cell_type": "markdown",
      "metadata": {
        "id": "chgDp75Txx8_"
      },
      "source": [
        "# Top 10 celulares mas baratos "
      ]
    },
    {
      "cell_type": "code",
      "metadata": {
        "colab": {
          "base_uri": "https://localhost:8080/",
          "height": 359
        },
        "id": "ZQC4fjcmxx9A",
        "outputId": "aa2ab500-dc94-4e46-92e6-ec357bf17a6d"
      },
      "source": [
        " celu_claro.sort_values(by='Precio_Cliente_Claro',ascending=True).head(10)"
      ],
      "execution_count": null,
      "outputs": [
        {
          "output_type": "execute_result",
          "data": {
            "text/html": [
              "<div>\n",
              "<style scoped>\n",
              "    .dataframe tbody tr th:only-of-type {\n",
              "        vertical-align: middle;\n",
              "    }\n",
              "\n",
              "    .dataframe tbody tr th {\n",
              "        vertical-align: top;\n",
              "    }\n",
              "\n",
              "    .dataframe thead th {\n",
              "        text-align: right;\n",
              "    }\n",
              "</style>\n",
              "<table border=\"1\" class=\"dataframe\">\n",
              "  <thead>\n",
              "    <tr style=\"text-align: right;\">\n",
              "      <th></th>\n",
              "      <th>Nombre producto</th>\n",
              "      <th>Precio_Cliente_Claro</th>\n",
              "      <th>Precio_Original</th>\n",
              "      <th>MARCA</th>\n",
              "    </tr>\n",
              "  </thead>\n",
              "  <tbody>\n",
              "    <tr>\n",
              "      <th>83</th>\n",
              "      <td>ZTE Blade L130 16GB 3G</td>\n",
              "      <td>135900</td>\n",
              "      <td>142900</td>\n",
              "      <td>ZTE</td>\n",
              "    </tr>\n",
              "    <tr>\n",
              "      <th>0</th>\n",
              "      <td>Alcatel 1E 3G</td>\n",
              "      <td>139900</td>\n",
              "      <td>154900</td>\n",
              "      <td>Alcatel</td>\n",
              "    </tr>\n",
              "    <tr>\n",
              "      <th>28</th>\n",
              "      <td>Nokia 215 4G</td>\n",
              "      <td>150900</td>\n",
              "      <td>166900</td>\n",
              "      <td>Nokia</td>\n",
              "    </tr>\n",
              "    <tr>\n",
              "      <th>26</th>\n",
              "      <td>Nokia 6300 4G</td>\n",
              "      <td>166900</td>\n",
              "      <td>184900</td>\n",
              "      <td>Nokia</td>\n",
              "    </tr>\n",
              "    <tr>\n",
              "      <th>82</th>\n",
              "      <td>ZTE Blade L8 32GB 3G</td>\n",
              "      <td>170900</td>\n",
              "      <td>189900</td>\n",
              "      <td>ZTE</td>\n",
              "    </tr>\n",
              "    <tr>\n",
              "      <th>44</th>\n",
              "      <td>Samsung Galaxy A01 Core 4G Dual Sim</td>\n",
              "      <td>251900</td>\n",
              "      <td>279900</td>\n",
              "      <td>Samsung</td>\n",
              "    </tr>\n",
              "    <tr>\n",
              "      <th>27</th>\n",
              "      <td>Nokia C1 Plus 32GB 4G</td>\n",
              "      <td>269900</td>\n",
              "      <td>298900</td>\n",
              "      <td>Nokia</td>\n",
              "    </tr>\n",
              "    <tr>\n",
              "      <th>85</th>\n",
              "      <td>ZTE Blade A5 2020 4G con Obsequio</td>\n",
              "      <td>299900</td>\n",
              "      <td>299900</td>\n",
              "      <td>ZTE</td>\n",
              "    </tr>\n",
              "    <tr>\n",
              "      <th>20</th>\n",
              "      <td>Motorola Moto E6 Play 4G</td>\n",
              "      <td>328900</td>\n",
              "      <td>364900</td>\n",
              "      <td>Motorola</td>\n",
              "    </tr>\n",
              "    <tr>\n",
              "      <th>68</th>\n",
              "      <td>Xiaomi Redmi 9A 4G</td>\n",
              "      <td>359900</td>\n",
              "      <td>399900</td>\n",
              "      <td>Xiaomi</td>\n",
              "    </tr>\n",
              "  </tbody>\n",
              "</table>\n",
              "</div>"
            ],
            "text/plain": [
              "                        Nombre producto  ...     MARCA\n",
              "83               ZTE Blade L130 16GB 3G  ...       ZTE\n",
              "0                         Alcatel 1E 3G  ...   Alcatel\n",
              "28                         Nokia 215 4G  ...     Nokia\n",
              "26                        Nokia 6300 4G  ...     Nokia\n",
              "82                 ZTE Blade L8 32GB 3G  ...       ZTE\n",
              "44  Samsung Galaxy A01 Core 4G Dual Sim  ...   Samsung\n",
              "27                Nokia C1 Plus 32GB 4G  ...     Nokia\n",
              "85    ZTE Blade A5 2020 4G con Obsequio  ...       ZTE\n",
              "20             Motorola Moto E6 Play 4G  ...  Motorola\n",
              "68                   Xiaomi Redmi 9A 4G  ...    Xiaomi\n",
              "\n",
              "[10 rows x 4 columns]"
            ]
          },
          "metadata": {
            "tags": []
          },
          "execution_count": 32
        }
      ]
    },
    {
      "cell_type": "markdown",
      "metadata": {
        "id": "wsb5N44Hxx9B"
      },
      "source": [
        "# Top 10 celulares mas caros "
      ]
    },
    {
      "cell_type": "code",
      "metadata": {
        "colab": {
          "base_uri": "https://localhost:8080/",
          "height": 359
        },
        "id": "C4r_qWR8xx9B",
        "outputId": "4443233f-c106-4b24-e83a-e85e78089dc6"
      },
      "source": [
        "celu_claro.sort_values(by='Precio_Cliente_Claro',ascending=False).head(10)"
      ],
      "execution_count": null,
      "outputs": [
        {
          "output_type": "execute_result",
          "data": {
            "text/html": [
              "<div>\n",
              "<style scoped>\n",
              "    .dataframe tbody tr th:only-of-type {\n",
              "        vertical-align: middle;\n",
              "    }\n",
              "\n",
              "    .dataframe tbody tr th {\n",
              "        vertical-align: top;\n",
              "    }\n",
              "\n",
              "    .dataframe thead th {\n",
              "        text-align: right;\n",
              "    }\n",
              "</style>\n",
              "<table border=\"1\" class=\"dataframe\">\n",
              "  <thead>\n",
              "    <tr style=\"text-align: right;\">\n",
              "      <th></th>\n",
              "      <th>Nombre producto</th>\n",
              "      <th>Precio_Cliente_Claro</th>\n",
              "      <th>Precio_Original</th>\n",
              "      <th>MARCA</th>\n",
              "    </tr>\n",
              "  </thead>\n",
              "  <tbody>\n",
              "    <tr>\n",
              "      <th>3</th>\n",
              "      <td>iPhone 12 Pro Max 256GB 4G</td>\n",
              "      <td>6366960</td>\n",
              "      <td>6750960</td>\n",
              "      <td>iPhone</td>\n",
              "    </tr>\n",
              "    <tr>\n",
              "      <th>8</th>\n",
              "      <td>iPhone 12 Pro 256GB 4G</td>\n",
              "      <td>5839960</td>\n",
              "      <td>6193960</td>\n",
              "      <td>iPhone</td>\n",
              "    </tr>\n",
              "    <tr>\n",
              "      <th>2</th>\n",
              "      <td>iPhone 12 Pro Max 128GB 4G</td>\n",
              "      <td>5835960</td>\n",
              "      <td>6187960</td>\n",
              "      <td>iPhone</td>\n",
              "    </tr>\n",
              "    <tr>\n",
              "      <th>7</th>\n",
              "      <td>iPhone 12 Pro 128GB 4G</td>\n",
              "      <td>5309960</td>\n",
              "      <td>5629960</td>\n",
              "      <td>iPhone</td>\n",
              "    </tr>\n",
              "    <tr>\n",
              "      <th>59</th>\n",
              "      <td>Samsung Galaxy Note 20 Ultra 4G con Obsequ</td>\n",
              "      <td>4499950</td>\n",
              "      <td>4999950</td>\n",
              "      <td>Samsung</td>\n",
              "    </tr>\n",
              "    <tr>\n",
              "      <th>6</th>\n",
              "      <td>iPhone 12 128GB 4G</td>\n",
              "      <td>4216960</td>\n",
              "      <td>4216960</td>\n",
              "      <td>iPhone</td>\n",
              "    </tr>\n",
              "    <tr>\n",
              "      <th>5</th>\n",
              "      <td>iPhone 12 64GB 4G</td>\n",
              "      <td>3949960</td>\n",
              "      <td>3949960</td>\n",
              "      <td>iPhone</td>\n",
              "    </tr>\n",
              "    <tr>\n",
              "      <th>4</th>\n",
              "      <td>iPhone 12 Mini 64GB 4G</td>\n",
              "      <td>3416960</td>\n",
              "      <td>3416960</td>\n",
              "      <td>iPhone</td>\n",
              "    </tr>\n",
              "    <tr>\n",
              "      <th>9</th>\n",
              "      <td>iPhone 11 128GB 4G</td>\n",
              "      <td>3230960</td>\n",
              "      <td>3230960</td>\n",
              "      <td>iPhone</td>\n",
              "    </tr>\n",
              "    <tr>\n",
              "      <th>11</th>\n",
              "      <td>iPhone 11 64GB 4G</td>\n",
              "      <td>2964960</td>\n",
              "      <td>2964960</td>\n",
              "      <td>iPhone</td>\n",
              "    </tr>\n",
              "  </tbody>\n",
              "</table>\n",
              "</div>"
            ],
            "text/plain": [
              "                               Nombre producto  ...    MARCA\n",
              "3                   iPhone 12 Pro Max 256GB 4G  ...   iPhone\n",
              "8                       iPhone 12 Pro 256GB 4G  ...   iPhone\n",
              "2                   iPhone 12 Pro Max 128GB 4G  ...   iPhone\n",
              "7                       iPhone 12 Pro 128GB 4G  ...   iPhone\n",
              "59  Samsung Galaxy Note 20 Ultra 4G con Obsequ  ...  Samsung\n",
              "6                           iPhone 12 128GB 4G  ...   iPhone\n",
              "5                            iPhone 12 64GB 4G  ...   iPhone\n",
              "4                       iPhone 12 Mini 64GB 4G  ...   iPhone\n",
              "9                           iPhone 11 128GB 4G  ...   iPhone\n",
              "11                           iPhone 11 64GB 4G  ...   iPhone\n",
              "\n",
              "[10 rows x 4 columns]"
            ]
          },
          "metadata": {
            "tags": []
          },
          "execution_count": 33
        }
      ]
    },
    {
      "cell_type": "markdown",
      "metadata": {
        "id": "-SeSTW26xx9C"
      },
      "source": [
        "# Celulares por marca"
      ]
    },
    {
      "cell_type": "code",
      "metadata": {
        "colab": {
          "base_uri": "https://localhost:8080/"
        },
        "id": "dAhArR-oxx9D",
        "outputId": "57f57523-ab9e-4da2-a7d8-fac3bb6f0cc1"
      },
      "source": [
        "celu_claro['MARCA'].value_counts()"
      ],
      "execution_count": null,
      "outputs": [
        {
          "output_type": "execute_result",
          "data": {
            "text/plain": [
              "Samsung     20\n",
              "Xiaomi      13\n",
              "iPhone      11\n",
              "Nokia        9\n",
              "Motorola     7\n",
              "ZTE          6\n",
              "Vivo         5\n",
              "Huawei       5\n",
              "TCL          3\n",
              "Realme       3\n",
              "Alcatel      2\n",
              "Oppo         2\n",
              "LG           1\n",
              "Name: MARCA, dtype: int64"
            ]
          },
          "metadata": {
            "tags": []
          },
          "execution_count": 34
        }
      ]
    },
    {
      "cell_type": "code",
      "metadata": {
        "colab": {
          "base_uri": "https://localhost:8080/",
          "height": 297
        },
        "id": "kO1FSGyMxx9E",
        "outputId": "ea14cadb-8121-4119-c360-23ff88c83869"
      },
      "source": [
        "celu_claro.describe()"
      ],
      "execution_count": null,
      "outputs": [
        {
          "output_type": "execute_result",
          "data": {
            "text/html": [
              "<div>\n",
              "<style scoped>\n",
              "    .dataframe tbody tr th:only-of-type {\n",
              "        vertical-align: middle;\n",
              "    }\n",
              "\n",
              "    .dataframe tbody tr th {\n",
              "        vertical-align: top;\n",
              "    }\n",
              "\n",
              "    .dataframe thead th {\n",
              "        text-align: right;\n",
              "    }\n",
              "</style>\n",
              "<table border=\"1\" class=\"dataframe\">\n",
              "  <thead>\n",
              "    <tr style=\"text-align: right;\">\n",
              "      <th></th>\n",
              "      <th>Precio_Cliente_Claro</th>\n",
              "      <th>Precio_Original</th>\n",
              "    </tr>\n",
              "  </thead>\n",
              "  <tbody>\n",
              "    <tr>\n",
              "      <th>count</th>\n",
              "      <td>8.700000e+01</td>\n",
              "      <td>8.700000e+01</td>\n",
              "    </tr>\n",
              "    <tr>\n",
              "      <th>mean</th>\n",
              "      <td>1.213786e+06</td>\n",
              "      <td>1.293337e+06</td>\n",
              "    </tr>\n",
              "    <tr>\n",
              "      <th>std</th>\n",
              "      <td>1.372074e+06</td>\n",
              "      <td>1.440038e+06</td>\n",
              "    </tr>\n",
              "    <tr>\n",
              "      <th>min</th>\n",
              "      <td>1.359000e+05</td>\n",
              "      <td>1.429000e+05</td>\n",
              "    </tr>\n",
              "    <tr>\n",
              "      <th>25%</th>\n",
              "      <td>4.734000e+05</td>\n",
              "      <td>5.244000e+05</td>\n",
              "    </tr>\n",
              "    <tr>\n",
              "      <th>50%</th>\n",
              "      <td>6.569000e+05</td>\n",
              "      <td>6.909000e+05</td>\n",
              "    </tr>\n",
              "    <tr>\n",
              "      <th>75%</th>\n",
              "      <td>1.210425e+06</td>\n",
              "      <td>1.273925e+06</td>\n",
              "    </tr>\n",
              "    <tr>\n",
              "      <th>max</th>\n",
              "      <td>6.366960e+06</td>\n",
              "      <td>6.750960e+06</td>\n",
              "    </tr>\n",
              "  </tbody>\n",
              "</table>\n",
              "</div>"
            ],
            "text/plain": [
              "       Precio_Cliente_Claro  Precio_Original\n",
              "count          8.700000e+01     8.700000e+01\n",
              "mean           1.213786e+06     1.293337e+06\n",
              "std            1.372074e+06     1.440038e+06\n",
              "min            1.359000e+05     1.429000e+05\n",
              "25%            4.734000e+05     5.244000e+05\n",
              "50%            6.569000e+05     6.909000e+05\n",
              "75%            1.210425e+06     1.273925e+06\n",
              "max            6.366960e+06     6.750960e+06"
            ]
          },
          "metadata": {
            "tags": []
          },
          "execution_count": 35
        }
      ]
    },
    {
      "cell_type": "markdown",
      "metadata": {
        "id": "xT0beUONxx9F"
      },
      "source": [
        "# Clasificación por gama de celular \n",
        "\n",
        "\n",
        "Teniendo en cuenta la tabla inmediatamente anterior deseamos establecer cuando un celular es gama baja ,media y alta pára eso estableciomos los siguientes topes : \n",
        "\n",
        "* $gamabaja \\lt {500000}$\n",
        "* $ {500000} \\gt gamamedia \\lt {1200000}$\n",
        "* $gamaalta \\gt{1200000}$"
      ]
    },
    {
      "cell_type": "code",
      "metadata": {
        "id": "r4fpY2k9xx9G"
      },
      "source": [
        "celu_claro.loc[celu_claro['Precio_Cliente_Claro']<475000,'GAMA']='BAJA'\n",
        "celu_claro.loc[(celu_claro['Precio_Cliente_Claro']>=475000) & (celu_claro['Precio_Cliente_Claro']<=1200000),'GAMA']='MEDIA'\n",
        "celu_claro.loc[celu_claro['Precio_Cliente_Claro']>1200000,'GAMA']='ALTA'"
      ],
      "execution_count": null,
      "outputs": []
    },
    {
      "cell_type": "markdown",
      "metadata": {
        "id": "-Qm3Q8iAxx9G"
      },
      "source": [
        "# Cuantos celulares por gama"
      ]
    },
    {
      "cell_type": "code",
      "metadata": {
        "colab": {
          "base_uri": "https://localhost:8080/"
        },
        "id": "O9wrM1FUxx9H",
        "outputId": "754fe1a1-5809-483b-b2b5-ffc4c660c048"
      },
      "source": [
        "celu_claro['GAMA'].value_counts()"
      ],
      "execution_count": null,
      "outputs": [
        {
          "output_type": "execute_result",
          "data": {
            "text/plain": [
              "MEDIA    43\n",
              "ALTA     22\n",
              "BAJA     22\n",
              "Name: GAMA, dtype: int64"
            ]
          },
          "metadata": {
            "tags": []
          },
          "execution_count": 37
        }
      ]
    },
    {
      "cell_type": "markdown",
      "metadata": {
        "id": "9V-LjhNUxx9I"
      },
      "source": [
        "# Promedio de precios por gama"
      ]
    },
    {
      "cell_type": "code",
      "metadata": {
        "colab": {
          "base_uri": "https://localhost:8080/",
          "height": 142
        },
        "id": "o4KJ3ZuVxx9I",
        "outputId": "e10e2f34-8272-4fe1-a14f-f5534d1224f7"
      },
      "source": [
        "celu_claro[['GAMA','Precio_Cliente_Claro']].groupby('GAMA').mean().reset_index()"
      ],
      "execution_count": null,
      "outputs": [
        {
          "output_type": "execute_result",
          "data": {
            "text/html": [
              "<div>\n",
              "<style scoped>\n",
              "    .dataframe tbody tr th:only-of-type {\n",
              "        vertical-align: middle;\n",
              "    }\n",
              "\n",
              "    .dataframe tbody tr th {\n",
              "        vertical-align: top;\n",
              "    }\n",
              "\n",
              "    .dataframe thead th {\n",
              "        text-align: right;\n",
              "    }\n",
              "</style>\n",
              "<table border=\"1\" class=\"dataframe\">\n",
              "  <thead>\n",
              "    <tr style=\"text-align: right;\">\n",
              "      <th></th>\n",
              "      <th>GAMA</th>\n",
              "      <th>Precio_Cliente_Claro</th>\n",
              "    </tr>\n",
              "  </thead>\n",
              "  <tbody>\n",
              "    <tr>\n",
              "      <th>0</th>\n",
              "      <td>ALTA</td>\n",
              "      <td>3.082803e+06</td>\n",
              "    </tr>\n",
              "    <tr>\n",
              "      <th>1</th>\n",
              "      <td>BAJA</td>\n",
              "      <td>3.273545e+05</td>\n",
              "    </tr>\n",
              "    <tr>\n",
              "      <th>2</th>\n",
              "      <td>MEDIA</td>\n",
              "      <td>7.110674e+05</td>\n",
              "    </tr>\n",
              "  </tbody>\n",
              "</table>\n",
              "</div>"
            ],
            "text/plain": [
              "    GAMA  Precio_Cliente_Claro\n",
              "0   ALTA          3.082803e+06\n",
              "1   BAJA          3.273545e+05\n",
              "2  MEDIA          7.110674e+05"
            ]
          },
          "metadata": {
            "tags": []
          },
          "execution_count": 38
        }
      ]
    },
    {
      "cell_type": "code",
      "metadata": {
        "colab": {
          "base_uri": "https://localhost:8080/",
          "height": 1000
        },
        "id": "OjY7YZt1xx9J",
        "outputId": "1de117d0-17ae-439b-8e38-cc41022ef541"
      },
      "source": [
        "celu_claro[celu_claro['GAMA']=='MEDIA']"
      ],
      "execution_count": null,
      "outputs": [
        {
          "output_type": "execute_result",
          "data": {
            "text/html": [
              "<div>\n",
              "<style scoped>\n",
              "    .dataframe tbody tr th:only-of-type {\n",
              "        vertical-align: middle;\n",
              "    }\n",
              "\n",
              "    .dataframe tbody tr th {\n",
              "        vertical-align: top;\n",
              "    }\n",
              "\n",
              "    .dataframe thead th {\n",
              "        text-align: right;\n",
              "    }\n",
              "</style>\n",
              "<table border=\"1\" class=\"dataframe\">\n",
              "  <thead>\n",
              "    <tr style=\"text-align: right;\">\n",
              "      <th></th>\n",
              "      <th>Nombre producto</th>\n",
              "      <th>Precio_Cliente_Claro</th>\n",
              "      <th>Precio_Original</th>\n",
              "      <th>MARCA</th>\n",
              "      <th>GAMA</th>\n",
              "    </tr>\n",
              "  </thead>\n",
              "  <tbody>\n",
              "    <tr>\n",
              "      <th>13</th>\n",
              "      <td>Huawei Y7a 4G con Obsequio</td>\n",
              "      <td>620900</td>\n",
              "      <td>688900</td>\n",
              "      <td>Huawei</td>\n",
              "      <td>MEDIA</td>\n",
              "    </tr>\n",
              "    <tr>\n",
              "      <th>14</th>\n",
              "      <td>Huawei Y9a 4G con Obsequio</td>\n",
              "      <td>1124900</td>\n",
              "      <td>1249900</td>\n",
              "      <td>Huawei</td>\n",
              "      <td>MEDIA</td>\n",
              "    </tr>\n",
              "    <tr>\n",
              "      <th>15</th>\n",
              "      <td>Huawei Y6P 4G</td>\n",
              "      <td>499900</td>\n",
              "      <td>554900</td>\n",
              "      <td>Huawei</td>\n",
              "      <td>MEDIA</td>\n",
              "    </tr>\n",
              "    <tr>\n",
              "      <th>16</th>\n",
              "      <td>Huawei Y9a 4G</td>\n",
              "      <td>1124900</td>\n",
              "      <td>1249900</td>\n",
              "      <td>Huawei</td>\n",
              "      <td>MEDIA</td>\n",
              "    </tr>\n",
              "    <tr>\n",
              "      <th>17</th>\n",
              "      <td>Huawei Y7a 4G con Obsequio</td>\n",
              "      <td>620900</td>\n",
              "      <td>688900</td>\n",
              "      <td>Huawei</td>\n",
              "      <td>MEDIA</td>\n",
              "    </tr>\n",
              "    <tr>\n",
              "      <th>18</th>\n",
              "      <td>LG K61 128GB</td>\n",
              "      <td>579900</td>\n",
              "      <td>579900</td>\n",
              "      <td>LG</td>\n",
              "      <td>MEDIA</td>\n",
              "    </tr>\n",
              "    <tr>\n",
              "      <th>22</th>\n",
              "      <td>Motorola Moto G9 Power 4G</td>\n",
              "      <td>693900</td>\n",
              "      <td>770900</td>\n",
              "      <td>Motorola</td>\n",
              "      <td>MEDIA</td>\n",
              "    </tr>\n",
              "    <tr>\n",
              "      <th>23</th>\n",
              "      <td>Motorola Moto G9 Play 4G</td>\n",
              "      <td>549900</td>\n",
              "      <td>610900</td>\n",
              "      <td>Motorola</td>\n",
              "      <td>MEDIA</td>\n",
              "    </tr>\n",
              "    <tr>\n",
              "      <th>24</th>\n",
              "      <td>Motorola Moto G20 4G</td>\n",
              "      <td>584900</td>\n",
              "      <td>649900</td>\n",
              "      <td>Motorola</td>\n",
              "      <td>MEDIA</td>\n",
              "    </tr>\n",
              "    <tr>\n",
              "      <th>29</th>\n",
              "      <td>Nokia 5.4 128GB 4G</td>\n",
              "      <td>665900</td>\n",
              "      <td>738900</td>\n",
              "      <td>Nokia</td>\n",
              "      <td>MEDIA</td>\n",
              "    </tr>\n",
              "    <tr>\n",
              "      <th>32</th>\n",
              "      <td>Nokia G20 128GB 4G</td>\n",
              "      <td>611900</td>\n",
              "      <td>679900</td>\n",
              "      <td>Nokia</td>\n",
              "      <td>MEDIA</td>\n",
              "    </tr>\n",
              "    <tr>\n",
              "      <th>35</th>\n",
              "      <td>Oppo A54 128GB 4G con Obsequio</td>\n",
              "      <td>692900</td>\n",
              "      <td>769900</td>\n",
              "      <td>Oppo</td>\n",
              "      <td>MEDIA</td>\n",
              "    </tr>\n",
              "    <tr>\n",
              "      <th>36</th>\n",
              "      <td>Oppo Reno 5 Lite 4G</td>\n",
              "      <td>1142900</td>\n",
              "      <td>1268900</td>\n",
              "      <td>Oppo</td>\n",
              "      <td>MEDIA</td>\n",
              "    </tr>\n",
              "    <tr>\n",
              "      <th>37</th>\n",
              "      <td>Realme 7i 128GB 4G</td>\n",
              "      <td>678900</td>\n",
              "      <td>797900</td>\n",
              "      <td>Realme</td>\n",
              "      <td>MEDIA</td>\n",
              "    </tr>\n",
              "    <tr>\n",
              "      <th>38</th>\n",
              "      <td>Realme C15 128GB 4G</td>\n",
              "      <td>621900</td>\n",
              "      <td>690900</td>\n",
              "      <td>Realme</td>\n",
              "      <td>MEDIA</td>\n",
              "    </tr>\n",
              "    <tr>\n",
              "      <th>39</th>\n",
              "      <td>Realme C15 128GB 4G con Obsequio</td>\n",
              "      <td>621900</td>\n",
              "      <td>690900</td>\n",
              "      <td>Realme</td>\n",
              "      <td>MEDIA</td>\n",
              "    </tr>\n",
              "    <tr>\n",
              "      <th>41</th>\n",
              "      <td>Samsung Galaxy A31 128GB 4G</td>\n",
              "      <td>796900</td>\n",
              "      <td>796900</td>\n",
              "      <td>Samsung</td>\n",
              "      <td>MEDIA</td>\n",
              "    </tr>\n",
              "    <tr>\n",
              "      <th>42</th>\n",
              "      <td>Samsung Galaxy A21S 128GB 4G</td>\n",
              "      <td>680900</td>\n",
              "      <td>680900</td>\n",
              "      <td>Samsung</td>\n",
              "      <td>MEDIA</td>\n",
              "    </tr>\n",
              "    <tr>\n",
              "      <th>43</th>\n",
              "      <td>Samsung Galaxy A51 4G</td>\n",
              "      <td>999950</td>\n",
              "      <td>999950</td>\n",
              "      <td>Samsung</td>\n",
              "      <td>MEDIA</td>\n",
              "    </tr>\n",
              "    <tr>\n",
              "      <th>47</th>\n",
              "      <td>Samsung Galaxy A12 128GB 4G</td>\n",
              "      <td>679900</td>\n",
              "      <td>754900</td>\n",
              "      <td>Samsung</td>\n",
              "      <td>MEDIA</td>\n",
              "    </tr>\n",
              "    <tr>\n",
              "      <th>49</th>\n",
              "      <td>Samsung Galaxy A12 64GB 4G</td>\n",
              "      <td>540900</td>\n",
              "      <td>540900</td>\n",
              "      <td>Samsung</td>\n",
              "      <td>MEDIA</td>\n",
              "    </tr>\n",
              "    <tr>\n",
              "      <th>51</th>\n",
              "      <td>Samsung Galaxy A32 5G</td>\n",
              "      <td>1142950</td>\n",
              "      <td>1269950</td>\n",
              "      <td>Samsung</td>\n",
              "      <td>MEDIA</td>\n",
              "    </tr>\n",
              "    <tr>\n",
              "      <th>52</th>\n",
              "      <td>Samsung Galaxy A12 64GB 4G Dual Sim</td>\n",
              "      <td>540900</td>\n",
              "      <td>540900</td>\n",
              "      <td>Samsung</td>\n",
              "      <td>MEDIA</td>\n",
              "    </tr>\n",
              "    <tr>\n",
              "      <th>54</th>\n",
              "      <td>Samsung Galaxy A21S 128GB 4G Dual Sim</td>\n",
              "      <td>656900</td>\n",
              "      <td>656900</td>\n",
              "      <td>Samsung</td>\n",
              "      <td>MEDIA</td>\n",
              "    </tr>\n",
              "    <tr>\n",
              "      <th>56</th>\n",
              "      <td>Samsung Galaxy M12 128GB 4G con Obsequio</td>\n",
              "      <td>727900</td>\n",
              "      <td>727900</td>\n",
              "      <td>Samsung</td>\n",
              "      <td>MEDIA</td>\n",
              "    </tr>\n",
              "    <tr>\n",
              "      <th>57</th>\n",
              "      <td>Samsung Galaxy A32 4G</td>\n",
              "      <td>998950</td>\n",
              "      <td>1109950</td>\n",
              "      <td>Samsung</td>\n",
              "      <td>MEDIA</td>\n",
              "    </tr>\n",
              "    <tr>\n",
              "      <th>58</th>\n",
              "      <td>Samsung Galaxy A32 4G Dual Sim con Obsequi</td>\n",
              "      <td>998950</td>\n",
              "      <td>1109950</td>\n",
              "      <td>Samsung</td>\n",
              "      <td>MEDIA</td>\n",
              "    </tr>\n",
              "    <tr>\n",
              "      <th>60</th>\n",
              "      <td>TCL 20E 64GB 4G</td>\n",
              "      <td>498900</td>\n",
              "      <td>553900</td>\n",
              "      <td>TCL</td>\n",
              "      <td>MEDIA</td>\n",
              "    </tr>\n",
              "    <tr>\n",
              "      <th>61</th>\n",
              "      <td>TCL 20E 128GB 4G</td>\n",
              "      <td>575900</td>\n",
              "      <td>639900</td>\n",
              "      <td>TCL</td>\n",
              "      <td>MEDIA</td>\n",
              "    </tr>\n",
              "    <tr>\n",
              "      <th>62</th>\n",
              "      <td>TCL 20E 128GB con Obsequio</td>\n",
              "      <td>639900</td>\n",
              "      <td>639900</td>\n",
              "      <td>TCL</td>\n",
              "      <td>MEDIA</td>\n",
              "    </tr>\n",
              "    <tr>\n",
              "      <th>64</th>\n",
              "      <td>Vivo Y30 64GB 4G Dual Sim</td>\n",
              "      <td>494900</td>\n",
              "      <td>549900</td>\n",
              "      <td>Vivo</td>\n",
              "      <td>MEDIA</td>\n",
              "    </tr>\n",
              "    <tr>\n",
              "      <th>66</th>\n",
              "      <td>Vivo Y20s 128GB 4G</td>\n",
              "      <td>608900</td>\n",
              "      <td>675900</td>\n",
              "      <td>Vivo</td>\n",
              "      <td>MEDIA</td>\n",
              "    </tr>\n",
              "    <tr>\n",
              "      <th>67</th>\n",
              "      <td>Vivo Y51 128GB 4G</td>\n",
              "      <td>718900</td>\n",
              "      <td>797900</td>\n",
              "      <td>Vivo</td>\n",
              "      <td>MEDIA</td>\n",
              "    </tr>\n",
              "    <tr>\n",
              "      <th>69</th>\n",
              "      <td>Xiaomi Redmi 9C 4G</td>\n",
              "      <td>476900</td>\n",
              "      <td>528900</td>\n",
              "      <td>Xiaomi</td>\n",
              "      <td>MEDIA</td>\n",
              "    </tr>\n",
              "    <tr>\n",
              "      <th>70</th>\n",
              "      <td>Xiaomi Redmi Note 9 4G</td>\n",
              "      <td>629900</td>\n",
              "      <td>629900</td>\n",
              "      <td>Xiaomi</td>\n",
              "      <td>MEDIA</td>\n",
              "    </tr>\n",
              "    <tr>\n",
              "      <th>71</th>\n",
              "      <td>Xiaomi Redmi 9T 4G</td>\n",
              "      <td>692900</td>\n",
              "      <td>769900</td>\n",
              "      <td>Xiaomi</td>\n",
              "      <td>MEDIA</td>\n",
              "    </tr>\n",
              "    <tr>\n",
              "      <th>73</th>\n",
              "      <td>Xiaomi Redmi Note 10 5G</td>\n",
              "      <td>797900</td>\n",
              "      <td>999900</td>\n",
              "      <td>Xiaomi</td>\n",
              "      <td>MEDIA</td>\n",
              "    </tr>\n",
              "    <tr>\n",
              "      <th>74</th>\n",
              "      <td>Xiaomi Redmi Note 8 128GB 4G con Obse(...)</td>\n",
              "      <td>677900</td>\n",
              "      <td>752900</td>\n",
              "      <td>Xiaomi</td>\n",
              "      <td>MEDIA</td>\n",
              "    </tr>\n",
              "    <tr>\n",
              "      <th>75</th>\n",
              "      <td>Xiaomi Redmi 9 4G con Obsequio</td>\n",
              "      <td>539900</td>\n",
              "      <td>599900</td>\n",
              "      <td>Xiaomi</td>\n",
              "      <td>MEDIA</td>\n",
              "    </tr>\n",
              "    <tr>\n",
              "      <th>76</th>\n",
              "      <td>Xiaomi Redmi Note 10S 4G</td>\n",
              "      <td>1079900</td>\n",
              "      <td>1199900</td>\n",
              "      <td>Xiaomi</td>\n",
              "      <td>MEDIA</td>\n",
              "    </tr>\n",
              "    <tr>\n",
              "      <th>77</th>\n",
              "      <td>Xiaomi Poco M3 4G</td>\n",
              "      <td>796900</td>\n",
              "      <td>796900</td>\n",
              "      <td>Xiaomi</td>\n",
              "      <td>MEDIA</td>\n",
              "    </tr>\n",
              "    <tr>\n",
              "      <th>81</th>\n",
              "      <td>ZTE Blade A7 2020 4G</td>\n",
              "      <td>543900</td>\n",
              "      <td>543900</td>\n",
              "      <td>ZTE</td>\n",
              "      <td>MEDIA</td>\n",
              "    </tr>\n",
              "    <tr>\n",
              "      <th>84</th>\n",
              "      <td>ZTE Blade V20 Smart 128GB 4G</td>\n",
              "      <td>600900</td>\n",
              "      <td>666900</td>\n",
              "      <td>ZTE</td>\n",
              "      <td>MEDIA</td>\n",
              "    </tr>\n",
              "  </tbody>\n",
              "</table>\n",
              "</div>"
            ],
            "text/plain": [
              "                               Nombre producto  ...   GAMA\n",
              "13                  Huawei Y7a 4G con Obsequio  ...  MEDIA\n",
              "14                  Huawei Y9a 4G con Obsequio  ...  MEDIA\n",
              "15                               Huawei Y6P 4G  ...  MEDIA\n",
              "16                               Huawei Y9a 4G  ...  MEDIA\n",
              "17                  Huawei Y7a 4G con Obsequio  ...  MEDIA\n",
              "18                                LG K61 128GB  ...  MEDIA\n",
              "22                   Motorola Moto G9 Power 4G  ...  MEDIA\n",
              "23                    Motorola Moto G9 Play 4G  ...  MEDIA\n",
              "24                        Motorola Moto G20 4G  ...  MEDIA\n",
              "29                          Nokia 5.4 128GB 4G  ...  MEDIA\n",
              "32                          Nokia G20 128GB 4G  ...  MEDIA\n",
              "35              Oppo A54 128GB 4G con Obsequio  ...  MEDIA\n",
              "36                         Oppo Reno 5 Lite 4G  ...  MEDIA\n",
              "37                          Realme 7i 128GB 4G  ...  MEDIA\n",
              "38                         Realme C15 128GB 4G  ...  MEDIA\n",
              "39            Realme C15 128GB 4G con Obsequio  ...  MEDIA\n",
              "41                 Samsung Galaxy A31 128GB 4G  ...  MEDIA\n",
              "42                Samsung Galaxy A21S 128GB 4G  ...  MEDIA\n",
              "43                       Samsung Galaxy A51 4G  ...  MEDIA\n",
              "47                 Samsung Galaxy A12 128GB 4G  ...  MEDIA\n",
              "49                  Samsung Galaxy A12 64GB 4G  ...  MEDIA\n",
              "51                       Samsung Galaxy A32 5G  ...  MEDIA\n",
              "52         Samsung Galaxy A12 64GB 4G Dual Sim  ...  MEDIA\n",
              "54       Samsung Galaxy A21S 128GB 4G Dual Sim  ...  MEDIA\n",
              "56    Samsung Galaxy M12 128GB 4G con Obsequio  ...  MEDIA\n",
              "57                       Samsung Galaxy A32 4G  ...  MEDIA\n",
              "58  Samsung Galaxy A32 4G Dual Sim con Obsequi  ...  MEDIA\n",
              "60                             TCL 20E 64GB 4G  ...  MEDIA\n",
              "61                            TCL 20E 128GB 4G  ...  MEDIA\n",
              "62                  TCL 20E 128GB con Obsequio  ...  MEDIA\n",
              "64                   Vivo Y30 64GB 4G Dual Sim  ...  MEDIA\n",
              "66                          Vivo Y20s 128GB 4G  ...  MEDIA\n",
              "67                           Vivo Y51 128GB 4G  ...  MEDIA\n",
              "69                          Xiaomi Redmi 9C 4G  ...  MEDIA\n",
              "70                      Xiaomi Redmi Note 9 4G  ...  MEDIA\n",
              "71                          Xiaomi Redmi 9T 4G  ...  MEDIA\n",
              "73                     Xiaomi Redmi Note 10 5G  ...  MEDIA\n",
              "74  Xiaomi Redmi Note 8 128GB 4G con Obse(...)  ...  MEDIA\n",
              "75              Xiaomi Redmi 9 4G con Obsequio  ...  MEDIA\n",
              "76                    Xiaomi Redmi Note 10S 4G  ...  MEDIA\n",
              "77                           Xiaomi Poco M3 4G  ...  MEDIA\n",
              "81                        ZTE Blade A7 2020 4G  ...  MEDIA\n",
              "84                ZTE Blade V20 Smart 128GB 4G  ...  MEDIA\n",
              "\n",
              "[43 rows x 5 columns]"
            ]
          },
          "metadata": {
            "tags": []
          },
          "execution_count": 39
        }
      ]
    },
    {
      "cell_type": "markdown",
      "metadata": {
        "id": "5XfU3nxdxx9K"
      },
      "source": [
        "# FINAL ............"
      ]
    },
    {
      "cell_type": "code",
      "metadata": {
        "id": "pUueFhjSxx9K"
      },
      "source": [
        ""
      ],
      "execution_count": null,
      "outputs": []
    }
  ]
}